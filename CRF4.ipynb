{
 "cells": [
  {
   "cell_type": "code",
   "execution_count": 1,
   "metadata": {},
   "outputs": [],
   "source": [
    "# -*- coding: utf-8 -*-\n",
    "# --------------------------------------------------\n",
    "#\n",
    "# CRF4.ipynb\n",
    "#\n",
    "# (1) Token lemmatization using Zemberek TurkishMorphology  (DO NOT lemmatize tokens starting with uppercase letter)\n",
    "# (2) Token features:\n",
    "#     (a) token\n",
    "#     (b) is_first           : is token at the beginning of the sentence?\n",
    "#     (c) is_last            : is token at the end of the sentence?\n",
    "#     (d) is_capitalized     : does token start with a capital letter? \n",
    "#     (e) is_all_capitalized : is all letters of the token capitalized?\n",
    "#     (f) is_capitals_inside : is there any capitalized letter inside the token?\n",
    "#     (g) is_numeric         : is token numeric?\n",
    "#     (h) prefix-1           : first letter of the token\n",
    "#     (i) suffix-1           : last letter of the token\n",
    "#     (j) prefix-2           : first two letters of the token\n",
    "#     (k) suffix-2           : last two letters of the token\n",
    "#\n",
    "# Written by cetinsamet -*- cetin.samet@metu.edu.tr\n",
    "# May, 2019\n",
    "# --------------------------------------------------"
   ]
  },
  {
   "cell_type": "code",
   "execution_count": 2,
   "metadata": {},
   "outputs": [],
   "source": [
    "from sklearn.model_selection import RandomizedSearchCV\n",
    "from seqeval.metrics import classification_report\n",
    "from sklearn.metrics import make_scorer\n",
    "from sklearn_crfsuite import metrics\n",
    "from sklearn_crfsuite import CRF\n",
    "import jpype as jp\n",
    "import pickle\n",
    "import scipy"
   ]
  },
  {
   "cell_type": "code",
   "execution_count": 3,
   "metadata": {},
   "outputs": [],
   "source": [
    "ZEMBEREK_PATH = 'bin/zemberek-full.jar'\n",
    "\n",
    "# Start the JVM\n",
    "jp.startJVM(jp.getDefaultJVMPath(), '-ea', '-Djava.class.path=%s' % (ZEMBEREK_PATH))"
   ]
  },
  {
   "cell_type": "code",
   "execution_count": 4,
   "metadata": {},
   "outputs": [],
   "source": [
    "TurkishMorphology = jp.JClass('zemberek.morphology.TurkishMorphology')\n",
    "morphology        = TurkishMorphology.createWithDefaults()"
   ]
  },
  {
   "cell_type": "code",
   "execution_count": 5,
   "metadata": {},
   "outputs": [],
   "source": [
    "def readFile(filepath):\n",
    "\n",
    "    text     = []\n",
    "    sentence = []\n",
    "\n",
    "    with open(filepath, 'r') as infile:\n",
    "        for line in infile:\n",
    "            word, _, _, _ = line.strip().split('\\t')\n",
    "\n",
    "            if word == '<S>':\n",
    "                text.append(sentence)\n",
    "                sentence = []\n",
    "                continue\n",
    "\n",
    "            sentence.append(line.strip())\n",
    "\n",
    "    return text"
   ]
  },
  {
   "cell_type": "code",
   "execution_count": 6,
   "metadata": {},
   "outputs": [],
   "source": [
    "trainText = readFile('data/train.txt')\n",
    "validText = readFile('data/valid.txt')\n",
    "testText  = readFile('data/test.txt')"
   ]
  },
  {
   "cell_type": "code",
   "execution_count": 8,
   "metadata": {},
   "outputs": [],
   "source": [
    "def getFeature(token, token_index, sentence):\n",
    "\n",
    "    feature = {'token'             : token,\n",
    "               'is_first'          : token_index == 0,\n",
    "               'is_last'           : token_index == len(sentence) - 1,\n",
    "               \n",
    "               'is_capitalized'    : token[0].upper() == token[0],\n",
    "               'is_all_capitalized': token.upper() == token,\n",
    "               'is_capitals_inside': token[1:].lower() != token[1:],\n",
    "               'is_numeric'        : token.isdigit(),\n",
    "               \n",
    "               'prefix-1'          : token[0],\n",
    "               'suffix-1'          : token[-1],\n",
    "               \n",
    "               'prefix-2'          : '' if len(token) < 2  else token[:2],\n",
    "               'suffix-2'          : '' if len(token) < 2  else token[-2:]\n",
    "              }\n",
    "    \n",
    "    return feature"
   ]
  },
  {
   "cell_type": "code",
   "execution_count": 9,
   "metadata": {},
   "outputs": [],
   "source": [
    "trainFeatures = []\n",
    "trainLabels   = []\n",
    "\n",
    "for sentence in trainText:\n",
    "    SENT     = []\n",
    "    features = []\n",
    "    labels   = []\n",
    "    for token in sentence:\n",
    "        word, _, _, label = token.split('\\t')\n",
    "        \n",
    "        if word[0] == word[0].upper():\n",
    "            root = word\n",
    "        else:\n",
    "            results = morphology.analyze(word).analysisResults\n",
    "            root    = results[0].getLemmas()[0] if results else word\n",
    "        SENT.append(root)\n",
    "        labels.append(label)\n",
    "        \n",
    "    for i, word in enumerate(SENT):\n",
    "        features.append(getFeature(word, i, SENT))\n",
    "    \n",
    "    trainFeatures.append(features)\n",
    "    trainLabels.append(labels)"
   ]
  },
  {
   "cell_type": "code",
   "execution_count": 10,
   "metadata": {},
   "outputs": [],
   "source": [
    "validFeatures = []\n",
    "validLabels   = []\n",
    "\n",
    "for sentence in validText:\n",
    "    SENT     = []\n",
    "    features = []\n",
    "    labels   = []\n",
    "    for token in sentence:\n",
    "        word, _, _, label = token.split('\\t')\n",
    "        \n",
    "        if word[0] == word[0].upper():\n",
    "            root = word\n",
    "        else:\n",
    "            results = morphology.analyze(word).analysisResults\n",
    "            root    = results[0].getLemmas()[0] if results else word\n",
    "        SENT.append(root)\n",
    "        labels.append(label)\n",
    "        \n",
    "    for i, word in enumerate(SENT):\n",
    "        features.append(getFeature(word, i, SENT))\n",
    "    \n",
    "    validFeatures.append(features)\n",
    "    validLabels.append(labels)"
   ]
  },
  {
   "cell_type": "code",
   "execution_count": 11,
   "metadata": {},
   "outputs": [],
   "source": [
    "testFeatures = []\n",
    "testLabels   = []\n",
    "\n",
    "for sentence in testText:\n",
    "    SENT     = []\n",
    "    features = []\n",
    "    labels   = []\n",
    "    for token in sentence:\n",
    "        word, _, _, label = token.split('\\t')\n",
    "        \n",
    "        if word[0] == word[0].upper():\n",
    "            root = word\n",
    "        else:\n",
    "            results = morphology.analyze(word).analysisResults\n",
    "            root    = results[0].getLemmas()[0] if results else word\n",
    "        SENT.append(root)\n",
    "        labels.append(label)\n",
    "        \n",
    "    for i, word in enumerate(SENT):\n",
    "        features.append(getFeature(word, i, SENT))\n",
    "    \n",
    "    testFeatures.append(features)\n",
    "    testLabels.append(labels)"
   ]
  },
  {
   "cell_type": "code",
   "execution_count": 12,
   "metadata": {},
   "outputs": [],
   "source": [
    "trainvalFeatures = trainFeatures + validFeatures\n",
    "trainvalLabels   = trainLabels   + validLabels"
   ]
  },
  {
   "cell_type": "code",
   "execution_count": 13,
   "metadata": {},
   "outputs": [
    {
     "name": "stdout",
     "output_type": "stream",
     "text": [
      "Fitting 3 folds for each of 50 candidates, totalling 150 fits\n"
     ]
    },
    {
     "name": "stderr",
     "output_type": "stream",
     "text": [
      "[Parallel(n_jobs=-1)]: Using backend LokyBackend with 4 concurrent workers.\n",
      "[Parallel(n_jobs=-1)]: Done  42 tasks      | elapsed: 36.3min\n",
      "/Users/cetinsamet/anaconda3/lib/python3.7/site-packages/sklearn/externals/joblib/externals/loky/process_executor.py:706: UserWarning: A worker stopped while some jobs were given to the executor. This can be caused by a too short worker timeout or by a memory leak.\n",
      "  \"timeout or by a memory leak.\", UserWarning\n",
      "[Parallel(n_jobs=-1)]: Done 150 out of 150 | elapsed: 150.3min finished\n",
      "loading training data to CRFsuite: 100%|██████████| 32171/32171 [00:04<00:00, 8003.37it/s]\n"
     ]
    },
    {
     "name": "stdout",
     "output_type": "stream",
     "text": [
      "\n",
      "Feature generation\n",
      "type: CRF1d\n",
      "feature.minfreq: 0.000000\n",
      "feature.possible_states: 0\n",
      "feature.possible_transitions: 1\n",
      "0....1....2....3....4....5....6....7....8....9....10\n",
      "Number of features: 43164\n",
      "Seconds required: 0.865\n",
      "\n",
      "L-BFGS optimization\n",
      "c1: 0.008130\n",
      "c2: 0.045123\n",
      "num_memories: 6\n",
      "max_iterations: 100\n",
      "epsilon: 0.000010\n",
      "stop: 10\n",
      "delta: 0.000010\n",
      "linesearch: MoreThuente\n",
      "linesearch.max_iterations: 20\n",
      "\n",
      "Iter 1   time=1.02  loss=796297.69 active=43121 feature_norm=1.00\n",
      "Iter 2   time=2.12  loss=494833.41 active=42990 feature_norm=5.94\n",
      "Iter 3   time=0.50  loss=397707.59 active=40923 feature_norm=5.07\n",
      "Iter 4   time=2.55  loss=261697.25 active=41982 feature_norm=3.74\n",
      "Iter 5   time=0.98  loss=253601.58 active=42796 feature_norm=3.74\n",
      "Iter 6   time=0.49  loss=225202.88 active=42994 feature_norm=4.35\n",
      "Iter 7   time=0.49  loss=192721.68 active=43006 feature_norm=5.69\n",
      "Iter 8   time=0.49  loss=150523.33 active=42363 feature_norm=9.40\n",
      "Iter 9   time=0.49  loss=137388.44 active=42740 feature_norm=11.06\n",
      "Iter 10  time=0.49  loss=128675.69 active=42951 feature_norm=11.86\n",
      "Iter 11  time=0.51  loss=117828.24 active=42763 feature_norm=14.75\n",
      "Iter 12  time=0.53  loss=107101.06 active=43002 feature_norm=15.78\n",
      "Iter 13  time=0.58  loss=100167.35 active=43015 feature_norm=17.50\n",
      "Iter 14  time=0.52  loss=94487.67 active=42985 feature_norm=20.77\n",
      "Iter 15  time=0.52  loss=87071.95 active=43046 feature_norm=22.24\n",
      "Iter 16  time=0.53  loss=80157.13 active=43003 feature_norm=25.65\n",
      "Iter 17  time=0.51  loss=74549.16 active=43035 feature_norm=28.90\n",
      "Iter 18  time=0.50  loss=71097.03 active=43065 feature_norm=31.31\n",
      "Iter 19  time=0.50  loss=67634.69 active=42949 feature_norm=36.84\n",
      "Iter 20  time=0.51  loss=64520.70 active=42993 feature_norm=39.50\n",
      "Iter 21  time=0.52  loss=61904.20 active=42920 feature_norm=42.45\n",
      "Iter 22  time=0.53  loss=57992.89 active=42377 feature_norm=50.74\n",
      "Iter 23  time=0.49  loss=55422.47 active=41640 feature_norm=54.22\n",
      "Iter 24  time=0.49  loss=52724.62 active=40813 feature_norm=59.49\n",
      "Iter 25  time=0.49  loss=48056.18 active=39855 feature_norm=72.43\n",
      "Iter 26  time=1.01  loss=47374.20 active=39655 feature_norm=77.64\n",
      "Iter 27  time=0.49  loss=44682.41 active=39583 feature_norm=81.58\n",
      "Iter 28  time=0.49  loss=41734.15 active=39281 feature_norm=90.62\n",
      "Iter 29  time=0.49  loss=38611.68 active=38809 feature_norm=103.15\n",
      "Iter 30  time=0.50  loss=36333.99 active=38562 feature_norm=122.50\n",
      "Iter 31  time=0.51  loss=32925.40 active=38568 feature_norm=131.66\n",
      "Iter 32  time=0.56  loss=31113.33 active=38353 feature_norm=141.24\n",
      "Iter 33  time=0.51  loss=28033.37 active=37958 feature_norm=162.47\n",
      "Iter 34  time=0.51  loss=25378.18 active=37946 feature_norm=179.99\n",
      "Iter 35  time=0.52  loss=23216.20 active=37876 feature_norm=204.07\n",
      "Iter 36  time=0.50  loss=21246.05 active=37810 feature_norm=221.58\n",
      "Iter 37  time=0.50  loss=19694.36 active=37818 feature_norm=239.28\n",
      "Iter 38  time=0.50  loss=18090.69 active=37252 feature_norm=264.68\n",
      "Iter 39  time=0.50  loss=17285.84 active=37351 feature_norm=278.04\n",
      "Iter 40  time=0.50  loss=16702.70 active=37398 feature_norm=284.10\n",
      "Iter 41  time=0.52  loss=16232.55 active=37317 feature_norm=291.21\n",
      "Iter 42  time=0.52  loss=15769.68 active=36872 feature_norm=298.08\n",
      "Iter 43  time=0.49  loss=15442.57 active=36381 feature_norm=305.60\n",
      "Iter 44  time=0.98  loss=15364.38 active=36245 feature_norm=314.69\n",
      "Iter 45  time=0.49  loss=15090.19 active=36349 feature_norm=314.19\n",
      "Iter 46  time=0.49  loss=15040.94 active=36388 feature_norm=314.64\n",
      "Iter 47  time=0.52  loss=14971.24 active=36362 feature_norm=315.28\n",
      "Iter 48  time=0.49  loss=14962.45 active=36209 feature_norm=321.04\n",
      "Iter 49  time=1.04  loss=14794.62 active=36257 feature_norm=318.61\n",
      "Iter 50  time=0.49  loss=14745.26 active=36307 feature_norm=317.85\n",
      "Iter 51  time=0.53  loss=14720.01 active=36303 feature_norm=317.58\n",
      "Iter 52  time=0.51  loss=14658.16 active=36129 feature_norm=317.16\n",
      "Iter 53  time=0.50  loss=14572.46 active=35998 feature_norm=317.42\n",
      "Iter 54  time=0.52  loss=14519.24 active=36036 feature_norm=317.61\n",
      "Iter 55  time=0.50  loss=14471.72 active=35999 feature_norm=317.85\n",
      "Iter 56  time=0.49  loss=14400.28 active=35846 feature_norm=318.44\n",
      "Iter 57  time=0.49  loss=14353.25 active=35671 feature_norm=318.72\n",
      "Iter 58  time=0.53  loss=14299.27 active=35465 feature_norm=319.36\n",
      "Iter 59  time=0.51  loss=14251.37 active=35358 feature_norm=319.84\n",
      "Iter 60  time=0.51  loss=14209.86 active=35271 feature_norm=320.49\n",
      "Iter 61  time=0.49  loss=14171.53 active=35162 feature_norm=321.01\n",
      "Iter 62  time=0.49  loss=14135.70 active=35087 feature_norm=321.50\n",
      "Iter 63  time=0.49  loss=14100.26 active=35006 feature_norm=322.17\n",
      "Iter 64  time=0.51  loss=14074.78 active=35009 feature_norm=322.48\n",
      "Iter 65  time=0.52  loss=14050.96 active=34946 feature_norm=322.91\n",
      "Iter 66  time=0.49  loss=14028.81 active=34917 feature_norm=323.26\n",
      "Iter 67  time=0.52  loss=14010.58 active=34858 feature_norm=323.58\n",
      "Iter 68  time=0.53  loss=13993.66 active=34518 feature_norm=323.78\n",
      "Iter 69  time=0.49  loss=13977.18 active=34476 feature_norm=324.01\n",
      "Iter 70  time=0.50  loss=13963.14 active=34397 feature_norm=324.13\n",
      "Iter 71  time=0.53  loss=13950.54 active=34348 feature_norm=324.30\n",
      "Iter 72  time=0.51  loss=13939.52 active=34343 feature_norm=324.34\n",
      "Iter 73  time=0.53  loss=13928.31 active=34331 feature_norm=324.44\n",
      "Iter 74  time=0.57  loss=13917.83 active=34295 feature_norm=324.47\n",
      "Iter 75  time=0.53  loss=13908.66 active=34260 feature_norm=324.57\n",
      "Iter 76  time=0.49  loss=13899.57 active=34223 feature_norm=324.61\n",
      "Iter 77  time=0.51  loss=13890.83 active=34177 feature_norm=324.67\n",
      "Iter 78  time=0.49  loss=13883.18 active=34141 feature_norm=324.70\n",
      "Iter 79  time=0.53  loss=13876.01 active=34120 feature_norm=324.73\n",
      "Iter 80  time=0.50  loss=13869.06 active=34079 feature_norm=324.71\n",
      "Iter 81  time=0.49  loss=13862.00 active=34026 feature_norm=324.71\n",
      "Iter 82  time=0.55  loss=13855.61 active=33993 feature_norm=324.65\n",
      "Iter 83  time=0.52  loss=13849.41 active=33949 feature_norm=324.65\n",
      "Iter 84  time=0.50  loss=13843.75 active=33917 feature_norm=324.56\n",
      "Iter 85  time=0.50  loss=13838.46 active=33879 feature_norm=324.52\n",
      "Iter 86  time=0.49  loss=13833.07 active=33898 feature_norm=324.43\n",
      "Iter 87  time=0.51  loss=13827.91 active=33888 feature_norm=324.38\n",
      "Iter 88  time=0.54  loss=13822.99 active=33871 feature_norm=324.26\n",
      "Iter 89  time=0.51  loss=13818.45 active=33865 feature_norm=324.19\n",
      "Iter 90  time=0.51  loss=13814.23 active=33840 feature_norm=324.09\n",
      "Iter 91  time=0.52  loss=13810.07 active=33817 feature_norm=324.01\n",
      "Iter 92  time=0.51  loss=13805.60 active=33787 feature_norm=323.88\n",
      "Iter 93  time=0.55  loss=13801.39 active=33776 feature_norm=323.79\n",
      "Iter 94  time=0.54  loss=13797.35 active=33753 feature_norm=323.69\n",
      "Iter 95  time=0.54  loss=13793.00 active=33718 feature_norm=323.58\n",
      "Iter 96  time=0.60  loss=13788.90 active=33691 feature_norm=323.49\n",
      "Iter 97  time=0.65  loss=13785.08 active=33683 feature_norm=323.42\n",
      "Iter 98  time=0.61  loss=13781.36 active=33655 feature_norm=323.32\n",
      "Iter 99  time=0.54  loss=13777.60 active=33634 feature_norm=323.24\n",
      "Iter 100 time=0.54  loss=13774.53 active=33601 feature_norm=323.15\n",
      "L-BFGS terminated with the maximum number of iterations\n",
      "Total seconds required for training: 57.553\n",
      "\n",
      "Storing the model\n",
      "Number of active features: 33601 (43164)\n",
      "Number of active attributes: 24193 (33537)\n",
      "Number of active labels: 15 (15)\n",
      "Writing labels\n",
      "Writing attributes\n",
      "Writing feature references for transitions\n",
      "Writing feature references for attributes\n",
      "Seconds required: 0.160\n",
      "\n"
     ]
    },
    {
     "data": {
      "text/plain": [
       "RandomizedSearchCV(cv=3, error_score='raise-deprecating',\n",
       "          estimator=CRF(algorithm='lbfgs', all_possible_states=None,\n",
       "  all_possible_transitions=True, averaging=None, c=None, c1=None, c2=None,\n",
       "  calibration_candidates=None, calibration_eta=None,\n",
       "  calibration_max_trials=None, calibration_rate=None,\n",
       "  calibration_samples=None, delta=None, epsilon=None, error...ne,\n",
       "  num_memories=None, pa_type=None, period=None, trainer_cls=None,\n",
       "  variance=None, verbose=True),\n",
       "          fit_params=None, iid='warn', n_iter=50, n_jobs=-1,\n",
       "          param_distributions={'c1': <scipy.stats._distn_infrastructure.rv_frozen object at 0x1a18f6b588>, 'c2': <scipy.stats._distn_infrastructure.rv_frozen object at 0x1afa527e10>},\n",
       "          pre_dispatch='2*n_jobs', random_state=123, refit=True,\n",
       "          return_train_score='warn',\n",
       "          scoring=make_scorer(flat_f1_score, average=weighted), verbose=1)"
      ]
     },
     "execution_count": 13,
     "metadata": {},
     "output_type": "execute_result"
    }
   ],
   "source": [
    "# define fixed parameters and parameters to search\n",
    "crf = CRF(  algorithm='lbfgs',\n",
    "            max_iterations=100,\n",
    "            all_possible_transitions=True,\n",
    "            verbose=True)\n",
    "\n",
    "params_space = {'c1': scipy.stats.expon(scale=0.5),\n",
    "                'c2': scipy.stats.expon(scale=0.05)}\n",
    "\n",
    "# use the same metric for evaluation\n",
    "f1_scorer = make_scorer(metrics.flat_f1_score,\n",
    "                        average='weighted')\n",
    "\n",
    "# search\n",
    "rs = RandomizedSearchCV(crf, params_space,\n",
    "                        cv=3,\n",
    "                        verbose=1,\n",
    "                        n_jobs=-1,\n",
    "                        n_iter=50,\n",
    "                        random_state=123,\n",
    "                        scoring=f1_scorer)\n",
    "\n",
    "rs.fit(trainvalFeatures, trainvalLabels)"
   ]
  },
  {
   "cell_type": "code",
   "execution_count": 16,
   "metadata": {},
   "outputs": [
    {
     "name": "stdout",
     "output_type": "stream",
     "text": [
      "best params: {'c1': 0.008130349084185253, 'c2': 0.04512332140157257}\n",
      "best CV score: 0.9624091658062226\n",
      "model size: 2.04M\n"
     ]
    }
   ],
   "source": [
    "# crf = rs.best_estimator_\n",
    "print('best params:', rs.best_params_)\n",
    "print('best CV score:', rs.best_score_)\n",
    "print('model size: {:0.2f}M'.format(rs.best_estimator_.size_ / 1000000))"
   ]
  },
  {
   "cell_type": "code",
   "execution_count": 15,
   "metadata": {},
   "outputs": [
    {
     "data": {
      "text/plain": [
       "CRF(algorithm='lbfgs', all_possible_states=None,\n",
       "  all_possible_transitions=True, averaging=None, c=None,\n",
       "  c1=0.008130349084185253, c2=0.04512332140157257,\n",
       "  calibration_candidates=None, calibration_eta=None,\n",
       "  calibration_max_trials=None, calibration_rate=None,\n",
       "  calibration_samples=None, delta=None, epsilon=None, error_sensitive=None,\n",
       "  gamma=None, keep_tempfiles=None, linesearch=None, max_iterations=100,\n",
       "  max_linesearch=None, min_freq=None, model_filename=None,\n",
       "  num_memories=None, pa_type=None, period=None, trainer_cls=None,\n",
       "  variance=None, verbose=True)"
      ]
     },
     "execution_count": 15,
     "metadata": {},
     "output_type": "execute_result"
    }
   ],
   "source": [
    "crf = rs.best_estimator_\n",
    "crf"
   ]
  },
  {
   "cell_type": "code",
   "execution_count": 17,
   "metadata": {},
   "outputs": [
    {
     "name": "stderr",
     "output_type": "stream",
     "text": [
      "loading training data to CRFsuite: 100%|██████████| 32171/32171 [00:03<00:00, 8093.54it/s]\n"
     ]
    },
    {
     "name": "stdout",
     "output_type": "stream",
     "text": [
      "\n",
      "Feature generation\n",
      "type: CRF1d\n",
      "feature.minfreq: 0.000000\n",
      "feature.possible_states: 0\n",
      "feature.possible_transitions: 1\n",
      "0....1....2....3....4....5....6....7....8....9....10\n",
      "Number of features: 43164\n",
      "Seconds required: 0.827\n",
      "\n",
      "L-BFGS optimization\n",
      "c1: 0.008130\n",
      "c2: 0.045123\n",
      "num_memories: 6\n",
      "max_iterations: 100\n",
      "epsilon: 0.000010\n",
      "stop: 10\n",
      "delta: 0.000010\n",
      "linesearch: MoreThuente\n",
      "linesearch.max_iterations: 20\n",
      "\n",
      "Iter 1   time=0.93  loss=796297.69 active=43121 feature_norm=1.00\n",
      "Iter 2   time=1.89  loss=494833.41 active=42990 feature_norm=5.94\n",
      "Iter 3   time=0.47  loss=397707.59 active=40923 feature_norm=5.07\n",
      "Iter 4   time=2.52  loss=261697.25 active=41982 feature_norm=3.74\n",
      "Iter 5   time=0.95  loss=253601.58 active=42796 feature_norm=3.74\n",
      "Iter 6   time=0.51  loss=225202.88 active=42994 feature_norm=4.35\n",
      "Iter 7   time=0.62  loss=192721.68 active=43006 feature_norm=5.69\n",
      "Iter 8   time=0.58  loss=150523.33 active=42363 feature_norm=9.40\n",
      "Iter 9   time=0.57  loss=137388.44 active=42740 feature_norm=11.06\n",
      "Iter 10  time=0.55  loss=128675.69 active=42951 feature_norm=11.86\n",
      "Iter 11  time=0.55  loss=117828.24 active=42763 feature_norm=14.75\n",
      "Iter 12  time=0.52  loss=107101.06 active=43002 feature_norm=15.78\n",
      "Iter 13  time=0.54  loss=100167.35 active=43015 feature_norm=17.50\n",
      "Iter 14  time=0.62  loss=94487.67 active=42985 feature_norm=20.77\n",
      "Iter 15  time=0.62  loss=87071.95 active=43046 feature_norm=22.24\n",
      "Iter 16  time=0.51  loss=80157.13 active=43003 feature_norm=25.65\n",
      "Iter 17  time=0.52  loss=74549.16 active=43035 feature_norm=28.90\n",
      "Iter 18  time=0.51  loss=71097.03 active=43065 feature_norm=31.31\n",
      "Iter 19  time=0.51  loss=67634.69 active=42949 feature_norm=36.84\n",
      "Iter 20  time=0.57  loss=64520.70 active=42993 feature_norm=39.50\n",
      "Iter 21  time=0.52  loss=61904.20 active=42920 feature_norm=42.45\n",
      "Iter 22  time=0.52  loss=57992.89 active=42377 feature_norm=50.74\n",
      "Iter 23  time=0.55  loss=55422.47 active=41640 feature_norm=54.22\n",
      "Iter 24  time=0.49  loss=52724.62 active=40813 feature_norm=59.49\n",
      "Iter 25  time=0.48  loss=48056.18 active=39855 feature_norm=72.43\n",
      "Iter 26  time=0.96  loss=47374.20 active=39655 feature_norm=77.64\n",
      "Iter 27  time=0.48  loss=44682.41 active=39583 feature_norm=81.58\n",
      "Iter 28  time=0.48  loss=41734.15 active=39281 feature_norm=90.62\n",
      "Iter 29  time=0.48  loss=38611.68 active=38809 feature_norm=103.15\n",
      "Iter 30  time=0.48  loss=36333.99 active=38562 feature_norm=122.50\n",
      "Iter 31  time=0.48  loss=32925.40 active=38568 feature_norm=131.66\n",
      "Iter 32  time=0.48  loss=31113.33 active=38353 feature_norm=141.24\n",
      "Iter 33  time=0.48  loss=28033.37 active=37958 feature_norm=162.47\n",
      "Iter 34  time=0.49  loss=25378.18 active=37946 feature_norm=179.99\n",
      "Iter 35  time=0.48  loss=23216.20 active=37876 feature_norm=204.07\n",
      "Iter 36  time=0.48  loss=21246.05 active=37810 feature_norm=221.58\n",
      "Iter 37  time=0.51  loss=19694.36 active=37818 feature_norm=239.28\n",
      "Iter 38  time=0.50  loss=18090.69 active=37252 feature_norm=264.68\n",
      "Iter 39  time=0.48  loss=17285.84 active=37351 feature_norm=278.04\n",
      "Iter 40  time=0.50  loss=16702.70 active=37398 feature_norm=284.10\n",
      "Iter 41  time=0.50  loss=16232.55 active=37317 feature_norm=291.21\n",
      "Iter 42  time=0.49  loss=15769.68 active=36872 feature_norm=298.08\n",
      "Iter 43  time=0.50  loss=15442.57 active=36381 feature_norm=305.60\n",
      "Iter 44  time=0.97  loss=15364.38 active=36245 feature_norm=314.69\n",
      "Iter 45  time=0.48  loss=15090.19 active=36349 feature_norm=314.19\n",
      "Iter 46  time=0.48  loss=15040.94 active=36388 feature_norm=314.64\n",
      "Iter 47  time=0.48  loss=14971.24 active=36362 feature_norm=315.28\n",
      "Iter 48  time=0.48  loss=14962.45 active=36209 feature_norm=321.04\n",
      "Iter 49  time=0.96  loss=14794.62 active=36257 feature_norm=318.61\n",
      "Iter 50  time=0.52  loss=14745.26 active=36307 feature_norm=317.85\n",
      "Iter 51  time=0.48  loss=14720.01 active=36303 feature_norm=317.58\n",
      "Iter 52  time=0.48  loss=14658.16 active=36129 feature_norm=317.16\n",
      "Iter 53  time=0.48  loss=14572.46 active=35998 feature_norm=317.42\n",
      "Iter 54  time=0.48  loss=14519.24 active=36036 feature_norm=317.61\n",
      "Iter 55  time=0.48  loss=14471.72 active=35999 feature_norm=317.85\n",
      "Iter 56  time=0.48  loss=14400.28 active=35846 feature_norm=318.44\n",
      "Iter 57  time=0.48  loss=14353.25 active=35671 feature_norm=318.72\n",
      "Iter 58  time=0.48  loss=14299.27 active=35465 feature_norm=319.36\n",
      "Iter 59  time=0.48  loss=14251.37 active=35358 feature_norm=319.84\n",
      "Iter 60  time=0.51  loss=14209.86 active=35271 feature_norm=320.49\n",
      "Iter 61  time=0.50  loss=14171.53 active=35162 feature_norm=321.01\n",
      "Iter 62  time=0.50  loss=14135.70 active=35087 feature_norm=321.50\n",
      "Iter 63  time=0.51  loss=14100.26 active=35006 feature_norm=322.17\n",
      "Iter 64  time=0.49  loss=14074.78 active=35009 feature_norm=322.48\n",
      "Iter 65  time=0.51  loss=14050.96 active=34946 feature_norm=322.91\n",
      "Iter 66  time=0.52  loss=14028.81 active=34917 feature_norm=323.26\n",
      "Iter 67  time=0.51  loss=14010.58 active=34858 feature_norm=323.58\n",
      "Iter 68  time=0.57  loss=13993.66 active=34518 feature_norm=323.78\n",
      "Iter 69  time=0.56  loss=13977.18 active=34476 feature_norm=324.01\n",
      "Iter 70  time=0.53  loss=13963.14 active=34397 feature_norm=324.13\n",
      "Iter 71  time=0.54  loss=13950.54 active=34348 feature_norm=324.30\n",
      "Iter 72  time=0.52  loss=13939.52 active=34343 feature_norm=324.34\n",
      "Iter 73  time=0.53  loss=13928.31 active=34331 feature_norm=324.44\n",
      "Iter 74  time=0.52  loss=13917.83 active=34295 feature_norm=324.47\n",
      "Iter 75  time=0.51  loss=13908.66 active=34260 feature_norm=324.57\n",
      "Iter 76  time=0.48  loss=13899.57 active=34223 feature_norm=324.61\n",
      "Iter 77  time=0.48  loss=13890.83 active=34177 feature_norm=324.67\n",
      "Iter 78  time=0.48  loss=13883.18 active=34141 feature_norm=324.70\n",
      "Iter 79  time=0.48  loss=13876.01 active=34120 feature_norm=324.73\n",
      "Iter 80  time=0.48  loss=13869.06 active=34079 feature_norm=324.71\n",
      "Iter 81  time=0.50  loss=13862.00 active=34026 feature_norm=324.71\n",
      "Iter 82  time=0.51  loss=13855.61 active=33993 feature_norm=324.65\n",
      "Iter 83  time=0.52  loss=13849.41 active=33949 feature_norm=324.65\n",
      "Iter 84  time=0.54  loss=13843.75 active=33917 feature_norm=324.56\n",
      "Iter 85  time=0.51  loss=13838.46 active=33879 feature_norm=324.52\n",
      "Iter 86  time=0.49  loss=13833.07 active=33898 feature_norm=324.43\n",
      "Iter 87  time=0.48  loss=13827.91 active=33888 feature_norm=324.38\n",
      "Iter 88  time=0.48  loss=13822.99 active=33871 feature_norm=324.26\n",
      "Iter 89  time=0.48  loss=13818.45 active=33865 feature_norm=324.19\n",
      "Iter 90  time=0.49  loss=13814.23 active=33840 feature_norm=324.09\n",
      "Iter 91  time=0.52  loss=13810.07 active=33817 feature_norm=324.01\n",
      "Iter 92  time=0.47  loss=13805.60 active=33787 feature_norm=323.88\n",
      "Iter 93  time=0.48  loss=13801.39 active=33776 feature_norm=323.79\n",
      "Iter 94  time=0.48  loss=13797.35 active=33753 feature_norm=323.69\n",
      "Iter 95  time=0.52  loss=13793.00 active=33718 feature_norm=323.58\n",
      "Iter 96  time=0.54  loss=13788.90 active=33691 feature_norm=323.49\n",
      "Iter 97  time=0.48  loss=13785.08 active=33683 feature_norm=323.42\n",
      "Iter 98  time=0.47  loss=13781.36 active=33655 feature_norm=323.32\n",
      "Iter 99  time=0.48  loss=13777.60 active=33634 feature_norm=323.24\n",
      "Iter 100 time=0.48  loss=13774.53 active=33601 feature_norm=323.15\n",
      "L-BFGS terminated with the maximum number of iterations\n",
      "Total seconds required for training: 56.169\n",
      "\n",
      "Storing the model\n",
      "Number of active features: 33601 (43164)\n",
      "Number of active attributes: 24193 (33537)\n",
      "Number of active labels: 15 (15)\n",
      "Writing labels\n",
      "Writing attributes\n",
      "Writing feature references for transitions\n",
      "Writing feature references for attributes\n",
      "Seconds required: 0.144\n",
      "\n"
     ]
    },
    {
     "data": {
      "text/plain": [
       "CRF(algorithm='lbfgs', all_possible_states=None,\n",
       "  all_possible_transitions=True, averaging=None, c=None,\n",
       "  c1=0.008130349084185253, c2=0.04512332140157257,\n",
       "  calibration_candidates=None, calibration_eta=None,\n",
       "  calibration_max_trials=None, calibration_rate=None,\n",
       "  calibration_samples=None, delta=None, epsilon=None, error_sensitive=None,\n",
       "  gamma=None, keep_tempfiles=None, linesearch=None, max_iterations=100,\n",
       "  max_linesearch=None, min_freq=None, model_filename=None,\n",
       "  num_memories=None, pa_type=None, period=None, trainer_cls=None,\n",
       "  variance=None, verbose=True)"
      ]
     },
     "execution_count": 17,
     "metadata": {},
     "output_type": "execute_result"
    }
   ],
   "source": [
    "crf.fit(trainvalFeatures, trainvalLabels)"
   ]
  },
  {
   "cell_type": "code",
   "execution_count": 18,
   "metadata": {},
   "outputs": [
    {
     "name": "stdout",
     "output_type": "stream",
     "text": [
      "model is saved.\n"
     ]
    }
   ],
   "source": [
    "# SAVE CONDITIONAL RANDOM FIELDS MODEL\n",
    "with open('model/crf4.pickle', 'wb') as outfile:\n",
    "    pickle.dump(crf, outfile, pickle.HIGHEST_PROTOCOL)\n",
    "    print(\"model is saved.\")"
   ]
  },
  {
   "cell_type": "code",
   "execution_count": 19,
   "metadata": {},
   "outputs": [],
   "source": [
    "# LOAD CONDITIONAL RANDOM FIELDS MODEL\n",
    "with open('model/crf4.pickle', 'rb') as infile:\n",
    "    crf = pickle.load(infile)"
   ]
  },
  {
   "cell_type": "code",
   "execution_count": 20,
   "metadata": {},
   "outputs": [
    {
     "name": "stdout",
     "output_type": "stream",
     "text": [
      "### TRAINVAL CLASSIFICATION REPORT ###\n",
      "\n",
      "              precision    recall  f1-score   support\n",
      "\n",
      "     PERCENT       1.00      1.00      1.00       617\n",
      "ORGANIZATION       0.97      0.96      0.97      9034\n",
      "      PERSON       0.98      0.98      0.98     14476\n",
      "        DATE       0.78      0.77      0.77      3103\n",
      "    LOCATION       0.98      0.99      0.98      9409\n",
      "       MONEY       0.97      0.94      0.96       594\n",
      "        TIME       0.99      0.99      0.99       175\n",
      "\n",
      "   micro avg       0.96      0.96      0.96     37408\n",
      "   macro avg       0.96      0.96      0.96     37408\n",
      "\n"
     ]
    }
   ],
   "source": [
    "trainvalPredLabels = crf.predict(trainvalFeatures)\n",
    "\n",
    "print(\"### TRAINVAL CLASSIFICATION REPORT ###\\n\")\n",
    "print(classification_report(trainvalLabels, trainvalPredLabels))"
   ]
  },
  {
   "cell_type": "code",
   "execution_count": 21,
   "metadata": {},
   "outputs": [
    {
     "name": "stdout",
     "output_type": "stream",
     "text": [
      "### TEST CLASSIFICATION REPORT ###\n",
      "\n",
      "              precision    recall  f1-score   support\n",
      "\n",
      "ORGANIZATION       0.81      0.77      0.79       862\n",
      "    LOCATION       0.88      0.80      0.84      1091\n",
      "      PERSON       0.88      0.80      0.84      1594\n",
      "       MONEY       0.87      0.73      0.80       113\n",
      "        DATE       0.71      0.72      0.72       364\n",
      "     PERCENT       0.98      0.93      0.96       107\n",
      "        TIME       0.78      0.78      0.78        23\n",
      "\n",
      "   micro avg       0.85      0.79      0.82      4154\n",
      "   macro avg       0.85      0.79      0.82      4154\n",
      "\n"
     ]
    }
   ],
   "source": [
    "testPredLabels  = crf.predict(testFeatures)\n",
    "\n",
    "print(\"### TEST CLASSIFICATION REPORT ###\\n\")\n",
    "print(classification_report(testLabels, testPredLabels))"
   ]
  },
  {
   "cell_type": "code",
   "execution_count": 22,
   "metadata": {},
   "outputs": [],
   "source": [
    "# Shutting down the JVM\n",
    "jp.shutdownJVM()"
   ]
  },
  {
   "cell_type": "code",
   "execution_count": null,
   "metadata": {},
   "outputs": [],
   "source": []
  }
 ],
 "metadata": {
  "kernelspec": {
   "display_name": "Python 3",
   "language": "python",
   "name": "python3"
  },
  "language_info": {
   "codemirror_mode": {
    "name": "ipython",
    "version": 3
   },
   "file_extension": ".py",
   "mimetype": "text/x-python",
   "name": "python",
   "nbconvert_exporter": "python",
   "pygments_lexer": "ipython3",
   "version": "3.7.3"
  }
 },
 "nbformat": 4,
 "nbformat_minor": 2
}
