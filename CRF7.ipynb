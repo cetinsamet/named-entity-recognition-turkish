{
 "cells": [
  {
   "cell_type": "code",
   "execution_count": 11,
   "metadata": {},
   "outputs": [],
   "source": [
    "# -*- coding: utf-8 -*-\n",
    "# --------------------------------------------------\n",
    "#\n",
    "# CRF7.ipynb\n",
    "#\n",
    "# Token features:\n",
    "#     (a) token (surface form)\n",
    "#     (b) is_first           : is token at the beginning of the sentence?\n",
    "#     (c) is_last            : is token at the end of the sentence?\n",
    "#     (d) is_capitalized     : does token start with a capital letter? \n",
    "#     (e) is_all_capitalized : is all letters of the token capitalized?\n",
    "#     (f) is_capitals_inside : is there any capitalized letter inside the token?\n",
    "#     (g) is_numeric         : is token numeric?\n",
    "#     (h) is_numeric_inside  : is numeric characters inside the token?\n",
    "#     (i) is_alphanumeric    : is token alphanumeric?\n",
    "#     (j) prefix-1           : first letter of the token\n",
    "#     (k) suffix-1           : last letter of the token\n",
    "#     (l) prefix-2           : first two letters of the token\n",
    "#     (m) suffix-2           : last two letters of the token\n",
    "#     (n) prefix-3           : first three letters of the token\n",
    "#     (o) suffix-3           : last three letters of the token\n",
    "#     (p) next-token         : following token\n",
    "#     (q) prev-token         : preceding token\n",
    "#     (r) 2-next-token       : second following token\n",
    "#     (s) 2-prev-token       : second preceding token\n",
    "#\n",
    "# Written by cetinsamet -*- cetin.samet@metu.edu.tr\n",
    "# May, 2019\n",
    "# --------------------------------------------------"
   ]
  },
  {
   "cell_type": "code",
   "execution_count": 12,
   "metadata": {},
   "outputs": [],
   "source": [
    "from sklearn.model_selection import RandomizedSearchCV\n",
    "from seqeval.metrics import classification_report\n",
    "from sklearn.metrics import make_scorer\n",
    "from sklearn_crfsuite import metrics\n",
    "from sklearn_crfsuite import CRF\n",
    "from tqdm import tqdm\n",
    "import pickle\n",
    "import scipy"
   ]
  },
  {
   "cell_type": "code",
   "execution_count": 13,
   "metadata": {},
   "outputs": [],
   "source": [
    "def readFile(filepath):\n",
    "\n",
    "    text     = []\n",
    "    sentence = []\n",
    "\n",
    "    with open(filepath, 'r') as infile:\n",
    "        for line in infile:\n",
    "            word, _, _, _ = line.strip().split('\\t')\n",
    "\n",
    "            if word == '<S>':\n",
    "                text.append(sentence)\n",
    "                sentence = []\n",
    "                continue\n",
    "\n",
    "            sentence.append(line.strip())\n",
    "\n",
    "    return text"
   ]
  },
  {
   "cell_type": "code",
   "execution_count": 14,
   "metadata": {},
   "outputs": [],
   "source": [
    "trainText = readFile('data/train.txt')\n",
    "validText = readFile('data/valid.txt')\n",
    "testText  = readFile('data/test.txt')"
   ]
  },
  {
   "cell_type": "code",
   "execution_count": 15,
   "metadata": {},
   "outputs": [],
   "source": [
    "def getFeature(token, token_index, sentence):\n",
    "\n",
    "\n",
    "    feature = {'token'             : token,\n",
    "               'is_first'          : token_index == 0,\n",
    "               'is_last'           : token_index == len(sentence) - 1,\n",
    "               \n",
    "               'is_capitalized'    : token[0].upper() == token[0],\n",
    "               'is_all_capitalized': token.upper() == token,\n",
    "               'is_capitals_inside': token[1:].lower() != token[1:],\n",
    "               'is_numeric'        : token.isdigit(),\n",
    "               'is_numeric_inside' : any([c.isdigit() for c in token]),\n",
    "               'is_alphanumeric'   : token.isalnum(),\n",
    "               \n",
    "               'prefix-1'          : token[0],\n",
    "               'suffix-1'          : token[-1],\n",
    "               \n",
    "               'prefix-2'          : '' if len(token) < 2  else token[:2],\n",
    "               'suffix-2'          : '' if len(token) < 2  else token[-2:],\n",
    "\n",
    "               'prefix-3'          : '' if len(token) < 3  else token[:3],\n",
    "               'suffix-3'          : '' if len(token) < 3  else token[-3:],\n",
    "\n",
    "               \n",
    "               'prev-token'        : '' if token_index == 0 else sentence[token_index - 1],\n",
    "               'next-token'        : '' if token_index == len(sentence) - 1 else sentence[token_index + 1],\n",
    "               \n",
    "               '2-prev-token'      : '' if token_index <= 1 else sentence[token_index - 2],\n",
    "               '2-next-token'      : '' if token_index >= len(sentence) - 2 else sentence[token_index + 2],\n",
    "              }\n",
    "    \n",
    "    return feature"
   ]
  },
  {
   "cell_type": "code",
   "execution_count": 16,
   "metadata": {},
   "outputs": [
    {
     "name": "stderr",
     "output_type": "stream",
     "text": [
      "100%|██████████| 25736/25736 [00:07<00:00, 3578.45it/s]\n"
     ]
    }
   ],
   "source": [
    "trainFeatures = []\n",
    "trainLabels   = []\n",
    "\n",
    "for sentence_ in tqdm(trainText):\n",
    "\n",
    "    sentence = [token.split('\\t')[0] for token in sentence_]\n",
    "    labels   = [token.split('\\t')[-1] for token in sentence_]\n",
    "    features = []\n",
    "    for i, word in enumerate(sentence):\n",
    "        features.append(getFeature(word, i, sentence))\n",
    "    \n",
    "    trainFeatures.append(features)\n",
    "    trainLabels.append(labels)"
   ]
  },
  {
   "cell_type": "code",
   "execution_count": 17,
   "metadata": {},
   "outputs": [
    {
     "name": "stderr",
     "output_type": "stream",
     "text": [
      "100%|██████████| 6435/6435 [00:01<00:00, 3837.87it/s]\n"
     ]
    }
   ],
   "source": [
    "validFeatures = []\n",
    "validLabels   = []\n",
    "\n",
    "for sentence_ in tqdm(validText):\n",
    "    \n",
    "    sentence = [token.split('\\t')[0] for token in sentence_]\n",
    "    labels   = [token.split('\\t')[-1] for token in sentence_]\n",
    "    features = []\n",
    "    for i, word in enumerate(sentence):\n",
    "        features.append(getFeature(word, i, sentence))\n",
    "    \n",
    "    validFeatures.append(features)\n",
    "    validLabels.append(labels)"
   ]
  },
  {
   "cell_type": "code",
   "execution_count": 18,
   "metadata": {},
   "outputs": [
    {
     "name": "stderr",
     "output_type": "stream",
     "text": [
      "100%|██████████| 3328/3328 [00:00<00:00, 3468.40it/s]\n"
     ]
    }
   ],
   "source": [
    "testFeatures = []\n",
    "testLabels   = []\n",
    "\n",
    "for sentence_ in tqdm(testText):\n",
    "    \n",
    "    sentence = [token.split('\\t')[0] for token in sentence_]\n",
    "    labels   = [token.split('\\t')[-1] for token in sentence_]\n",
    "    features = []\n",
    "    for i, word in enumerate(sentence):\n",
    "        features.append(getFeature(word, i, sentence))\n",
    "    \n",
    "    testFeatures.append(features)\n",
    "    testLabels.append(labels)"
   ]
  },
  {
   "cell_type": "code",
   "execution_count": 19,
   "metadata": {},
   "outputs": [],
   "source": [
    "trainvalFeatures = trainFeatures + validFeatures\n",
    "trainvalLabels   = trainLabels   + validLabels"
   ]
  },
  {
   "cell_type": "code",
   "execution_count": 20,
   "metadata": {},
   "outputs": [
    {
     "name": "stdout",
     "output_type": "stream",
     "text": [
      "Fitting 3 folds for each of 30 candidates, totalling 90 fits\n"
     ]
    },
    {
     "name": "stderr",
     "output_type": "stream",
     "text": [
      "[Parallel(n_jobs=-1)]: Using backend LokyBackend with 4 concurrent workers.\n",
      "[Parallel(n_jobs=-1)]: Done  42 tasks      | elapsed: 211.5min\n",
      "[Parallel(n_jobs=-1)]: Done  90 out of  90 | elapsed: 648.0min finished\n",
      "loading training data to CRFsuite: 100%|██████████| 32171/32171 [00:22<00:00, 1404.00it/s]\n"
     ]
    },
    {
     "name": "stdout",
     "output_type": "stream",
     "text": [
      "\n",
      "Feature generation\n",
      "type: CRF1d\n",
      "feature.minfreq: 0.000000\n",
      "feature.possible_states: 0\n",
      "feature.possible_transitions: 1\n",
      "0....1....2....3....4....5....6....7....8....9....10\n",
      "Number of features: 416309\n",
      "Seconds required: 6.810\n",
      "\n",
      "L-BFGS optimization\n",
      "c1: 0.048313\n",
      "c2: 0.028432\n",
      "num_memories: 6\n",
      "max_iterations: 100\n",
      "epsilon: 0.000010\n",
      "stop: 10\n",
      "delta: 0.000010\n",
      "linesearch: MoreThuente\n",
      "linesearch.max_iterations: 20\n",
      "\n",
      "Iter 1   time=3.00  loss=678405.93 active=415548 feature_norm=1.00\n",
      "Iter 2   time=3.01  loss=580824.84 active=413461 feature_norm=6.25\n",
      "Iter 3   time=1.50  loss=467176.52 active=395037 feature_norm=5.39\n",
      "Iter 4   time=10.36 loss=238392.62 active=397515 feature_norm=3.20\n",
      "Iter 5   time=1.50  loss=232767.10 active=405881 feature_norm=6.00\n",
      "Iter 6   time=1.49  loss=200329.22 active=411863 feature_norm=5.97\n",
      "Iter 7   time=2.99  loss=170586.08 active=408991 feature_norm=6.15\n",
      "Iter 8   time=1.52  loss=152473.86 active=411355 feature_norm=6.67\n",
      "Iter 9   time=1.51  loss=141246.68 active=404237 feature_norm=7.56\n",
      "Iter 10  time=1.55  loss=124674.90 active=365384 feature_norm=9.05\n",
      "Iter 11  time=1.51  loss=109040.87 active=299994 feature_norm=11.62\n",
      "Iter 12  time=1.59  loss=95870.94 active=280071 feature_norm=13.56\n",
      "Iter 13  time=1.43  loss=85397.79 active=268286 feature_norm=15.81\n",
      "Iter 14  time=1.51  loss=73287.51 active=257206 feature_norm=19.12\n",
      "Iter 15  time=1.53  loss=65860.04 active=249046 feature_norm=22.68\n",
      "Iter 16  time=1.51  loss=61292.77 active=245942 feature_norm=24.37\n",
      "Iter 17  time=1.52  loss=56330.64 active=239389 feature_norm=28.14\n",
      "Iter 18  time=1.50  loss=51056.77 active=232928 feature_norm=33.05\n",
      "Iter 19  time=1.57  loss=46683.76 active=227683 feature_norm=38.06\n",
      "Iter 20  time=1.53  loss=42806.57 active=221982 feature_norm=43.10\n",
      "Iter 21  time=1.52  loss=38264.85 active=214148 feature_norm=50.63\n",
      "Iter 22  time=1.58  loss=34174.95 active=210533 feature_norm=58.05\n",
      "Iter 23  time=1.49  loss=30265.37 active=205929 feature_norm=66.48\n",
      "Iter 24  time=1.49  loss=26599.24 active=199147 feature_norm=78.40\n",
      "Iter 25  time=2.93  loss=24449.74 active=191814 feature_norm=87.12\n",
      "Iter 26  time=1.46  loss=21813.73 active=186830 feature_norm=94.67\n",
      "Iter 27  time=1.48  loss=19592.37 active=181214 feature_norm=104.29\n",
      "Iter 28  time=2.91  loss=18363.52 active=172218 feature_norm=115.26\n",
      "Iter 29  time=1.49  loss=15554.37 active=166169 feature_norm=127.18\n",
      "Iter 30  time=1.48  loss=14206.16 active=163876 feature_norm=135.39\n",
      "Iter 31  time=1.44  loss=12302.92 active=158733 feature_norm=150.79\n",
      "Iter 32  time=1.52  loss=10776.24 active=157535 feature_norm=164.38\n",
      "Iter 33  time=1.49  loss=9539.54  active=154383 feature_norm=177.98\n",
      "Iter 34  time=1.41  loss=8619.16  active=149576 feature_norm=187.03\n",
      "Iter 35  time=1.29  loss=7879.04  active=143343 feature_norm=194.49\n",
      "Iter 36  time=1.43  loss=7313.11  active=136410 feature_norm=199.97\n",
      "Iter 37  time=1.48  loss=6901.75  active=130244 feature_norm=203.29\n",
      "Iter 38  time=1.43  loss=6588.63  active=128366 feature_norm=206.46\n",
      "Iter 39  time=1.29  loss=6325.34  active=118741 feature_norm=209.76\n",
      "Iter 40  time=1.32  loss=6140.57  active=117497 feature_norm=211.12\n",
      "Iter 41  time=1.41  loss=6002.93  active=113736 feature_norm=212.86\n",
      "Iter 42  time=1.48  loss=5839.58  active=107594 feature_norm=216.35\n",
      "Iter 43  time=1.57  loss=5755.83  active=106077 feature_norm=217.87\n",
      "Iter 44  time=1.57  loss=5673.94  active=101890 feature_norm=220.01\n",
      "Iter 45  time=1.50  loss=5591.62  active=98234 feature_norm=221.96\n",
      "Iter 46  time=1.52  loss=5531.86  active=96988 feature_norm=223.37\n",
      "Iter 47  time=1.51  loss=5479.96  active=94726 feature_norm=224.31\n",
      "Iter 48  time=1.49  loss=5432.05  active=93034 feature_norm=225.18\n",
      "Iter 49  time=1.46  loss=5387.72  active=91159 feature_norm=225.77\n",
      "Iter 50  time=1.51  loss=5350.83  active=89923 feature_norm=226.45\n",
      "Iter 51  time=1.51  loss=5318.10  active=88504 feature_norm=226.79\n",
      "Iter 52  time=1.51  loss=5287.63  active=87163 feature_norm=227.33\n",
      "Iter 53  time=1.51  loss=5260.58  active=85836 feature_norm=227.56\n",
      "Iter 54  time=1.48  loss=5236.46  active=84354 feature_norm=227.91\n",
      "Iter 55  time=1.42  loss=5214.31  active=82959 feature_norm=228.00\n",
      "Iter 56  time=1.48  loss=5194.99  active=81956 feature_norm=228.26\n",
      "Iter 57  time=1.53  loss=5176.96  active=81122 feature_norm=228.20\n",
      "Iter 58  time=1.50  loss=5159.97  active=80364 feature_norm=228.31\n",
      "Iter 59  time=1.48  loss=5144.65  active=79307 feature_norm=228.11\n",
      "Iter 60  time=1.49  loss=5131.28  active=78672 feature_norm=228.14\n",
      "Iter 61  time=1.52  loss=5118.79  active=77973 feature_norm=227.89\n",
      "Iter 62  time=1.49  loss=5106.04  active=77154 feature_norm=227.75\n",
      "Iter 63  time=1.54  loss=5094.55  active=76334 feature_norm=227.45\n",
      "Iter 64  time=1.53  loss=5083.84  active=75476 feature_norm=227.32\n",
      "Iter 65  time=1.50  loss=5073.59  active=74743 feature_norm=227.02\n",
      "Iter 66  time=1.81  loss=5064.28  active=74138 feature_norm=226.91\n",
      "Iter 67  time=1.79  loss=5055.66  active=73556 feature_norm=226.68\n",
      "Iter 68  time=1.41  loss=5047.65  active=73134 feature_norm=226.59\n",
      "Iter 69  time=1.39  loss=5039.72  active=72629 feature_norm=226.37\n",
      "Iter 70  time=1.50  loss=5032.26  active=72229 feature_norm=226.28\n",
      "Iter 71  time=1.64  loss=5025.38  active=71805 feature_norm=226.09\n",
      "Iter 72  time=1.52  loss=5018.88  active=71541 feature_norm=226.03\n",
      "Iter 73  time=1.50  loss=5012.59  active=71165 feature_norm=225.85\n",
      "Iter 74  time=1.52  loss=5006.26  active=70792 feature_norm=225.78\n",
      "Iter 75  time=1.50  loss=5000.46  active=70454 feature_norm=225.61\n",
      "Iter 76  time=1.50  loss=4995.19  active=70185 feature_norm=225.54\n",
      "Iter 77  time=1.53  loss=4990.29  active=69886 feature_norm=225.40\n",
      "Iter 78  time=1.48  loss=4985.25  active=69641 feature_norm=225.34\n",
      "Iter 79  time=1.45  loss=4980.40  active=69271 feature_norm=225.19\n",
      "Iter 80  time=1.46  loss=4976.16  active=69070 feature_norm=225.14\n",
      "Iter 81  time=1.48  loss=4972.36  active=68884 feature_norm=225.01\n",
      "Iter 82  time=1.44  loss=4968.58  active=68673 feature_norm=224.97\n",
      "Iter 83  time=1.43  loss=4964.98  active=68407 feature_norm=224.84\n",
      "Iter 84  time=1.46  loss=4961.69  active=68313 feature_norm=224.82\n",
      "Iter 85  time=1.47  loss=4958.81  active=68167 feature_norm=224.73\n",
      "Iter 86  time=1.47  loss=4955.97  active=68073 feature_norm=224.72\n",
      "Iter 87  time=1.47  loss=4953.32  active=67847 feature_norm=224.64\n",
      "Iter 88  time=1.45  loss=4950.94  active=67714 feature_norm=224.65\n",
      "Iter 89  time=1.43  loss=4948.84  active=67554 feature_norm=224.57\n",
      "Iter 90  time=1.34  loss=4946.87  active=67482 feature_norm=224.60\n",
      "Iter 91  time=1.29  loss=4945.00  active=67380 feature_norm=224.54\n",
      "Iter 92  time=1.47  loss=4943.16  active=67200 feature_norm=224.56\n",
      "Iter 93  time=1.48  loss=4941.60  active=67011 feature_norm=224.48\n",
      "Iter 94  time=1.38  loss=4940.03  active=66929 feature_norm=224.52\n",
      "Iter 95  time=1.37  loss=4938.38  active=66819 feature_norm=224.48\n",
      "Iter 96  time=1.39  loss=4936.96  active=66741 feature_norm=224.53\n",
      "Iter 97  time=1.41  loss=4935.61  active=66645 feature_norm=224.50\n",
      "Iter 98  time=1.47  loss=4934.47  active=66535 feature_norm=224.55\n",
      "Iter 99  time=1.53  loss=4933.22  active=66358 feature_norm=224.52\n",
      "Iter 100 time=1.50  loss=4931.92  active=66350 feature_norm=224.58\n",
      "L-BFGS terminated with the maximum number of iterations\n",
      "Total seconds required for training: 164.822\n",
      "\n",
      "Storing the model\n",
      "Number of active features: 66350 (416309)\n",
      "Number of active attributes: 43605 (345095)\n",
      "Number of active labels: 15 (15)\n",
      "Writing labels\n",
      "Writing attributes\n",
      "Writing feature references for transitions\n",
      "Writing feature references for attributes\n",
      "Seconds required: 0.536\n",
      "\n"
     ]
    },
    {
     "data": {
      "text/plain": [
       "RandomizedSearchCV(cv=3, error_score='raise-deprecating',\n",
       "          estimator=CRF(algorithm='lbfgs', all_possible_states=None,\n",
       "  all_possible_transitions=True, averaging=None, c=None, c1=None, c2=None,\n",
       "  calibration_candidates=None, calibration_eta=None,\n",
       "  calibration_max_trials=None, calibration_rate=None,\n",
       "  calibration_samples=None, delta=None, epsilon=None, error...ne,\n",
       "  num_memories=None, pa_type=None, period=None, trainer_cls=None,\n",
       "  variance=None, verbose=True),\n",
       "          fit_params=None, iid='warn', n_iter=30, n_jobs=-1,\n",
       "          param_distributions={'c1': <scipy.stats._distn_infrastructure.rv_frozen object at 0x1a27ca7c18>, 'c2': <scipy.stats._distn_infrastructure.rv_frozen object at 0x1a27aa4e48>},\n",
       "          pre_dispatch='2*n_jobs', random_state=123, refit=True,\n",
       "          return_train_score='warn',\n",
       "          scoring=make_scorer(flat_f1_score, average=weighted), verbose=1)"
      ]
     },
     "execution_count": 20,
     "metadata": {},
     "output_type": "execute_result"
    }
   ],
   "source": [
    "# define fixed parameters and parameters to search\n",
    "crf = CRF(  algorithm='lbfgs',\n",
    "            max_iterations=100,\n",
    "            all_possible_transitions=True,\n",
    "            verbose=True)\n",
    "\n",
    "params_space = {'c1': scipy.stats.expon(scale=0.5),\n",
    "                'c2': scipy.stats.expon(scale=0.05)}\n",
    "\n",
    "# use the same metric for evaluation\n",
    "f1_scorer = make_scorer(metrics.flat_f1_score,\n",
    "                        average='weighted')\n",
    "\n",
    "# search\n",
    "rs = RandomizedSearchCV(crf, params_space,\n",
    "                        cv=3,\n",
    "                        verbose=1,\n",
    "                        n_jobs=-1,\n",
    "                        n_iter=30,\n",
    "                        random_state=123,\n",
    "                        scoring=f1_scorer)\n",
    "\n",
    "rs.fit(trainvalFeatures, trainvalLabels)"
   ]
  },
  {
   "cell_type": "code",
   "execution_count": 21,
   "metadata": {},
   "outputs": [
    {
     "name": "stdout",
     "output_type": "stream",
     "text": [
      "best params: {'c1': 0.04831323984330459, 'c2': 0.028431668831944812}\n",
      "best CV score: 0.9704341059404726\n",
      "model size: 3.96M\n"
     ]
    }
   ],
   "source": [
    "print('best params:', rs.best_params_)\n",
    "print('best CV score:', rs.best_score_)\n",
    "print('model size: {:0.2f}M'.format(rs.best_estimator_.size_ / 1000000))"
   ]
  },
  {
   "cell_type": "code",
   "execution_count": 22,
   "metadata": {},
   "outputs": [
    {
     "data": {
      "text/plain": [
       "CRF(algorithm='lbfgs', all_possible_states=None,\n",
       "  all_possible_transitions=True, averaging=None, c=None,\n",
       "  c1=0.04831323984330459, c2=0.028431668831944812,\n",
       "  calibration_candidates=None, calibration_eta=None,\n",
       "  calibration_max_trials=None, calibration_rate=None,\n",
       "  calibration_samples=None, delta=None, epsilon=None, error_sensitive=None,\n",
       "  gamma=None, keep_tempfiles=None, linesearch=None, max_iterations=100,\n",
       "  max_linesearch=None, min_freq=None, model_filename=None,\n",
       "  num_memories=None, pa_type=None, period=None, trainer_cls=None,\n",
       "  variance=None, verbose=True)"
      ]
     },
     "execution_count": 22,
     "metadata": {},
     "output_type": "execute_result"
    }
   ],
   "source": [
    "crf = rs.best_estimator_\n",
    "crf"
   ]
  },
  {
   "cell_type": "code",
   "execution_count": 23,
   "metadata": {},
   "outputs": [],
   "source": [
    "#crf.fit(trainvalFeatures, trainvalLabels)"
   ]
  },
  {
   "cell_type": "code",
   "execution_count": 24,
   "metadata": {},
   "outputs": [
    {
     "name": "stdout",
     "output_type": "stream",
     "text": [
      "model is saved.\n"
     ]
    }
   ],
   "source": [
    "# SAVE CONDITIONAL RANDOM FIELDS MODEL\n",
    "with open('model/crf7.pickle', 'wb') as outfile:\n",
    "    pickle.dump(crf, outfile, pickle.HIGHEST_PROTOCOL)\n",
    "    print(\"model is saved.\")"
   ]
  },
  {
   "cell_type": "code",
   "execution_count": 25,
   "metadata": {},
   "outputs": [],
   "source": [
    "# LOAD CONDITIONAL RANDOM FIELDS MODEL\n",
    "with open('model/crf7.pickle', 'rb') as infile:\n",
    "    crf = pickle.load(infile)"
   ]
  },
  {
   "cell_type": "code",
   "execution_count": 26,
   "metadata": {},
   "outputs": [
    {
     "name": "stdout",
     "output_type": "stream",
     "text": [
      "### TRAINVAL CLASSIFICATION REPORT ###\n",
      "\n",
      "              precision    recall  f1-score   support\n",
      "\n",
      "    LOCATION       1.00      1.00      1.00      9409\n",
      "      PERSON       1.00      1.00      1.00     14476\n",
      "        TIME       1.00      1.00      1.00       175\n",
      "        DATE       1.00      1.00      1.00      3103\n",
      "ORGANIZATION       1.00      1.00      1.00      9034\n",
      "     PERCENT       1.00      1.00      1.00       617\n",
      "       MONEY       1.00      1.00      1.00       594\n",
      "\n",
      "   micro avg       1.00      1.00      1.00     37408\n",
      "   macro avg       1.00      1.00      1.00     37408\n",
      "\n"
     ]
    }
   ],
   "source": [
    "trainvalPredLabels = crf.predict(trainvalFeatures)\n",
    "\n",
    "print(\"### TRAINVAL CLASSIFICATION REPORT ###\\n\")\n",
    "print(classification_report(trainvalLabels, trainvalPredLabels))"
   ]
  },
  {
   "cell_type": "code",
   "execution_count": 27,
   "metadata": {},
   "outputs": [
    {
     "name": "stdout",
     "output_type": "stream",
     "text": [
      "### TEST CLASSIFICATION REPORT ###\n",
      "\n",
      "              precision    recall  f1-score   support\n",
      "\n",
      "    LOCATION       0.89      0.85      0.87      1091\n",
      "      PERSON       0.90      0.85      0.88      1594\n",
      "        DATE       0.92      0.89      0.90       364\n",
      "     PERCENT       0.99      0.93      0.96       107\n",
      "ORGANIZATION       0.83      0.79      0.81       862\n",
      "       MONEY       0.91      0.73      0.81       113\n",
      "        TIME       0.86      0.78      0.82        23\n",
      "\n",
      "   micro avg       0.89      0.84      0.86      4154\n",
      "   macro avg       0.89      0.84      0.86      4154\n",
      "\n"
     ]
    }
   ],
   "source": [
    "testPredLabels  = crf.predict(testFeatures)\n",
    "\n",
    "print(\"### TEST CLASSIFICATION REPORT ###\\n\")\n",
    "print(classification_report(testLabels, testPredLabels))"
   ]
  },
  {
   "cell_type": "code",
   "execution_count": null,
   "metadata": {},
   "outputs": [],
   "source": []
  }
 ],
 "metadata": {
  "kernelspec": {
   "display_name": "Python 3",
   "language": "python",
   "name": "python3"
  },
  "language_info": {
   "codemirror_mode": {
    "name": "ipython",
    "version": 3
   },
   "file_extension": ".py",
   "mimetype": "text/x-python",
   "name": "python",
   "nbconvert_exporter": "python",
   "pygments_lexer": "ipython3",
   "version": "3.7.3"
  }
 },
 "nbformat": 4,
 "nbformat_minor": 2
}
