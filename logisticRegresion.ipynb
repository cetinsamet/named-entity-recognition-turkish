{
 "cells": [
  {
   "cell_type": "code",
   "execution_count": 2,
   "metadata": {},
   "outputs": [],
   "source": [
    "# -*- coding: utf-8 -*-\n",
    "# --------------------------------------------------\n",
    "#\n",
    "# logisticRegression.ipynb\n",
    "#\n",
    "# Written by cetinsamet -*- cetin.samet@metu.edu.tr\n",
    "# April, 2019\n",
    "# --------------------------------------------------"
   ]
  },
  {
   "cell_type": "code",
   "execution_count": 4,
   "metadata": {},
   "outputs": [],
   "source": [
    "from sklearn.linear_model import LogisticRegression\n",
    "from sklearn.metrics import classification_report\n",
    "import scipy.io as sio\n",
    "import numpy as np\n",
    "import pickle"
   ]
  },
  {
   "cell_type": "code",
   "execution_count": 43,
   "metadata": {},
   "outputs": [],
   "source": [
    "features = sio.loadmat('data/features.mat')\n",
    "labels = sio.loadmat('data/labels.mat')"
   ]
  },
  {
   "cell_type": "code",
   "execution_count": 44,
   "metadata": {},
   "outputs": [],
   "source": [
    "label_names = [label[0] for label in labels['labels'][0]]\n",
    "\n",
    "x_train   = features['trainTokenFeatures']\n",
    "y_train   = labels['trainLabels'].ravel()\n",
    "\n",
    "x_val     = features['validTokenFeatures']\n",
    "y_val     = labels['validLabels'].ravel()\n",
    "\n",
    "x_test    = features['testTokenFeatures']\n",
    "y_test    = labels['testLabels'].ravel()"
   ]
  },
  {
   "cell_type": "code",
   "execution_count": 45,
   "metadata": {},
   "outputs": [
    {
     "name": "stdout",
     "output_type": "stream",
     "text": [
      "****************************************************************************************************\n",
      "Label Names   : ['B-DATE', 'B-LOCATION', 'B-MONEY', 'B-ORGANIZATION', 'B-PERCENT', 'B-PERSON', 'B-TIME', 'I-DATE', 'I-LOCATION', 'I-MONEY', 'I-ORGANIZATION', 'I-PERCENT', 'I-PERSON', 'I-TIME', 'O']\n",
      "\n",
      "x_train shape : (380181, 768)\n",
      "y_train shape : (380181,)\n",
      "\n",
      "x_val shape   : (45415, 768)\n",
      "y_val shape   : (45415,)\n",
      "\n",
      "x_test shape  : (45187, 768)\n",
      "y_test shape  : (45187,)\n",
      "****************************************************************************************************\n"
     ]
    }
   ],
   "source": [
    "print(\"*\" * 100)\n",
    "print(\"Label Names   :\", label_names)\n",
    "print()\n",
    "print(\"x_train shape :\", x_train.shape)\n",
    "print(\"y_train shape :\", y_train.shape)\n",
    "print()\n",
    "print(\"x_val shape   :\", x_val.shape)\n",
    "print(\"y_val shape   :\", y_val.shape)\n",
    "print()\n",
    "print(\"x_test shape  :\", x_test.shape)\n",
    "print(\"y_test shape  :\", y_test.shape)\n",
    "print(\"*\" * 100)"
   ]
  },
  {
   "cell_type": "code",
   "execution_count": 26,
   "metadata": {},
   "outputs": [],
   "source": [
    "n_train, feat_dim   = x_train.shape\n",
    "n_val, _            = x_val.shape\n",
    "n_test, _           = x_test.shape"
   ]
  },
  {
   "cell_type": "code",
   "execution_count": 27,
   "metadata": {},
   "outputs": [
    {
     "name": "stdout",
     "output_type": "stream",
     "text": [
      "****************************************************************************************************\n",
      "Number of Train samples  : 380181\n",
      "Number of Val samples    : 45415\n",
      "Number of Test samples   : 45187\n",
      "Feature dimension        : 768\n",
      "****************************************************************************************************\n"
     ]
    }
   ],
   "source": [
    "print(\"*\" * 100)\n",
    "print(\"Number of Train samples  : %d\" % n_train)\n",
    "print(\"Number of Val samples    : %d\" % n_val)\n",
    "print(\"Number of Test samples   : %d\" % n_test)\n",
    "print(\"Feature dimension        : %d\" % feat_dim)\n",
    "print(\"*\" * 100)"
   ]
  },
  {
   "cell_type": "code",
   "execution_count": null,
   "metadata": {},
   "outputs": [],
   "source": [
    "lr = LogisticRegression(solver='lbfgs', random_state=123)\n",
    "lr.fit(x_train, y_train)"
   ]
  },
  {
   "cell_type": "code",
   "execution_count": 29,
   "metadata": {},
   "outputs": [
    {
     "name": "stdout",
     "output_type": "stream",
     "text": [
      "Logistic Regression model is saved.\n"
     ]
    }
   ],
   "source": [
    "# SAVE LOGISTIC REGRESSION MODEL\n",
    "with open('model/logistic_regression.pickle', 'wb') as outfile:\n",
    "    pickle.dump(lr, outfile, pickle.HIGHEST_PROTOCOL)\n",
    "    print(\"Logistic Regression model is saved.\")"
   ]
  },
  {
   "cell_type": "code",
   "execution_count": 30,
   "metadata": {},
   "outputs": [],
   "source": [
    "# LOAD LOGISTIC REGRESSION MODEL\n",
    "with open('model/logistic_regression.pickle', 'rb') as infile:\n",
    "    lr = pickle.load(infile)"
   ]
  },
  {
   "cell_type": "code",
   "execution_count": 33,
   "metadata": {},
   "outputs": [],
   "source": [
    "sorted_label_names = sorted(label_names, key=lambda name: name[1:])\n",
    "sorted_label_names.remove('O')\n",
    "sorted_label_indices = [label_names.index(label) for label in sorted_label_names]"
   ]
  },
  {
   "cell_type": "code",
   "execution_count": 34,
   "metadata": {},
   "outputs": [
    {
     "name": "stdout",
     "output_type": "stream",
     "text": [
      "### TRAIN CLASSIFICATION REPORT ###\n",
      "\n",
      "                precision    recall  f1-score   support\n",
      "\n",
      "        B-DATE       0.88      0.51      0.65      2831\n",
      "        I-DATE       0.67      0.46      0.55      1289\n",
      "    B-LOCATION       0.76      0.66      0.71      8459\n",
      "    I-LOCATION       0.80      0.23      0.36      1526\n",
      "       B-MONEY       0.48      0.04      0.08       521\n",
      "       I-MONEY       0.84      0.59      0.70       960\n",
      "B-ORGANIZATION       0.81      0.47      0.60      8033\n",
      "I-ORGANIZATION       0.74      0.26      0.39      5468\n",
      "     B-PERCENT       0.97      1.00      0.99       574\n",
      "     I-PERCENT       0.78      0.43      0.55       581\n",
      "      B-PERSON       0.59      0.38      0.46     12727\n",
      "      I-PERSON       0.48      0.12      0.20      6271\n",
      "        B-TIME       0.99      0.86      0.92       169\n",
      "        I-TIME       0.00      0.00      0.00        23\n",
      "\n",
      "     micro avg       0.71      0.41      0.52     49432\n",
      "     macro avg       0.70      0.43      0.51     49432\n",
      "  weighted avg       0.69      0.41      0.50     49432\n",
      "\n"
     ]
    },
    {
     "name": "stderr",
     "output_type": "stream",
     "text": [
      "/Library/Frameworks/Python.framework/Versions/3.6/lib/python3.6/site-packages/sklearn/metrics/classification.py:1143: UndefinedMetricWarning: Precision and F-score are ill-defined and being set to 0.0 in labels with no predicted samples.\n",
      "  'precision', 'predicted', average, warn_for)\n"
     ]
    }
   ],
   "source": [
    "pred_train = lr.predict(x_train)\n",
    "print(\"### TRAIN CLASSIFICATION REPORT ###\\n\")\n",
    "print(classification_report(y_train, pred_train, labels=sorted_label_indices, target_names=sorted_label_names))"
   ]
  },
  {
   "cell_type": "code",
   "execution_count": 36,
   "metadata": {},
   "outputs": [
    {
     "name": "stdout",
     "output_type": "stream",
     "text": [
      "### VAL CLASSIFICATION REPORT ###\n",
      "\n",
      "                precision    recall  f1-score   support\n",
      "\n",
      "        B-DATE       0.84      0.55      0.66       272\n",
      "        I-DATE       0.67      0.41      0.51       112\n",
      "    B-LOCATION       0.74      0.69      0.71       950\n",
      "    I-LOCATION       0.52      0.20      0.29       172\n",
      "       B-MONEY       0.12      0.01      0.02        73\n",
      "       I-MONEY       0.92      0.60      0.73       146\n",
      "B-ORGANIZATION       0.81      0.49      0.61      1001\n",
      "I-ORGANIZATION       0.65      0.18      0.28       690\n",
      "     B-PERCENT       1.00      1.00      1.00        43\n",
      "     I-PERCENT       0.78      0.42      0.55        43\n",
      "      B-PERSON       0.65      0.42      0.51      1749\n",
      "      I-PERSON       0.40      0.11      0.17       738\n",
      "        B-TIME       1.00      0.50      0.67         6\n",
      "        I-TIME       0.00      0.00      0.00         3\n",
      "\n",
      "     micro avg       0.70      0.41      0.52      5998\n",
      "     macro avg       0.65      0.40      0.48      5998\n",
      "  weighted avg       0.67      0.41      0.49      5998\n",
      "\n"
     ]
    },
    {
     "name": "stderr",
     "output_type": "stream",
     "text": [
      "/Library/Frameworks/Python.framework/Versions/3.6/lib/python3.6/site-packages/sklearn/metrics/classification.py:1143: UndefinedMetricWarning: Precision and F-score are ill-defined and being set to 0.0 in labels with no predicted samples.\n",
      "  'precision', 'predicted', average, warn_for)\n"
     ]
    }
   ],
   "source": [
    "pred_val = lr.predict(x_val)\n",
    "print(\"### VAL CLASSIFICATION REPORT ###\\n\")\n",
    "print(classification_report(y_val, pred_val, labels=sorted_label_indices, target_names=sorted_label_names))"
   ]
  },
  {
   "cell_type": "code",
   "execution_count": 46,
   "metadata": {},
   "outputs": [
    {
     "name": "stdout",
     "output_type": "stream",
     "text": [
      "### TEST CLASSIFICATION REPORT ###\n",
      "\n",
      "                precision    recall  f1-score   support\n",
      "\n",
      "        B-DATE       0.87      0.51      0.64       364\n",
      "        I-DATE       0.57      0.30      0.39       181\n",
      "    B-LOCATION       0.77      0.64      0.70      1091\n",
      "    I-LOCATION       0.76      0.20      0.32       240\n",
      "       B-MONEY       0.33      0.02      0.03       113\n",
      "       I-MONEY       0.96      0.51      0.67       235\n",
      "B-ORGANIZATION       0.78      0.38      0.51       862\n",
      "I-ORGANIZATION       0.79      0.22      0.34       826\n",
      "     B-PERCENT       1.00      0.95      0.98       107\n",
      "     I-PERCENT       0.77      0.31      0.45       108\n",
      "      B-PERSON       0.58      0.37      0.45      1594\n",
      "      I-PERSON       0.45      0.09      0.15       785\n",
      "        B-TIME       0.95      0.91      0.93        23\n",
      "        I-TIME       0.00      0.00      0.00         2\n",
      "\n",
      "     micro avg       0.72      0.37      0.49      6531\n",
      "     macro avg       0.68      0.39      0.47      6531\n",
      "  weighted avg       0.69      0.37      0.47      6531\n",
      "\n"
     ]
    },
    {
     "name": "stderr",
     "output_type": "stream",
     "text": [
      "/Library/Frameworks/Python.framework/Versions/3.6/lib/python3.6/site-packages/sklearn/metrics/classification.py:1143: UndefinedMetricWarning: Precision and F-score are ill-defined and being set to 0.0 in labels with no predicted samples.\n",
      "  'precision', 'predicted', average, warn_for)\n"
     ]
    }
   ],
   "source": [
    "pred_test = lr.predict(x_test)\n",
    "print(\"### TEST CLASSIFICATION REPORT ###\\n\")\n",
    "print(classification_report(y_test, pred_test, labels=sorted_label_indices, target_names=sorted_label_names))"
   ]
  }
 ],
 "metadata": {
  "kernelspec": {
   "display_name": "Python 3",
   "language": "python",
   "name": "python3"
  },
  "language_info": {
   "codemirror_mode": {
    "name": "ipython",
    "version": 3
   },
   "file_extension": ".py",
   "mimetype": "text/x-python",
   "name": "python",
   "nbconvert_exporter": "python",
   "pygments_lexer": "ipython3",
   "version": "3.6.5"
  }
 },
 "nbformat": 4,
 "nbformat_minor": 2
}
