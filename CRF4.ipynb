{
 "cells": [
  {
   "cell_type": "code",
   "execution_count": 1,
   "metadata": {},
   "outputs": [],
   "source": [
    "# -*- coding: utf-8 -*-\n",
    "# --------------------------------------------------\n",
    "#\n",
    "# CRF4.ipynb\n",
    "#\n",
    "# Token features:\n",
    "#     (a) token (surface form)\n",
    "#     (b) is_first           : is token at the beginning of the sentence?\n",
    "#     (c) is_last            : is token at the end of the sentence?\n",
    "#     (d) is_capitalized     : does token start with a capital letter? \n",
    "#     (e) is_all_capitalized : is all letters of the token capitalized?\n",
    "#     (f) is_capitals_inside : is there any capitalized letter inside the token?\n",
    "#     (g) is_numeric         : is token numeric?\n",
    "#     (h) is_numeric_inside  : is numeric characters inside the token?\n",
    "#     (i) is_alphanumeric    : is token alphanumeric?\n",
    "#     (j) prefix-1           : first letter of the token\n",
    "#     (k) suffix-1           : last letter of the token\n",
    "#     (l) prefix-2           : first two letters of the token\n",
    "#     (m) suffix-2           : last two letters of the token\n",
    "#\n",
    "# Written by cetinsamet -*- cetin.samet@metu.edu.tr\n",
    "# May, 2019\n",
    "# --------------------------------------------------"
   ]
  },
  {
   "cell_type": "code",
   "execution_count": 2,
   "metadata": {},
   "outputs": [],
   "source": [
    "from sklearn.model_selection import RandomizedSearchCV\n",
    "from seqeval.metrics import classification_report\n",
    "from sklearn.metrics import make_scorer\n",
    "from sklearn_crfsuite import metrics\n",
    "from sklearn_crfsuite import CRF\n",
    "from tqdm import tqdm\n",
    "import pickle\n",
    "import scipy"
   ]
  },
  {
   "cell_type": "code",
   "execution_count": 5,
   "metadata": {},
   "outputs": [],
   "source": [
    "def readFile(filepath):\n",
    "\n",
    "    text     = []\n",
    "    sentence = []\n",
    "\n",
    "    with open(filepath, 'r') as infile:\n",
    "        for line in infile:\n",
    "            word, _, _, _ = line.strip().split('\\t')\n",
    "\n",
    "            if word == '<S>':\n",
    "                text.append(sentence)\n",
    "                sentence = []\n",
    "                continue\n",
    "\n",
    "            sentence.append(line.strip())\n",
    "\n",
    "    return text"
   ]
  },
  {
   "cell_type": "code",
   "execution_count": 6,
   "metadata": {},
   "outputs": [],
   "source": [
    "trainText = readFile('data/train.txt')\n",
    "validText = readFile('data/valid.txt')\n",
    "testText  = readFile('data/test.txt')"
   ]
  },
  {
   "cell_type": "code",
   "execution_count": 7,
   "metadata": {},
   "outputs": [],
   "source": [
    "def getFeature(token, token_index, sentence):\n",
    "\n",
    "\n",
    "    feature = {'token'             : token,\n",
    "               'is_first'          : token_index == 0,\n",
    "               'is_last'           : token_index == len(sentence) - 1,\n",
    "               \n",
    "               'is_capitalized'    : token[0].upper() == token[0],\n",
    "               'is_all_capitalized': token.upper() == token,\n",
    "               'is_capitals_inside': token[1:].lower() != token[1:],\n",
    "               'is_numeric'        : token.isdigit(),\n",
    "               'is_numeric_inside' : any([c.isdigit() for c in token]),\n",
    "               'is_alphanumeric'   : token.isalnum(),\n",
    "               \n",
    "               'prefix-1'          : token[0],\n",
    "               'suffix-1'          : token[-1],\n",
    "               \n",
    "               'prefix-2'          : '' if len(token) < 2  else token[:2],\n",
    "               'suffix-2'          : '' if len(token) < 2  else token[-2:]\n",
    "              }\n",
    "    \n",
    "    return feature"
   ]
  },
  {
   "cell_type": "code",
   "execution_count": 8,
   "metadata": {},
   "outputs": [
    {
     "name": "stderr",
     "output_type": "stream",
     "text": [
      "100%|██████████| 25736/25736 [00:04<00:00, 5576.02it/s]\n"
     ]
    }
   ],
   "source": [
    "trainFeatures = []\n",
    "trainLabels   = []\n",
    "\n",
    "for sentence in tqdm(trainText):\n",
    "\n",
    "    features = []\n",
    "    labels   = []\n",
    "    for i, token in enumerate(sentence):\n",
    "        word, _, _, label = token.split('\\t')\n",
    "        \n",
    "        features.append(getFeature(word, i, sentence))\n",
    "        labels.append(label)\n",
    "    \n",
    "    trainFeatures.append(features)\n",
    "    trainLabels.append(labels)"
   ]
  },
  {
   "cell_type": "code",
   "execution_count": 9,
   "metadata": {},
   "outputs": [
    {
     "name": "stderr",
     "output_type": "stream",
     "text": [
      "100%|██████████| 6435/6435 [00:01<00:00, 3256.41it/s]\n"
     ]
    }
   ],
   "source": [
    "validFeatures = []\n",
    "validLabels   = []\n",
    "\n",
    "for sentence in tqdm(validText):\n",
    "    \n",
    "    features = []\n",
    "    labels   = []\n",
    "    for i, token in enumerate(sentence):\n",
    "        word, _, _, label = token.split('\\t')\n",
    "        \n",
    "        features.append(getFeature(word, i, sentence))\n",
    "        labels.append(label)\n",
    "    \n",
    "    validFeatures.append(features)\n",
    "    validLabels.append(labels)"
   ]
  },
  {
   "cell_type": "code",
   "execution_count": 10,
   "metadata": {},
   "outputs": [
    {
     "name": "stderr",
     "output_type": "stream",
     "text": [
      "100%|██████████| 3328/3328 [00:00<00:00, 5990.20it/s]\n"
     ]
    }
   ],
   "source": [
    "testFeatures = []\n",
    "testLabels   = []\n",
    "\n",
    "for sentence in tqdm(testText):\n",
    "    \n",
    "    features = []\n",
    "    labels   = []\n",
    "    for i, token in enumerate(sentence):\n",
    "        word, _, _, label = token.split('\\t')\n",
    "        \n",
    "        features.append(getFeature(word, i, sentence))\n",
    "        labels.append(label)\n",
    "    \n",
    "    testFeatures.append(features)\n",
    "    testLabels.append(labels)"
   ]
  },
  {
   "cell_type": "code",
   "execution_count": 11,
   "metadata": {},
   "outputs": [],
   "source": [
    "trainvalFeatures = trainFeatures + validFeatures\n",
    "trainvalLabels   = trainLabels   + validLabels"
   ]
  },
  {
   "cell_type": "code",
   "execution_count": 12,
   "metadata": {},
   "outputs": [
    {
     "name": "stdout",
     "output_type": "stream",
     "text": [
      "Fitting 3 folds for each of 30 candidates, totalling 90 fits\n"
     ]
    },
    {
     "name": "stderr",
     "output_type": "stream",
     "text": [
      "[Parallel(n_jobs=-1)]: Using backend LokyBackend with 4 concurrent workers.\n",
      "/Users/cetinsamet/anaconda3/lib/python3.7/site-packages/sklearn/externals/joblib/externals/loky/process_executor.py:706: UserWarning: A worker stopped while some jobs were given to the executor. This can be caused by a too short worker timeout or by a memory leak.\n",
      "  \"timeout or by a memory leak.\", UserWarning\n",
      "[Parallel(n_jobs=-1)]: Done  42 tasks      | elapsed: 87.9min\n",
      "[Parallel(n_jobs=-1)]: Done  90 out of  90 | elapsed: 168.8min finished\n",
      "loading training data to CRFsuite: 100%|██████████| 32171/32171 [00:04<00:00, 6942.03it/s]\n"
     ]
    },
    {
     "name": "stdout",
     "output_type": "stream",
     "text": [
      "\n",
      "Feature generation\n",
      "type: CRF1d\n",
      "feature.minfreq: 0.000000\n",
      "feature.possible_states: 0\n",
      "feature.possible_transitions: 1\n",
      "0....1....2....3....4....5....6....7....8....9....10\n",
      "Number of features: 83829\n",
      "Seconds required: 1.181\n",
      "\n",
      "L-BFGS optimization\n",
      "c1: 0.048313\n",
      "c2: 0.028432\n",
      "num_memories: 6\n",
      "max_iterations: 100\n",
      "epsilon: 0.000010\n",
      "stop: 10\n",
      "delta: 0.000010\n",
      "linesearch: MoreThuente\n",
      "linesearch.max_iterations: 20\n",
      "\n",
      "Iter 1   time=1.04  loss=696544.41 active=83791 feature_norm=1.00\n",
      "Iter 2   time=1.10  loss=672824.63 active=83366 feature_norm=7.24\n",
      "Iter 3   time=0.52  loss=538918.88 active=81344 feature_norm=6.18\n",
      "Iter 4   time=4.35  loss=235286.31 active=82558 feature_norm=3.53\n",
      "Iter 5   time=1.15  loss=223798.52 active=83172 feature_norm=5.31\n",
      "Iter 6   time=0.58  loss=211601.49 active=83535 feature_norm=6.15\n",
      "Iter 7   time=0.56  loss=174255.15 active=83604 feature_norm=7.28\n",
      "Iter 8   time=0.56  loss=162583.28 active=83739 feature_norm=7.65\n",
      "Iter 9   time=0.54  loss=155678.70 active=83719 feature_norm=8.27\n",
      "Iter 10  time=0.54  loss=142360.76 active=83542 feature_norm=10.79\n",
      "Iter 11  time=0.59  loss=133746.39 active=83555 feature_norm=11.57\n",
      "Iter 12  time=0.59  loss=122697.46 active=75327 feature_norm=13.16\n",
      "Iter 13  time=0.56  loss=111376.92 active=59978 feature_norm=15.60\n",
      "Iter 14  time=0.54  loss=101666.10 active=58152 feature_norm=17.02\n",
      "Iter 15  time=0.57  loss=86364.85 active=52374 feature_norm=21.96\n",
      "Iter 16  time=0.56  loss=80844.91 active=51744 feature_norm=24.47\n",
      "Iter 17  time=0.54  loss=75355.70 active=51099 feature_norm=27.76\n",
      "Iter 18  time=0.57  loss=71285.21 active=50738 feature_norm=30.35\n",
      "Iter 19  time=0.56  loss=66897.40 active=48965 feature_norm=35.64\n",
      "Iter 20  time=0.62  loss=63573.05 active=47822 feature_norm=38.87\n",
      "Iter 21  time=0.57  loss=60794.75 active=46907 feature_norm=42.51\n",
      "Iter 22  time=0.57  loss=57597.69 active=45942 feature_norm=46.99\n",
      "Iter 23  time=0.63  loss=53797.17 active=44383 feature_norm=53.08\n",
      "Iter 24  time=0.65  loss=50915.54 active=43079 feature_norm=58.23\n",
      "Iter 25  time=0.56  loss=47931.34 active=42158 feature_norm=64.48\n",
      "Iter 26  time=0.53  loss=44193.24 active=40810 feature_norm=74.58\n",
      "Iter 27  time=0.53  loss=40888.10 active=39052 feature_norm=84.53\n",
      "Iter 28  time=0.54  loss=37602.78 active=38003 feature_norm=95.94\n",
      "Iter 29  time=0.53  loss=34058.45 active=36814 feature_norm=112.36\n",
      "Iter 30  time=0.53  loss=31511.70 active=36603 feature_norm=127.81\n",
      "Iter 31  time=0.53  loss=29151.10 active=36563 feature_norm=137.02\n",
      "Iter 32  time=0.52  loss=26672.72 active=36224 feature_norm=153.39\n",
      "Iter 33  time=0.51  loss=24218.32 active=35690 feature_norm=171.00\n",
      "Iter 34  time=0.51  loss=21616.23 active=35197 feature_norm=195.72\n",
      "Iter 35  time=0.51  loss=19794.76 active=34896 feature_norm=217.60\n",
      "Iter 36  time=0.51  loss=18137.00 active=34931 feature_norm=235.38\n",
      "Iter 37  time=0.51  loss=16603.20 active=34197 feature_norm=255.62\n",
      "Iter 38  time=0.52  loss=16429.28 active=33999 feature_norm=284.65\n",
      "Iter 39  time=0.55  loss=14885.87 active=34094 feature_norm=290.26\n",
      "Iter 40  time=0.56  loss=14575.71 active=34136 feature_norm=293.77\n",
      "Iter 41  time=0.54  loss=13768.20 active=33467 feature_norm=309.04\n",
      "Iter 42  time=1.10  loss=13562.03 active=33363 feature_norm=316.28\n",
      "Iter 43  time=0.58  loss=13218.20 active=33353 feature_norm=315.93\n",
      "Iter 44  time=0.57  loss=12908.37 active=33119 feature_norm=317.50\n",
      "Iter 45  time=0.59  loss=12722.83 active=32960 feature_norm=320.06\n",
      "Iter 46  time=0.55  loss=12543.39 active=32815 feature_norm=322.18\n",
      "Iter 47  time=0.60  loss=12434.49 active=32449 feature_norm=323.70\n",
      "Iter 48  time=0.54  loss=12355.99 active=32170 feature_norm=324.97\n",
      "Iter 49  time=0.54  loss=12272.23 active=31979 feature_norm=327.01\n",
      "Iter 50  time=0.53  loss=12202.07 active=31865 feature_norm=328.18\n",
      "Iter 51  time=0.54  loss=12115.65 active=31483 feature_norm=330.30\n",
      "Iter 52  time=1.06  loss=12087.42 active=31001 feature_norm=332.60\n",
      "Iter 53  time=0.54  loss=12010.60 active=30991 feature_norm=332.87\n",
      "Iter 54  time=0.52  loss=11978.60 active=30910 feature_norm=333.32\n",
      "Iter 55  time=0.53  loss=11929.71 active=30356 feature_norm=334.08\n",
      "Iter 56  time=0.54  loss=11873.37 active=29975 feature_norm=334.71\n",
      "Iter 57  time=0.57  loss=11827.74 active=29829 feature_norm=335.42\n",
      "Iter 58  time=0.58  loss=11793.56 active=29743 feature_norm=335.82\n",
      "Iter 59  time=0.57  loss=11754.50 active=29615 feature_norm=336.40\n",
      "Iter 60  time=0.56  loss=11719.70 active=29369 feature_norm=336.90\n",
      "Iter 61  time=0.60  loss=11689.06 active=29104 feature_norm=337.55\n",
      "Iter 62  time=0.54  loss=11661.55 active=28978 feature_norm=338.00\n",
      "Iter 63  time=0.54  loss=11634.25 active=28769 feature_norm=338.60\n",
      "Iter 64  time=0.54  loss=11611.76 active=28601 feature_norm=339.01\n",
      "Iter 65  time=0.53  loss=11591.10 active=28463 feature_norm=339.44\n",
      "Iter 66  time=0.53  loss=11570.35 active=28304 feature_norm=339.83\n",
      "Iter 67  time=0.53  loss=11552.76 active=28158 feature_norm=340.18\n",
      "Iter 68  time=0.53  loss=11535.65 active=28048 feature_norm=340.40\n",
      "Iter 69  time=0.55  loss=11520.70 active=27919 feature_norm=340.69\n",
      "Iter 70  time=0.54  loss=11507.63 active=27811 feature_norm=340.84\n",
      "Iter 71  time=0.53  loss=11495.17 active=27726 feature_norm=341.02\n",
      "Iter 72  time=0.55  loss=11481.61 active=27625 feature_norm=341.11\n",
      "Iter 73  time=0.56  loss=11469.96 active=27536 feature_norm=341.30\n",
      "Iter 74  time=0.57  loss=11459.62 active=27473 feature_norm=341.35\n",
      "Iter 75  time=0.52  loss=11449.71 active=27415 feature_norm=341.50\n",
      "Iter 76  time=0.62  loss=11439.74 active=27358 feature_norm=341.53\n",
      "Iter 77  time=0.61  loss=11430.53 active=27278 feature_norm=341.60\n",
      "Iter 78  time=0.61  loss=11421.46 active=27213 feature_norm=341.62\n",
      "Iter 79  time=0.60  loss=11413.87 active=27133 feature_norm=341.67\n",
      "Iter 80  time=0.59  loss=11405.87 active=27094 feature_norm=341.67\n",
      "Iter 81  time=0.63  loss=11399.53 active=27033 feature_norm=341.68\n",
      "Iter 82  time=0.59  loss=11392.24 active=27006 feature_norm=341.65\n",
      "Iter 83  time=0.55  loss=11385.27 active=26967 feature_norm=341.65\n",
      "Iter 84  time=0.55  loss=11379.15 active=26902 feature_norm=341.62\n",
      "Iter 85  time=0.58  loss=11372.94 active=26880 feature_norm=341.65\n",
      "Iter 86  time=0.58  loss=11367.51 active=26873 feature_norm=341.63\n",
      "Iter 87  time=0.57  loss=11361.82 active=26848 feature_norm=341.65\n",
      "Iter 88  time=0.61  loss=11356.79 active=26822 feature_norm=341.62\n",
      "Iter 89  time=0.54  loss=11352.32 active=26807 feature_norm=341.66\n",
      "Iter 90  time=0.53  loss=11347.73 active=26793 feature_norm=341.62\n",
      "Iter 91  time=0.67  loss=11343.03 active=26761 feature_norm=341.65\n",
      "Iter 92  time=0.64  loss=11338.68 active=26744 feature_norm=341.62\n",
      "Iter 93  time=0.76  loss=11334.70 active=26712 feature_norm=341.64\n",
      "Iter 94  time=0.87  loss=11330.99 active=26688 feature_norm=341.60\n",
      "Iter 95  time=0.64  loss=11327.03 active=26665 feature_norm=341.60\n",
      "Iter 96  time=0.63  loss=11323.66 active=26628 feature_norm=341.54\n",
      "Iter 97  time=0.67  loss=11320.24 active=26594 feature_norm=341.55\n",
      "Iter 98  time=0.61  loss=11317.03 active=26574 feature_norm=341.50\n",
      "Iter 99  time=0.59  loss=11313.75 active=26551 feature_norm=341.50\n",
      "Iter 100 time=0.56  loss=11310.56 active=26523 feature_norm=341.43\n",
      "L-BFGS terminated with the maximum number of iterations\n",
      "Total seconds required for training: 63.224\n",
      "\n",
      "Storing the model\n",
      "Number of active features: 26523 (83829)\n",
      "Number of active attributes: 18344 (74169)\n",
      "Number of active labels: 15 (15)\n",
      "Writing labels\n",
      "Writing attributes\n",
      "Writing feature references for transitions\n",
      "Writing feature references for attributes\n",
      "Seconds required: 0.159\n",
      "\n"
     ]
    },
    {
     "data": {
      "text/plain": [
       "RandomizedSearchCV(cv=3, error_score='raise-deprecating',\n",
       "          estimator=CRF(algorithm='lbfgs', all_possible_states=None,\n",
       "  all_possible_transitions=True, averaging=None, c=None, c1=None, c2=None,\n",
       "  calibration_candidates=None, calibration_eta=None,\n",
       "  calibration_max_trials=None, calibration_rate=None,\n",
       "  calibration_samples=None, delta=None, epsilon=None, error...ne,\n",
       "  num_memories=None, pa_type=None, period=None, trainer_cls=None,\n",
       "  variance=None, verbose=True),\n",
       "          fit_params=None, iid='warn', n_iter=30, n_jobs=-1,\n",
       "          param_distributions={'c1': <scipy.stats._distn_infrastructure.rv_frozen object at 0x1b03705780>, 'c2': <scipy.stats._distn_infrastructure.rv_frozen object at 0x1b03705940>},\n",
       "          pre_dispatch='2*n_jobs', random_state=123, refit=True,\n",
       "          return_train_score='warn',\n",
       "          scoring=make_scorer(flat_f1_score, average=weighted), verbose=1)"
      ]
     },
     "execution_count": 12,
     "metadata": {},
     "output_type": "execute_result"
    }
   ],
   "source": [
    "# define fixed parameters and parameters to search\n",
    "crf = CRF(  algorithm='lbfgs',\n",
    "            max_iterations=100,\n",
    "            all_possible_transitions=True,\n",
    "            verbose=True)\n",
    "\n",
    "params_space = {'c1': scipy.stats.expon(scale=0.5),\n",
    "                'c2': scipy.stats.expon(scale=0.05)}\n",
    "\n",
    "# use the same metric for evaluation\n",
    "f1_scorer = make_scorer(metrics.flat_f1_score,\n",
    "                        average='weighted')\n",
    "\n",
    "# search\n",
    "rs = RandomizedSearchCV(crf, params_space,\n",
    "                        cv=3,\n",
    "                        verbose=1,\n",
    "                        n_jobs=-1,\n",
    "                        n_iter=30,\n",
    "                        random_state=123,\n",
    "                        scoring=f1_scorer)\n",
    "\n",
    "rs.fit(trainvalFeatures, trainvalLabels)"
   ]
  },
  {
   "cell_type": "code",
   "execution_count": 13,
   "metadata": {},
   "outputs": [
    {
     "name": "stdout",
     "output_type": "stream",
     "text": [
      "best params: {'c1': 0.04831323984330459, 'c2': 0.028431668831944812}\n",
      "best CV score: 0.9664126251675466\n",
      "model size: 1.57M\n"
     ]
    }
   ],
   "source": [
    "print('best params:', rs.best_params_)\n",
    "print('best CV score:', rs.best_score_)\n",
    "print('model size: {:0.2f}M'.format(rs.best_estimator_.size_ / 1000000))"
   ]
  },
  {
   "cell_type": "code",
   "execution_count": 14,
   "metadata": {},
   "outputs": [
    {
     "data": {
      "text/plain": [
       "CRF(algorithm='lbfgs', all_possible_states=None,\n",
       "  all_possible_transitions=True, averaging=None, c=None,\n",
       "  c1=0.04831323984330459, c2=0.028431668831944812,\n",
       "  calibration_candidates=None, calibration_eta=None,\n",
       "  calibration_max_trials=None, calibration_rate=None,\n",
       "  calibration_samples=None, delta=None, epsilon=None, error_sensitive=None,\n",
       "  gamma=None, keep_tempfiles=None, linesearch=None, max_iterations=100,\n",
       "  max_linesearch=None, min_freq=None, model_filename=None,\n",
       "  num_memories=None, pa_type=None, period=None, trainer_cls=None,\n",
       "  variance=None, verbose=True)"
      ]
     },
     "execution_count": 14,
     "metadata": {},
     "output_type": "execute_result"
    }
   ],
   "source": [
    "crf = rs.best_estimator_\n",
    "crf"
   ]
  },
  {
   "cell_type": "code",
   "execution_count": 15,
   "metadata": {},
   "outputs": [],
   "source": [
    "#crf.fit(trainvalFeatures, trainvalLabels)"
   ]
  },
  {
   "cell_type": "code",
   "execution_count": 16,
   "metadata": {},
   "outputs": [
    {
     "name": "stdout",
     "output_type": "stream",
     "text": [
      "model is saved.\n"
     ]
    }
   ],
   "source": [
    "# SAVE CONDITIONAL RANDOM FIELDS MODEL\n",
    "with open('model/crf04.pickle', 'wb') as outfile:\n",
    "    pickle.dump(crf, outfile, pickle.HIGHEST_PROTOCOL)\n",
    "    print(\"model is saved.\")"
   ]
  },
  {
   "cell_type": "code",
   "execution_count": 17,
   "metadata": {},
   "outputs": [],
   "source": [
    "# LOAD CONDITIONAL RANDOM FIELDS MODEL\n",
    "with open('model/crf04.pickle', 'rb') as infile:\n",
    "    crf = pickle.load(infile)"
   ]
  },
  {
   "cell_type": "code",
   "execution_count": 18,
   "metadata": {},
   "outputs": [
    {
     "name": "stdout",
     "output_type": "stream",
     "text": [
      "### TRAINVAL CLASSIFICATION REPORT ###\n",
      "\n",
      "              precision    recall  f1-score   support\n",
      "\n",
      "    LOCATION       0.98      0.99      0.98      9409\n",
      "      PERSON       0.98      0.98      0.98     14476\n",
      "ORGANIZATION       0.97      0.97      0.97      9034\n",
      "       MONEY       0.98      0.99      0.98       594\n",
      "        DATE       0.96      0.97      0.97      3103\n",
      "        TIME       0.99      1.00      1.00       175\n",
      "     PERCENT       1.00      1.00      1.00       617\n",
      "\n",
      "   micro avg       0.98      0.98      0.98     37408\n",
      "   macro avg       0.98      0.98      0.98     37408\n",
      "\n"
     ]
    }
   ],
   "source": [
    "trainvalPredLabels = crf.predict(trainvalFeatures)\n",
    "\n",
    "print(\"### TRAINVAL CLASSIFICATION REPORT ###\\n\")\n",
    "print(classification_report(trainvalLabels, trainvalPredLabels))"
   ]
  },
  {
   "cell_type": "code",
   "execution_count": 19,
   "metadata": {},
   "outputs": [
    {
     "name": "stdout",
     "output_type": "stream",
     "text": [
      "### TEST CLASSIFICATION REPORT ###\n",
      "\n",
      "              precision    recall  f1-score   support\n",
      "\n",
      "ORGANIZATION       0.81      0.77      0.79       862\n",
      "    LOCATION       0.86      0.84      0.85      1091\n",
      "      PERSON       0.88      0.80      0.84      1594\n",
      "        DATE       0.90      0.89      0.89       364\n",
      "        TIME       0.95      0.78      0.86        23\n",
      "       MONEY       0.86      0.73      0.79       113\n",
      "     PERCENT       0.98      0.94      0.96       107\n",
      "\n",
      "   micro avg       0.87      0.81      0.84      4154\n",
      "   macro avg       0.87      0.81      0.84      4154\n",
      "\n"
     ]
    }
   ],
   "source": [
    "testPredLabels  = crf.predict(testFeatures)\n",
    "\n",
    "print(\"### TEST CLASSIFICATION REPORT ###\\n\")\n",
    "print(classification_report(testLabels, testPredLabels))"
   ]
  },
  {
   "cell_type": "code",
   "execution_count": null,
   "metadata": {},
   "outputs": [],
   "source": []
  }
 ],
 "metadata": {
  "kernelspec": {
   "display_name": "Python 3",
   "language": "python",
   "name": "python3"
  },
  "language_info": {
   "codemirror_mode": {
    "name": "ipython",
    "version": 3
   },
   "file_extension": ".py",
   "mimetype": "text/x-python",
   "name": "python",
   "nbconvert_exporter": "python",
   "pygments_lexer": "ipython3",
   "version": "3.7.3"
  }
 },
 "nbformat": 4,
 "nbformat_minor": 2
}
