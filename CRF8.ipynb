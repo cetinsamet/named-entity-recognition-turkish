{
 "cells": [
  {
   "cell_type": "code",
   "execution_count": 1,
   "metadata": {},
   "outputs": [],
   "source": [
    "# -*- coding: utf-8 -*-\n",
    "# --------------------------------------------------\n",
    "#\n",
    "# CRF8.ipynb\n",
    "#\n",
    "# Token features:\n",
    "#     (a) token (surface form)\n",
    "#     (b) is_first           : is token at the beginning of the sentence?\n",
    "#     (c) is_last            : is token at the end of the sentence?\n",
    "#     (d) is_capitalized     : does token start with a capital letter? \n",
    "#     (e) is_all_capitalized : is all letters of the token capitalized?\n",
    "#     (f) is_capitals_inside : is there any capitalized letter inside the token?\n",
    "#     (g) is_numeric         : is token numeric?\n",
    "#     (h) is_numeric_inside  : is numeric characters inside the token?\n",
    "#     (i) is_alphanumeric    : is token alphanumeric?\n",
    "#     (j) prefix-1           : first letter of the token\n",
    "#     (k) suffix-1           : last letter of the token\n",
    "#     (l) prefix-2           : first two letters of the token\n",
    "#     (m) suffix-2           : last two letters of the token\n",
    "#     (n) prefix-3           : first three letters of the token\n",
    "#     (o) suffix-3           : last three letters of the token\n",
    "#     (p) prefix-4           : first four letters of the token\n",
    "#     (q) suffix-4           : last four letters of the token\n",
    "#     (r) next-token         : following token\n",
    "#     (s) prev-token         : preceding token\n",
    "#     (t) 2-next-token       : second following token\n",
    "#     (u) 2-prev-token       : second preceding token\n",
    "#\n",
    "# Written by cetinsamet -*- cetin.samet@metu.edu.tr\n",
    "# May, 2019\n",
    "# --------------------------------------------------"
   ]
  },
  {
   "cell_type": "code",
   "execution_count": 2,
   "metadata": {},
   "outputs": [],
   "source": [
    "from sklearn.model_selection import RandomizedSearchCV\n",
    "from seqeval.metrics import classification_report\n",
    "from sklearn.metrics import make_scorer\n",
    "from sklearn_crfsuite import metrics\n",
    "from sklearn_crfsuite import CRF\n",
    "from tqdm import tqdm\n",
    "import jpype as jp\n",
    "import pickle\n",
    "import scipy"
   ]
  },
  {
   "cell_type": "code",
   "execution_count": 3,
   "metadata": {},
   "outputs": [],
   "source": [
    "def readFile(filepath):\n",
    "\n",
    "    text     = []\n",
    "    sentence = []\n",
    "\n",
    "    with open(filepath, 'r') as infile:\n",
    "        for line in infile:\n",
    "            word, _, _, _ = line.strip().split('\\t')\n",
    "\n",
    "            if word == '<S>':\n",
    "                text.append(sentence)\n",
    "                sentence = []\n",
    "                continue\n",
    "\n",
    "            sentence.append(line.strip())\n",
    "\n",
    "    return text"
   ]
  },
  {
   "cell_type": "code",
   "execution_count": 4,
   "metadata": {},
   "outputs": [],
   "source": [
    "trainText = readFile('data/train.txt')\n",
    "validText = readFile('data/valid.txt')\n",
    "testText  = readFile('data/test.txt')"
   ]
  },
  {
   "cell_type": "code",
   "execution_count": 5,
   "metadata": {},
   "outputs": [],
   "source": [
    "def getFeature(token, token_index, sentence):\n",
    "\n",
    "\n",
    "    feature = {'token'             : token,\n",
    "               'is_first'          : token_index == 0,\n",
    "               'is_last'           : token_index == len(sentence) - 1,\n",
    "               \n",
    "               'is_capitalized'    : token[0].upper() == token[0],\n",
    "               'is_all_capitalized': token.upper() == token,\n",
    "               'is_capitals_inside': token[1:].lower() != token[1:],\n",
    "               'is_numeric'        : token.isdigit(),\n",
    "               'is_numeric_inside' : any([c.isdigit() for c in token]),\n",
    "               'is_alphanumeric'   : token.isalnum(),\n",
    "               \n",
    "               'prefix-1'          : token[0],\n",
    "               'suffix-1'          : token[-1],\n",
    "               \n",
    "               'prefix-2'          : '' if len(token) < 2  else token[:2],\n",
    "               'suffix-2'          : '' if len(token) < 2  else token[-2:],\n",
    "\n",
    "               'prefix-3'          : '' if len(token) < 3  else token[:3],\n",
    "               'suffix-3'          : '' if len(token) < 3  else token[-3:],\n",
    "                \n",
    "               'prefix-4'          : '' if len(token) < 4  else token[:4],\n",
    "               'suffix-4'          : '' if len(token) < 4  else token[-4:],\n",
    "               \n",
    "               'prev-token'        : '' if token_index == 0 else sentence[token_index - 1],\n",
    "               'next-token'        : '' if token_index == len(sentence) - 1 else sentence[token_index + 1],\n",
    "               \n",
    "               '2-prev-token'      : '' if token_index <= 1 else sentence[token_index - 2],\n",
    "               '2-next-token'      : '' if token_index >= len(sentence) - 2 else sentence[token_index + 2],\n",
    "              }\n",
    "    \n",
    "    return feature"
   ]
  },
  {
   "cell_type": "code",
   "execution_count": 6,
   "metadata": {},
   "outputs": [
    {
     "name": "stderr",
     "output_type": "stream",
     "text": [
      "100%|██████████| 25736/25736 [00:08<00:00, 3112.50it/s]\n"
     ]
    }
   ],
   "source": [
    "trainFeatures = []\n",
    "trainLabels   = []\n",
    "\n",
    "for sentence_ in tqdm(trainText):\n",
    "\n",
    "    sentence = [token.split('\\t')[0] for token in sentence_]\n",
    "    labels   = [token.split('\\t')[-1] for token in sentence_]\n",
    "    features = []\n",
    "    for i, word in enumerate(sentence):\n",
    "        features.append(getFeature(word, i, sentence))\n",
    "    \n",
    "    trainFeatures.append(features)\n",
    "    trainLabels.append(labels)"
   ]
  },
  {
   "cell_type": "code",
   "execution_count": 7,
   "metadata": {},
   "outputs": [
    {
     "name": "stderr",
     "output_type": "stream",
     "text": [
      "100%|██████████| 6435/6435 [00:02<00:00, 2256.38it/s]\n"
     ]
    }
   ],
   "source": [
    "validFeatures = []\n",
    "validLabels   = []\n",
    "\n",
    "for sentence_ in tqdm(validText):\n",
    "    \n",
    "    sentence = [token.split('\\t')[0] for token in sentence_]\n",
    "    labels   = [token.split('\\t')[-1] for token in sentence_]\n",
    "    features = []\n",
    "    for i, word in enumerate(sentence):\n",
    "        features.append(getFeature(word, i, sentence))\n",
    "    \n",
    "    validFeatures.append(features)\n",
    "    validLabels.append(labels)"
   ]
  },
  {
   "cell_type": "code",
   "execution_count": 8,
   "metadata": {},
   "outputs": [
    {
     "name": "stderr",
     "output_type": "stream",
     "text": [
      "100%|██████████| 3328/3328 [00:01<00:00, 2329.13it/s]\n"
     ]
    }
   ],
   "source": [
    "testFeatures = []\n",
    "testLabels   = []\n",
    "\n",
    "for sentence_ in tqdm(testText):\n",
    "    \n",
    "    sentence = [token.split('\\t')[0] for token in sentence_]\n",
    "    labels   = [token.split('\\t')[-1] for token in sentence_]\n",
    "    features = []\n",
    "    for i, word in enumerate(sentence):\n",
    "        features.append(getFeature(word, i, sentence))\n",
    "    \n",
    "    testFeatures.append(features)\n",
    "    testLabels.append(labels)"
   ]
  },
  {
   "cell_type": "code",
   "execution_count": 9,
   "metadata": {},
   "outputs": [],
   "source": [
    "trainvalFeatures = trainFeatures + validFeatures\n",
    "trainvalLabels   = trainLabels   + validLabels"
   ]
  },
  {
   "cell_type": "code",
   "execution_count": 11,
   "metadata": {},
   "outputs": [
    {
     "name": "stdout",
     "output_type": "stream",
     "text": [
      "Fitting 3 folds for each of 30 candidates, totalling 90 fits\n"
     ]
    },
    {
     "name": "stderr",
     "output_type": "stream",
     "text": [
      "[Parallel(n_jobs=-1)]: Using backend LokyBackend with 4 concurrent workers.\n",
      "/Users/cetinsamet/anaconda3/lib/python3.7/site-packages/sklearn/externals/joblib/externals/loky/process_executor.py:706: UserWarning: A worker stopped while some jobs were given to the executor. This can be caused by a too short worker timeout or by a memory leak.\n",
      "  \"timeout or by a memory leak.\", UserWarning\n",
      "[Parallel(n_jobs=-1)]: Done  42 tasks      | elapsed: 295.6min\n",
      "[Parallel(n_jobs=-1)]: Done  90 out of  90 | elapsed: 630.2min finished\n",
      "loading training data to CRFsuite: 100%|██████████| 32171/32171 [00:26<00:00, 1209.49it/s]\n"
     ]
    },
    {
     "name": "stdout",
     "output_type": "stream",
     "text": [
      "\n",
      "Feature generation\n",
      "type: CRF1d\n",
      "feature.minfreq: 0.000000\n",
      "feature.possible_states: 0\n",
      "feature.possible_transitions: 1\n",
      "0....1....2....3....4....5....6....7....8....9....10\n",
      "Number of features: 450674\n",
      "Seconds required: 7.573\n",
      "\n",
      "L-BFGS optimization\n",
      "c1: 0.048313\n",
      "c2: 0.028432\n",
      "num_memories: 6\n",
      "max_iterations: 100\n",
      "epsilon: 0.000010\n",
      "stop: 10\n",
      "delta: 0.000010\n",
      "linesearch: MoreThuente\n",
      "linesearch.max_iterations: 20\n",
      "\n",
      "Iter 1   time=3.11  loss=662309.74 active=449852 feature_norm=1.00\n",
      "Iter 2   time=3.10  loss=491709.76 active=446954 feature_norm=5.26\n",
      "Iter 3   time=1.59  loss=399170.24 active=429258 feature_norm=4.56\n",
      "Iter 4   time=7.99  loss=389879.03 active=426862 feature_norm=2.67\n",
      "Iter 5   time=1.53  loss=328090.11 active=424842 feature_norm=4.24\n",
      "Iter 6   time=1.54  loss=241506.47 active=436199 feature_norm=4.14\n",
      "Iter 7   time=3.11  loss=208444.92 active=446995 feature_norm=4.36\n",
      "Iter 8   time=1.54  loss=189520.32 active=448661 feature_norm=4.33\n",
      "Iter 9   time=1.55  loss=179049.79 active=446782 feature_norm=4.64\n",
      "Iter 10  time=1.56  loss=166197.83 active=438492 feature_norm=5.33\n",
      "Iter 11  time=1.55  loss=132587.05 active=414497 feature_norm=7.97\n",
      "Iter 12  time=1.55  loss=113398.06 active=390591 feature_norm=10.53\n",
      "Iter 13  time=1.54  loss=101432.11 active=389722 feature_norm=12.01\n",
      "Iter 14  time=1.61  loss=90401.45 active=335723 feature_norm=13.82\n",
      "Iter 15  time=1.67  loss=74393.18 active=311585 feature_norm=20.38\n",
      "Iter 16  time=1.62  loss=64761.87 active=307908 feature_norm=22.82\n",
      "Iter 17  time=1.56  loss=60037.80 active=305773 feature_norm=24.65\n",
      "Iter 18  time=1.66  loss=56569.48 active=301050 feature_norm=26.60\n",
      "Iter 19  time=1.66  loss=50872.57 active=287249 feature_norm=31.68\n",
      "Iter 20  time=1.66  loss=45318.50 active=276023 feature_norm=37.48\n",
      "Iter 21  time=1.56  loss=41229.65 active=267755 feature_norm=41.52\n",
      "Iter 22  time=1.61  loss=37334.24 active=254238 feature_norm=47.40\n",
      "Iter 23  time=1.62  loss=33436.97 active=243467 feature_norm=53.69\n",
      "Iter 24  time=1.68  loss=29809.72 active=238277 feature_norm=61.59\n",
      "Iter 25  time=1.58  loss=26425.68 active=235681 feature_norm=68.60\n",
      "Iter 26  time=1.63  loss=23278.02 active=232209 feature_norm=76.76\n",
      "Iter 27  time=1.64  loss=19980.04 active=222318 feature_norm=87.39\n",
      "Iter 28  time=1.56  loss=18324.00 active=199231 feature_norm=101.99\n",
      "Iter 29  time=1.60  loss=15804.63 active=197282 feature_norm=107.03\n",
      "Iter 30  time=1.57  loss=14554.27 active=195120 feature_norm=113.32\n",
      "Iter 31  time=1.46  loss=12466.04 active=185549 feature_norm=129.83\n",
      "Iter 32  time=1.54  loss=11293.79 active=177105 feature_norm=141.18\n",
      "Iter 33  time=1.52  loss=10108.68 active=176617 feature_norm=148.60\n",
      "Iter 34  time=1.55  loss=9082.13  active=174226 feature_norm=157.53\n",
      "Iter 35  time=1.44  loss=8151.40  active=169366 feature_norm=165.59\n",
      "Iter 36  time=1.37  loss=7318.03  active=163757 feature_norm=173.48\n",
      "Iter 37  time=5.50  loss=7194.88  active=162866 feature_norm=175.31\n",
      "Iter 38  time=1.52  loss=6657.17  active=156062 feature_norm=179.84\n",
      "Iter 39  time=1.40  loss=6219.83  active=148061 feature_norm=183.82\n",
      "Iter 40  time=2.61  loss=6076.41  active=141289 feature_norm=186.61\n",
      "Iter 41  time=1.34  loss=5805.24  active=140655 feature_norm=189.51\n",
      "Iter 42  time=1.47  loss=5626.00  active=135473 feature_norm=191.58\n",
      "Iter 43  time=1.56  loss=5434.62  active=133298 feature_norm=193.94\n",
      "Iter 44  time=1.58  loss=5310.54  active=127768 feature_norm=194.97\n",
      "Iter 45  time=1.58  loss=5194.25  active=121289 feature_norm=196.05\n",
      "Iter 46  time=1.57  loss=5083.59  active=117153 feature_norm=197.89\n",
      "Iter 47  time=1.53  loss=5010.42  active=115688 feature_norm=198.94\n",
      "Iter 48  time=1.55  loss=4946.89  active=113077 feature_norm=200.09\n",
      "Iter 49  time=1.52  loss=4875.19  active=110187 feature_norm=201.73\n",
      "Iter 50  time=1.57  loss=4828.51  active=108326 feature_norm=202.73\n",
      "Iter 51  time=1.55  loss=4783.33  active=105261 feature_norm=203.57\n",
      "Iter 52  time=1.55  loss=4742.91  active=101609 feature_norm=204.43\n",
      "Iter 53  time=1.56  loss=4712.88  active=99969 feature_norm=204.71\n",
      "Iter 54  time=1.53  loss=4684.52  active=98336 feature_norm=204.95\n",
      "Iter 55  time=1.56  loss=4655.59  active=96481 feature_norm=205.05\n",
      "Iter 56  time=1.55  loss=4633.11  active=95014 feature_norm=205.35\n",
      "Iter 57  time=1.54  loss=4612.35  active=93750 feature_norm=205.37\n",
      "Iter 58  time=1.56  loss=4591.08  active=92412 feature_norm=205.58\n",
      "Iter 59  time=1.55  loss=4573.72  active=91004 feature_norm=205.57\n",
      "Iter 60  time=1.64  loss=4558.60  active=90233 feature_norm=205.76\n",
      "Iter 61  time=1.62  loss=4544.57  active=89083 feature_norm=205.68\n",
      "Iter 62  time=1.62  loss=4530.36  active=88157 feature_norm=205.78\n",
      "Iter 63  time=1.64  loss=4517.80  active=87265 feature_norm=205.63\n",
      "Iter 64  time=1.65  loss=4505.60  active=86298 feature_norm=205.66\n",
      "Iter 65  time=1.66  loss=4494.63  active=85385 feature_norm=205.50\n",
      "Iter 66  time=1.55  loss=4484.66  active=84806 feature_norm=205.52\n",
      "Iter 67  time=1.59  loss=4475.20  active=84089 feature_norm=205.33\n",
      "Iter 68  time=1.66  loss=4465.94  active=83429 feature_norm=205.25\n",
      "Iter 69  time=1.56  loss=4456.77  active=82717 feature_norm=205.02\n",
      "Iter 70  time=1.57  loss=4447.84  active=82270 feature_norm=204.87\n",
      "Iter 71  time=1.63  loss=4439.49  active=81610 feature_norm=204.59\n",
      "Iter 72  time=1.59  loss=4431.73  active=81127 feature_norm=204.45\n",
      "Iter 73  time=1.58  loss=4424.61  active=80650 feature_norm=204.14\n",
      "Iter 74  time=1.60  loss=4417.48  active=80268 feature_norm=204.00\n",
      "Iter 75  time=1.52  loss=4410.58  active=79717 feature_norm=203.74\n",
      "Iter 76  time=1.37  loss=4404.10  active=79321 feature_norm=203.59\n",
      "Iter 77  time=1.54  loss=4398.22  active=78825 feature_norm=203.36\n",
      "Iter 78  time=1.53  loss=4392.53  active=78560 feature_norm=203.24\n",
      "Iter 79  time=1.57  loss=4387.18  active=78176 feature_norm=203.06\n",
      "Iter 80  time=1.41  loss=4382.21  active=77838 feature_norm=202.96\n",
      "Iter 81  time=1.36  loss=4377.68  active=77433 feature_norm=202.82\n",
      "Iter 82  time=1.32  loss=4373.32  active=77190 feature_norm=202.76\n",
      "Iter 83  time=1.33  loss=4369.25  active=76823 feature_norm=202.65\n",
      "Iter 84  time=1.54  loss=4365.36  active=76611 feature_norm=202.63\n",
      "Iter 85  time=1.55  loss=4361.89  active=76271 feature_norm=202.55\n",
      "Iter 86  time=1.52  loss=4358.47  active=76026 feature_norm=202.57\n",
      "Iter 87  time=1.39  loss=4355.48  active=75741 feature_norm=202.51\n",
      "Iter 88  time=1.32  loss=4352.68  active=75596 feature_norm=202.54\n",
      "Iter 89  time=1.35  loss=4350.14  active=75394 feature_norm=202.47\n",
      "Iter 90  time=1.42  loss=4347.60  active=75307 feature_norm=202.53\n",
      "Iter 91  time=1.57  loss=4345.34  active=75064 feature_norm=202.47\n",
      "Iter 92  time=1.59  loss=4343.12  active=74917 feature_norm=202.53\n",
      "Iter 93  time=1.63  loss=4341.19  active=74673 feature_norm=202.47\n",
      "Iter 94  time=1.60  loss=4339.26  active=74468 feature_norm=202.54\n",
      "Iter 95  time=1.60  loss=4337.53  active=74270 feature_norm=202.48\n",
      "Iter 96  time=1.61  loss=4335.86  active=74113 feature_norm=202.55\n",
      "Iter 97  time=1.58  loss=4334.39  active=73890 feature_norm=202.51\n",
      "Iter 98  time=1.62  loss=4332.83  active=73749 feature_norm=202.57\n",
      "Iter 99  time=1.64  loss=4331.54  active=73555 feature_norm=202.53\n",
      "Iter 100 time=1.59  loss=4330.19  active=73471 feature_norm=202.61\n",
      "L-BFGS terminated with the maximum number of iterations\n",
      "Total seconds required for training: 171.162\n",
      "\n",
      "Storing the model\n",
      "Number of active features: 73471 (450674)\n",
      "Number of active attributes: 48711 (370714)\n",
      "Number of active labels: 15 (15)\n",
      "Writing labels\n",
      "Writing attributes\n",
      "Writing feature references for transitions\n",
      "Writing feature references for attributes\n",
      "Seconds required: 0.578\n",
      "\n"
     ]
    },
    {
     "data": {
      "text/plain": [
       "RandomizedSearchCV(cv=3, error_score='raise-deprecating',\n",
       "          estimator=CRF(algorithm='lbfgs', all_possible_states=None,\n",
       "  all_possible_transitions=True, averaging=None, c=None, c1=None, c2=None,\n",
       "  calibration_candidates=None, calibration_eta=None,\n",
       "  calibration_max_trials=None, calibration_rate=None,\n",
       "  calibration_samples=None, delta=None, epsilon=None, error...ne,\n",
       "  num_memories=None, pa_type=None, period=None, trainer_cls=None,\n",
       "  variance=None, verbose=True),\n",
       "          fit_params=None, iid='warn', n_iter=30, n_jobs=-1,\n",
       "          param_distributions={'c1': <scipy.stats._distn_infrastructure.rv_frozen object at 0x1a26858198>, 'c2': <scipy.stats._distn_infrastructure.rv_frozen object at 0x1a26858390>},\n",
       "          pre_dispatch='2*n_jobs', random_state=123, refit=True,\n",
       "          return_train_score='warn',\n",
       "          scoring=make_scorer(flat_f1_score, average=weighted), verbose=1)"
      ]
     },
     "execution_count": 11,
     "metadata": {},
     "output_type": "execute_result"
    }
   ],
   "source": [
    "# define fixed parameters and parameters to search\n",
    "crf = CRF(  algorithm='lbfgs',\n",
    "            max_iterations=100,\n",
    "            all_possible_transitions=True,\n",
    "            verbose=True)\n",
    "\n",
    "params_space = {'c1': scipy.stats.expon(scale=0.5),\n",
    "                'c2': scipy.stats.expon(scale=0.05)}\n",
    "\n",
    "# use the same metric for evaluation\n",
    "f1_scorer = make_scorer(metrics.flat_f1_score,\n",
    "                        average='weighted')\n",
    "\n",
    "# search\n",
    "rs = RandomizedSearchCV(crf, params_space,\n",
    "                        cv=3,\n",
    "                        verbose=1,\n",
    "                        n_jobs=-1,\n",
    "                        n_iter=30,\n",
    "                        random_state=123,\n",
    "                        scoring=f1_scorer)\n",
    "\n",
    "rs.fit(trainvalFeatures, trainvalLabels)"
   ]
  },
  {
   "cell_type": "code",
   "execution_count": 12,
   "metadata": {},
   "outputs": [
    {
     "name": "stdout",
     "output_type": "stream",
     "text": [
      "best params: {'c1': 0.04831323984330459, 'c2': 0.028431668831944812}\n",
      "best CV score: 0.9727052349127924\n",
      "model size: 4.36M\n"
     ]
    }
   ],
   "source": [
    "print('best params:', rs.best_params_)\n",
    "print('best CV score:', rs.best_score_)\n",
    "print('model size: {:0.2f}M'.format(rs.best_estimator_.size_ / 1000000))"
   ]
  },
  {
   "cell_type": "code",
   "execution_count": 13,
   "metadata": {},
   "outputs": [
    {
     "data": {
      "text/plain": [
       "CRF(algorithm='lbfgs', all_possible_states=None,\n",
       "  all_possible_transitions=True, averaging=None, c=None,\n",
       "  c1=0.04831323984330459, c2=0.028431668831944812,\n",
       "  calibration_candidates=None, calibration_eta=None,\n",
       "  calibration_max_trials=None, calibration_rate=None,\n",
       "  calibration_samples=None, delta=None, epsilon=None, error_sensitive=None,\n",
       "  gamma=None, keep_tempfiles=None, linesearch=None, max_iterations=100,\n",
       "  max_linesearch=None, min_freq=None, model_filename=None,\n",
       "  num_memories=None, pa_type=None, period=None, trainer_cls=None,\n",
       "  variance=None, verbose=True)"
      ]
     },
     "execution_count": 13,
     "metadata": {},
     "output_type": "execute_result"
    }
   ],
   "source": [
    "crf = rs.best_estimator_\n",
    "crf"
   ]
  },
  {
   "cell_type": "code",
   "execution_count": 14,
   "metadata": {},
   "outputs": [],
   "source": [
    "#crf.fit(trainvalFeatures, trainvalLabels)"
   ]
  },
  {
   "cell_type": "code",
   "execution_count": 15,
   "metadata": {},
   "outputs": [
    {
     "name": "stdout",
     "output_type": "stream",
     "text": [
      "model is saved.\n"
     ]
    }
   ],
   "source": [
    "# SAVE CONDITIONAL RANDOM FIELDS MODEL\n",
    "with open('model/crf08.pickle', 'wb') as outfile:\n",
    "    pickle.dump(crf, outfile, pickle.HIGHEST_PROTOCOL)\n",
    "    print(\"model is saved.\")"
   ]
  },
  {
   "cell_type": "code",
   "execution_count": 16,
   "metadata": {},
   "outputs": [],
   "source": [
    "# LOAD CONDITIONAL RANDOM FIELDS MODEL\n",
    "with open('model/crf08.pickle', 'rb') as infile:\n",
    "    crf = pickle.load(infile)"
   ]
  },
  {
   "cell_type": "code",
   "execution_count": 17,
   "metadata": {},
   "outputs": [
    {
     "name": "stdout",
     "output_type": "stream",
     "text": [
      "### TRAINVAL CLASSIFICATION REPORT ###\n",
      "\n",
      "              precision    recall  f1-score   support\n",
      "\n",
      "      PERSON       1.00      1.00      1.00     14476\n",
      "    LOCATION       1.00      1.00      1.00      9409\n",
      "       MONEY       1.00      1.00      1.00       594\n",
      "ORGANIZATION       1.00      1.00      1.00      9034\n",
      "        DATE       1.00      1.00      1.00      3103\n",
      "     PERCENT       1.00      1.00      1.00       617\n",
      "        TIME       1.00      1.00      1.00       175\n",
      "\n",
      "   micro avg       1.00      1.00      1.00     37408\n",
      "   macro avg       1.00      1.00      1.00     37408\n",
      "\n"
     ]
    }
   ],
   "source": [
    "trainvalPredLabels = crf.predict(trainvalFeatures)\n",
    "\n",
    "print(\"### TRAINVAL CLASSIFICATION REPORT ###\\n\")\n",
    "print(classification_report(trainvalLabels, trainvalPredLabels))"
   ]
  },
  {
   "cell_type": "code",
   "execution_count": 18,
   "metadata": {},
   "outputs": [
    {
     "name": "stdout",
     "output_type": "stream",
     "text": [
      "### TEST CLASSIFICATION REPORT ###\n",
      "\n",
      "              precision    recall  f1-score   support\n",
      "\n",
      "      PERSON       0.91      0.86      0.89      1594\n",
      "        DATE       0.92      0.90      0.91       364\n",
      "    LOCATION       0.90      0.87      0.89      1091\n",
      "       MONEY       0.94      0.77      0.84       113\n",
      "ORGANIZATION       0.86      0.80      0.83       862\n",
      "     PERCENT       0.99      0.93      0.96       107\n",
      "        TIME       0.90      0.83      0.86        23\n",
      "\n",
      "   micro avg       0.90      0.85      0.88      4154\n",
      "   macro avg       0.90      0.85      0.88      4154\n",
      "\n"
     ]
    }
   ],
   "source": [
    "testPredLabels  = crf.predict(testFeatures)\n",
    "\n",
    "print(\"### TEST CLASSIFICATION REPORT ###\\n\")\n",
    "print(classification_report(testLabels, testPredLabels))"
   ]
  },
  {
   "cell_type": "code",
   "execution_count": null,
   "metadata": {},
   "outputs": [],
   "source": []
  }
 ],
 "metadata": {
  "kernelspec": {
   "display_name": "Python 3",
   "language": "python",
   "name": "python3"
  },
  "language_info": {
   "codemirror_mode": {
    "name": "ipython",
    "version": 3
   },
   "file_extension": ".py",
   "mimetype": "text/x-python",
   "name": "python",
   "nbconvert_exporter": "python",
   "pygments_lexer": "ipython3",
   "version": "3.7.3"
  }
 },
 "nbformat": 4,
 "nbformat_minor": 2
}
