{
 "cells": [
  {
   "cell_type": "code",
   "execution_count": 1,
   "metadata": {},
   "outputs": [],
   "source": [
    "# -*- coding: utf-8 -*-\n",
    "# --------------------------------------------------\n",
    "#\n",
    "# CRF3.ipynb\n",
    "#\n",
    "# Token features:\n",
    "#     (a) token (surface form)\n",
    "#     (b) is_first           : is token at the beginning of the sentence?\n",
    "#     (c) is_last            : is token at the end of the sentence?\n",
    "#     (d) is_capitalized     : does token start with a capital letter? \n",
    "#     (e) is_all_capitalized : is all letters of the token capitalized?\n",
    "#     (f) is_capitals_inside : is there any capitalized letter inside the token?\n",
    "#     (g) is_numeric         : is token numeric?\n",
    "#     (h) is_numeric_inside  : is numeric characters inside the token?\n",
    "#     (i) is_alphanumeric    : is token alphanumeric?\n",
    "#     (j) prefix-1           : first letter of the token\n",
    "#     (k) suffix-1           : last letter of the token\n",
    "#\n",
    "# Written by cetinsamet -*- cetin.samet@metu.edu.tr\n",
    "# May, 2019\n",
    "# --------------------------------------------------"
   ]
  },
  {
   "cell_type": "code",
   "execution_count": 3,
   "metadata": {},
   "outputs": [],
   "source": [
    "from sklearn.model_selection import RandomizedSearchCV\n",
    "from seqeval.metrics import classification_report\n",
    "from sklearn.metrics import make_scorer\n",
    "from sklearn_crfsuite import metrics\n",
    "from sklearn_crfsuite import CRF\n",
    "from tqdm import tqdm\n",
    "import pickle\n",
    "import scipy"
   ]
  },
  {
   "cell_type": "code",
   "execution_count": 6,
   "metadata": {},
   "outputs": [],
   "source": [
    "def readFile(filepath):\n",
    "\n",
    "    text     = []\n",
    "    sentence = []\n",
    "\n",
    "    with open(filepath, 'r') as infile:\n",
    "        for line in infile:\n",
    "            word, _, _, _ = line.strip().split('\\t')\n",
    "\n",
    "            if word == '<S>':\n",
    "                text.append(sentence)\n",
    "                sentence = []\n",
    "                continue\n",
    "\n",
    "            sentence.append(line.strip())\n",
    "\n",
    "    return text"
   ]
  },
  {
   "cell_type": "code",
   "execution_count": 7,
   "metadata": {},
   "outputs": [],
   "source": [
    "trainText = readFile('data/train.txt')\n",
    "validText = readFile('data/valid.txt')\n",
    "testText  = readFile('data/test.txt')"
   ]
  },
  {
   "cell_type": "code",
   "execution_count": 8,
   "metadata": {},
   "outputs": [],
   "source": [
    "def getFeature(token, token_index, sentence):\n",
    "\n",
    "    feature = {'token'             : token,\n",
    "               'is_first'          : token_index == 0,\n",
    "               'is_last'           : token_index == len(sentence) - 1,\n",
    "               \n",
    "               'is_capitalized'    : token[0].upper() == token[0],\n",
    "               'is_all_capitalized': token.upper() == token,\n",
    "               'is_capitals_inside': token[1:].lower() != token[1:],\n",
    "               'is_numeric'        : token.isdigit(),\n",
    "               'is_numeric_inside' : any([c.isdigit() for c in token]),\n",
    "               'is_alphanumeric'   : token.isalnum(),\n",
    "               \n",
    "               'prefix-1'          : token[0],\n",
    "               'suffix-1'          : token[-1],\n",
    "              }\n",
    "    \n",
    "    return feature"
   ]
  },
  {
   "cell_type": "code",
   "execution_count": 9,
   "metadata": {},
   "outputs": [
    {
     "name": "stderr",
     "output_type": "stream",
     "text": [
      "100%|██████████| 25736/25736 [00:01<00:00, 14455.85it/s]\n"
     ]
    }
   ],
   "source": [
    "trainFeatures = []\n",
    "trainLabels   = []\n",
    "\n",
    "for sentence in tqdm(trainText):\n",
    "\n",
    "    features = []\n",
    "    labels   = []\n",
    "    for i, token in enumerate(sentence):\n",
    "        word, _, _, label = token.split('\\t')\n",
    "        \n",
    "        features.append(getFeature(word, i, sentence))\n",
    "        labels.append(label)\n",
    "    \n",
    "    trainFeatures.append(features)\n",
    "    trainLabels.append(labels)"
   ]
  },
  {
   "cell_type": "code",
   "execution_count": 10,
   "metadata": {},
   "outputs": [
    {
     "name": "stderr",
     "output_type": "stream",
     "text": [
      "100%|██████████| 6435/6435 [00:00<00:00, 11991.79it/s]\n"
     ]
    }
   ],
   "source": [
    "validFeatures = []\n",
    "validLabels   = []\n",
    "\n",
    "for sentence in tqdm(validText):\n",
    "    \n",
    "    features = []\n",
    "    labels   = []\n",
    "    for i, token in enumerate(sentence):\n",
    "        word, _, _, label = token.split('\\t')\n",
    "        \n",
    "        features.append(getFeature(word, i, sentence))\n",
    "        labels.append(label)\n",
    "    \n",
    "    validFeatures.append(features)\n",
    "    validLabels.append(labels)"
   ]
  },
  {
   "cell_type": "code",
   "execution_count": 12,
   "metadata": {},
   "outputs": [
    {
     "name": "stderr",
     "output_type": "stream",
     "text": [
      "100%|██████████| 3328/3328 [00:00<00:00, 13611.18it/s]\n"
     ]
    }
   ],
   "source": [
    "testFeatures = []\n",
    "testLabels   = []\n",
    "\n",
    "for sentence in tqdm(testText):\n",
    "    \n",
    "    features = []\n",
    "    labels   = []\n",
    "    for i, token in enumerate(sentence):\n",
    "        word, _, _, label = token.split('\\t')\n",
    "        \n",
    "        features.append(getFeature(word, i, sentence))\n",
    "        labels.append(label)\n",
    "    \n",
    "    testFeatures.append(features)\n",
    "    testLabels.append(labels)"
   ]
  },
  {
   "cell_type": "code",
   "execution_count": 14,
   "metadata": {},
   "outputs": [],
   "source": [
    "trainvalFeatures = trainFeatures + validFeatures\n",
    "trainvalLabels   = trainLabels   + validLabels"
   ]
  },
  {
   "cell_type": "code",
   "execution_count": 15,
   "metadata": {},
   "outputs": [
    {
     "name": "stdout",
     "output_type": "stream",
     "text": [
      "Fitting 3 folds for each of 30 candidates, totalling 90 fits\n"
     ]
    },
    {
     "name": "stderr",
     "output_type": "stream",
     "text": [
      "[Parallel(n_jobs=-1)]: Using backend LokyBackend with 4 concurrent workers.\n",
      "/Users/cetinsamet/anaconda3/lib/python3.7/site-packages/sklearn/externals/joblib/externals/loky/process_executor.py:706: UserWarning: A worker stopped while some jobs were given to the executor. This can be caused by a too short worker timeout or by a memory leak.\n",
      "  \"timeout or by a memory leak.\", UserWarning\n",
      "[Parallel(n_jobs=-1)]: Done  42 tasks      | elapsed: 64.4min\n",
      "[Parallel(n_jobs=-1)]: Done  90 out of  90 | elapsed: 150.6min finished\n",
      "loading training data to CRFsuite: 100%|██████████| 32171/32171 [00:16<00:00, 1967.21it/s]\n"
     ]
    },
    {
     "name": "stdout",
     "output_type": "stream",
     "text": [
      "\n",
      "Feature generation\n",
      "type: CRF1d\n",
      "feature.minfreq: 0.000000\n",
      "feature.possible_states: 0\n",
      "feature.possible_transitions: 1\n",
      "0....1....2....3....4....5....6....7....8....9....10\n",
      "Number of features: 76564\n",
      "Seconds required: 1.857\n",
      "\n",
      "L-BFGS optimization\n",
      "c1: 0.048313\n",
      "c2: 0.028432\n",
      "num_memories: 6\n",
      "max_iterations: 100\n",
      "epsilon: 0.000010\n",
      "stop: 10\n",
      "delta: 0.000010\n",
      "linesearch: MoreThuente\n",
      "linesearch.max_iterations: 20\n",
      "\n",
      "Iter 1   time=2.02  loss=703749.30 active=76541 feature_norm=1.00\n",
      "Iter 2   time=3.06  loss=404027.12 active=76342 feature_norm=4.22\n",
      "Iter 3   time=1.05  loss=340909.33 active=75441 feature_norm=3.68\n",
      "Iter 4   time=3.03  loss=298730.70 active=76019 feature_norm=2.62\n",
      "Iter 5   time=1.05  loss=266143.23 active=76324 feature_norm=3.37\n",
      "Iter 6   time=1.01  loss=248596.11 active=76374 feature_norm=3.35\n",
      "Iter 7   time=1.12  loss=230413.19 active=76320 feature_norm=3.82\n",
      "Iter 8   time=1.08  loss=217632.93 active=76471 feature_norm=4.10\n",
      "Iter 9   time=1.07  loss=188347.20 active=76524 feature_norm=5.61\n",
      "Iter 10  time=0.97  loss=162174.03 active=76437 feature_norm=7.97\n",
      "Iter 11  time=0.93  loss=141324.29 active=76321 feature_norm=10.58\n",
      "Iter 12  time=0.92  loss=133492.59 active=69803 feature_norm=11.92\n",
      "Iter 13  time=0.94  loss=126780.06 active=65134 feature_norm=12.88\n",
      "Iter 14  time=1.02  loss=118281.95 active=60350 feature_norm=15.05\n",
      "Iter 15  time=1.03  loss=109972.09 active=57230 feature_norm=16.76\n",
      "Iter 16  time=1.11  loss=101723.71 active=51218 feature_norm=21.96\n",
      "Iter 17  time=1.07  loss=95199.17 active=49749 feature_norm=24.25\n",
      "Iter 18  time=1.02  loss=92209.20 active=50109 feature_norm=24.18\n",
      "Iter 19  time=1.00  loss=89311.09 active=49308 feature_norm=25.75\n",
      "Iter 20  time=0.95  loss=86296.97 active=47897 feature_norm=29.41\n",
      "Iter 21  time=0.94  loss=82013.22 active=47285 feature_norm=31.20\n",
      "Iter 22  time=0.93  loss=78407.86 active=46127 feature_norm=35.30\n",
      "Iter 23  time=0.97  loss=74936.76 active=44938 feature_norm=39.55\n",
      "Iter 24  time=0.99  loss=71951.09 active=43684 feature_norm=43.19\n",
      "Iter 25  time=0.97  loss=68424.49 active=41566 feature_norm=49.25\n",
      "Iter 26  time=0.99  loss=64520.24 active=40723 feature_norm=55.17\n",
      "Iter 27  time=0.96  loss=60312.22 active=40129 feature_norm=62.71\n",
      "Iter 28  time=0.96  loss=56279.45 active=38955 feature_norm=72.95\n",
      "Iter 29  time=1.02  loss=51582.55 active=36831 feature_norm=86.20\n",
      "Iter 30  time=0.99  loss=47095.99 active=35573 feature_norm=99.66\n",
      "Iter 31  time=1.01  loss=42559.78 active=34510 feature_norm=118.20\n",
      "Iter 32  time=1.00  loss=38196.77 active=34241 feature_norm=137.89\n",
      "Iter 33  time=1.01  loss=34005.23 active=33891 feature_norm=158.80\n",
      "Iter 34  time=0.99  loss=30079.01 active=33213 feature_norm=185.35\n",
      "Iter 35  time=0.94  loss=30052.92 active=31042 feature_norm=220.11\n",
      "Iter 36  time=0.96  loss=25592.28 active=31227 feature_norm=227.75\n",
      "Iter 37  time=0.99  loss=24267.45 active=30934 feature_norm=238.68\n",
      "Iter 38  time=1.00  loss=21757.34 active=30328 feature_norm=268.97\n",
      "Iter 39  time=0.93  loss=21304.97 active=29632 feature_norm=304.29\n",
      "Iter 40  time=0.98  loss=19163.54 active=29431 feature_norm=310.31\n",
      "Iter 41  time=0.99  loss=18565.79 active=29393 feature_norm=315.50\n",
      "Iter 42  time=0.98  loss=17536.21 active=29259 feature_norm=328.19\n",
      "Iter 43  time=0.97  loss=16676.75 active=29078 feature_norm=337.52\n",
      "Iter 44  time=0.98  loss=16096.72 active=28692 feature_norm=343.33\n",
      "Iter 45  time=0.98  loss=15684.58 active=28528 feature_norm=344.60\n",
      "Iter 46  time=0.93  loss=15434.19 active=28328 feature_norm=346.96\n",
      "Iter 47  time=0.99  loss=15134.28 active=28232 feature_norm=352.54\n",
      "Iter 48  time=1.04  loss=15016.84 active=27678 feature_norm=362.35\n",
      "Iter 49  time=1.00  loss=14809.10 active=27711 feature_norm=363.64\n",
      "Iter 50  time=1.04  loss=14747.79 active=27664 feature_norm=365.43\n",
      "Iter 51  time=1.00  loss=14625.30 active=27486 feature_norm=369.72\n",
      "Iter 52  time=1.03  loss=14564.54 active=26893 feature_norm=372.77\n",
      "Iter 53  time=0.99  loss=14449.18 active=26724 feature_norm=373.86\n",
      "Iter 54  time=0.94  loss=14394.63 active=26646 feature_norm=374.48\n",
      "Iter 55  time=0.97  loss=14303.11 active=26428 feature_norm=375.50\n",
      "Iter 56  time=0.98  loss=14231.90 active=26167 feature_norm=376.14\n",
      "Iter 57  time=0.97  loss=14167.94 active=25988 feature_norm=376.73\n",
      "Iter 58  time=0.99  loss=14104.24 active=25602 feature_norm=377.25\n",
      "Iter 59  time=0.98  loss=14036.05 active=25402 feature_norm=377.75\n",
      "Iter 60  time=0.96  loss=13975.41 active=25187 feature_norm=378.45\n",
      "Iter 61  time=1.04  loss=13925.59 active=25166 feature_norm=379.03\n",
      "Iter 62  time=1.05  loss=13881.70 active=25006 feature_norm=379.59\n",
      "Iter 63  time=0.99  loss=13830.10 active=24774 feature_norm=380.25\n",
      "Iter 64  time=1.04  loss=13794.04 active=24657 feature_norm=380.85\n",
      "Iter 65  time=1.01  loss=13753.83 active=24513 feature_norm=381.50\n",
      "Iter 66  time=0.95  loss=13722.33 active=24425 feature_norm=382.18\n",
      "Iter 67  time=0.99  loss=13695.67 active=24366 feature_norm=382.64\n",
      "Iter 68  time=0.96  loss=13668.23 active=24253 feature_norm=383.29\n",
      "Iter 69  time=1.00  loss=13643.44 active=24190 feature_norm=383.82\n",
      "Iter 70  time=0.98  loss=13623.86 active=24121 feature_norm=384.34\n",
      "Iter 71  time=0.96  loss=13607.60 active=24056 feature_norm=384.70\n",
      "Iter 72  time=1.00  loss=13591.18 active=23992 feature_norm=385.16\n",
      "Iter 73  time=1.01  loss=13576.47 active=23899 feature_norm=385.51\n",
      "Iter 74  time=0.99  loss=13562.10 active=23856 feature_norm=385.91\n",
      "Iter 75  time=0.98  loss=13548.92 active=23809 feature_norm=386.28\n",
      "Iter 76  time=0.87  loss=13536.43 active=23750 feature_norm=386.66\n",
      "Iter 77  time=0.80  loss=13526.10 active=23742 feature_norm=386.96\n",
      "Iter 78  time=0.79  loss=13515.33 active=23672 feature_norm=387.27\n",
      "Iter 79  time=0.80  loss=13505.94 active=23642 feature_norm=387.52\n",
      "Iter 80  time=0.87  loss=13496.88 active=23592 feature_norm=387.78\n",
      "Iter 81  time=0.94  loss=13488.98 active=23560 feature_norm=387.92\n",
      "Iter 82  time=0.95  loss=13481.55 active=23514 feature_norm=388.07\n",
      "Iter 83  time=0.93  loss=13474.37 active=23489 feature_norm=388.16\n",
      "Iter 84  time=0.98  loss=13467.94 active=23454 feature_norm=388.23\n",
      "Iter 85  time=0.97  loss=13461.44 active=23441 feature_norm=388.27\n",
      "Iter 86  time=1.00  loss=13454.96 active=23403 feature_norm=388.32\n",
      "Iter 87  time=1.01  loss=13449.24 active=23395 feature_norm=388.32\n",
      "Iter 88  time=0.94  loss=13443.76 active=23385 feature_norm=388.34\n",
      "Iter 89  time=0.96  loss=13438.05 active=23371 feature_norm=388.30\n",
      "Iter 90  time=0.95  loss=13432.59 active=23350 feature_norm=388.28\n",
      "Iter 91  time=0.96  loss=13427.99 active=23348 feature_norm=388.24\n",
      "Iter 92  time=0.92  loss=13423.91 active=23327 feature_norm=388.24\n",
      "Iter 93  time=0.92  loss=13419.94 active=23303 feature_norm=388.21\n",
      "Iter 94  time=0.92  loss=13415.69 active=23274 feature_norm=388.22\n",
      "Iter 95  time=0.93  loss=13411.62 active=23248 feature_norm=388.21\n",
      "Iter 96  time=0.93  loss=13407.86 active=23224 feature_norm=388.25\n",
      "Iter 97  time=0.94  loss=13404.23 active=23223 feature_norm=388.25\n",
      "Iter 98  time=0.96  loss=13400.59 active=23216 feature_norm=388.29\n",
      "Iter 99  time=0.93  loss=13397.17 active=23213 feature_norm=388.31\n",
      "Iter 100 time=0.93  loss=13394.00 active=23198 feature_norm=388.37\n",
      "L-BFGS terminated with the maximum number of iterations\n",
      "Total seconds required for training: 102.787\n",
      "\n",
      "Storing the model\n",
      "Number of active features: 23198 (76564)\n",
      "Number of active attributes: 18828 (71632)\n",
      "Number of active labels: 15 (15)\n",
      "Writing labels\n",
      "Writing attributes\n",
      "Writing feature references for transitions\n",
      "Writing feature references for attributes\n",
      "Seconds required: 0.209\n",
      "\n"
     ]
    },
    {
     "data": {
      "text/plain": [
       "RandomizedSearchCV(cv=3, error_score='raise-deprecating',\n",
       "          estimator=CRF(algorithm='lbfgs', all_possible_states=None,\n",
       "  all_possible_transitions=True, averaging=None, c=None, c1=None, c2=None,\n",
       "  calibration_candidates=None, calibration_eta=None,\n",
       "  calibration_max_trials=None, calibration_rate=None,\n",
       "  calibration_samples=None, delta=None, epsilon=None, error...ne,\n",
       "  num_memories=None, pa_type=None, period=None, trainer_cls=None,\n",
       "  variance=None, verbose=True),\n",
       "          fit_params=None, iid='warn', n_iter=30, n_jobs=-1,\n",
       "          param_distributions={'c1': <scipy.stats._distn_infrastructure.rv_frozen object at 0x1b00d149b0>, 'c2': <scipy.stats._distn_infrastructure.rv_frozen object at 0x1b00d14c88>},\n",
       "          pre_dispatch='2*n_jobs', random_state=123, refit=True,\n",
       "          return_train_score='warn',\n",
       "          scoring=make_scorer(flat_f1_score, average=weighted), verbose=1)"
      ]
     },
     "execution_count": 15,
     "metadata": {},
     "output_type": "execute_result"
    }
   ],
   "source": [
    "# define fixed parameters and parameters to search\n",
    "crf = CRF(  algorithm='lbfgs',\n",
    "            max_iterations=100,\n",
    "            all_possible_transitions=True,\n",
    "            verbose=True)\n",
    "\n",
    "params_space = {'c1': scipy.stats.expon(scale=0.5),\n",
    "                'c2': scipy.stats.expon(scale=0.05)}\n",
    "\n",
    "# use the same metric for evaluation\n",
    "f1_scorer = make_scorer(metrics.flat_f1_score,\n",
    "                        average='weighted')\n",
    "\n",
    "# search\n",
    "rs = RandomizedSearchCV(crf, params_space,\n",
    "                        cv=3,\n",
    "                        verbose=1,\n",
    "                        n_jobs=-1,\n",
    "                        n_iter=30,\n",
    "                        random_state=123,\n",
    "                        scoring=f1_scorer)\n",
    "\n",
    "rs.fit(trainvalFeatures, trainvalLabels)"
   ]
  },
  {
   "cell_type": "code",
   "execution_count": 16,
   "metadata": {},
   "outputs": [
    {
     "name": "stdout",
     "output_type": "stream",
     "text": [
      "best params: {'c1': 0.04831323984330459, 'c2': 0.028431668831944812}\n",
      "best CV score: 0.9648608250803564\n",
      "model size: 1.53M\n"
     ]
    }
   ],
   "source": [
    "print('best params:', rs.best_params_)\n",
    "print('best CV score:', rs.best_score_)\n",
    "print('model size: {:0.2f}M'.format(rs.best_estimator_.size_ / 1000000))"
   ]
  },
  {
   "cell_type": "code",
   "execution_count": 17,
   "metadata": {},
   "outputs": [
    {
     "data": {
      "text/plain": [
       "CRF(algorithm='lbfgs', all_possible_states=None,\n",
       "  all_possible_transitions=True, averaging=None, c=None,\n",
       "  c1=0.04831323984330459, c2=0.028431668831944812,\n",
       "  calibration_candidates=None, calibration_eta=None,\n",
       "  calibration_max_trials=None, calibration_rate=None,\n",
       "  calibration_samples=None, delta=None, epsilon=None, error_sensitive=None,\n",
       "  gamma=None, keep_tempfiles=None, linesearch=None, max_iterations=100,\n",
       "  max_linesearch=None, min_freq=None, model_filename=None,\n",
       "  num_memories=None, pa_type=None, period=None, trainer_cls=None,\n",
       "  variance=None, verbose=True)"
      ]
     },
     "execution_count": 17,
     "metadata": {},
     "output_type": "execute_result"
    }
   ],
   "source": [
    "crf = rs.best_estimator_\n",
    "crf"
   ]
  },
  {
   "cell_type": "code",
   "execution_count": 19,
   "metadata": {},
   "outputs": [],
   "source": [
    "#crf.fit(trainvalFeatures, trainvalLabels)"
   ]
  },
  {
   "cell_type": "code",
   "execution_count": 20,
   "metadata": {},
   "outputs": [
    {
     "name": "stdout",
     "output_type": "stream",
     "text": [
      "model is saved.\n"
     ]
    }
   ],
   "source": [
    "# SAVE CONDITIONAL RANDOM FIELDS MODEL\n",
    "with open('model/crf3.pickle', 'wb') as outfile:\n",
    "    pickle.dump(crf, outfile, pickle.HIGHEST_PROTOCOL)\n",
    "    print(\"model is saved.\")"
   ]
  },
  {
   "cell_type": "code",
   "execution_count": 21,
   "metadata": {},
   "outputs": [],
   "source": [
    "# LOAD CONDITIONAL RANDOM FIELDS MODEL\n",
    "with open('model/crf3.pickle', 'rb') as infile:\n",
    "    crf = pickle.load(infile)"
   ]
  },
  {
   "cell_type": "code",
   "execution_count": 22,
   "metadata": {},
   "outputs": [
    {
     "name": "stdout",
     "output_type": "stream",
     "text": [
      "### TRAINVAL CLASSIFICATION REPORT ###\n",
      "\n",
      "              precision    recall  f1-score   support\n",
      "\n",
      "    LOCATION       0.98      0.99      0.98      9409\n",
      "        DATE       0.96      0.97      0.96      3103\n",
      "       MONEY       0.98      0.97      0.98       594\n",
      "ORGANIZATION       0.97      0.97      0.97      9034\n",
      "      PERSON       0.98      0.98      0.98     14476\n",
      "        TIME       0.99      1.00      1.00       175\n",
      "     PERCENT       1.00      1.00      1.00       617\n",
      "\n",
      "   micro avg       0.98      0.98      0.98     37408\n",
      "   macro avg       0.98      0.98      0.98     37408\n",
      "\n"
     ]
    }
   ],
   "source": [
    "trainvalPredLabels = crf.predict(trainvalFeatures)\n",
    "\n",
    "print(\"### TRAINVAL CLASSIFICATION REPORT ###\\n\")\n",
    "print(classification_report(trainvalLabels, trainvalPredLabels))"
   ]
  },
  {
   "cell_type": "code",
   "execution_count": 23,
   "metadata": {},
   "outputs": [
    {
     "name": "stdout",
     "output_type": "stream",
     "text": [
      "### TEST CLASSIFICATION REPORT ###\n",
      "\n",
      "              precision    recall  f1-score   support\n",
      "\n",
      "      PERSON       0.89      0.79      0.84      1594\n",
      "    LOCATION       0.88      0.82      0.85      1091\n",
      "        DATE       0.88      0.84      0.86       364\n",
      "ORGANIZATION       0.79      0.77      0.78       862\n",
      "       MONEY       0.84      0.72      0.78       113\n",
      "     PERCENT       0.99      0.95      0.97       107\n",
      "        TIME       0.83      0.65      0.73        23\n",
      "\n",
      "   micro avg       0.87      0.80      0.83      4154\n",
      "   macro avg       0.87      0.80      0.83      4154\n",
      "\n"
     ]
    }
   ],
   "source": [
    "testPredLabels  = crf.predict(testFeatures)\n",
    "\n",
    "print(\"### TEST CLASSIFICATION REPORT ###\\n\")\n",
    "print(classification_report(testLabels, testPredLabels))"
   ]
  },
  {
   "cell_type": "code",
   "execution_count": null,
   "metadata": {},
   "outputs": [],
   "source": []
  }
 ],
 "metadata": {
  "kernelspec": {
   "display_name": "Python 3",
   "language": "python",
   "name": "python3"
  },
  "language_info": {
   "codemirror_mode": {
    "name": "ipython",
    "version": 3
   },
   "file_extension": ".py",
   "mimetype": "text/x-python",
   "name": "python",
   "nbconvert_exporter": "python",
   "pygments_lexer": "ipython3",
   "version": "3.7.3"
  }
 },
 "nbformat": 4,
 "nbformat_minor": 2
}
