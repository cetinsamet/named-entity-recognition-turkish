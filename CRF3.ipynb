{
 "cells": [
  {
   "cell_type": "code",
   "execution_count": 2,
   "metadata": {},
   "outputs": [],
   "source": [
    "# -*- coding: utf-8 -*-\n",
    "# --------------------------------------------------\n",
    "#\n",
    "# CRF3.ipynb\n",
    "#\n",
    "# (1) Token lemmatization using Zemberek TurkishMorphology  (DO NOT lemmatize tokens starting with uppercase letter)\n",
    "# (2) Token features:\n",
    "#     (a) token\n",
    "#     (b) is_first           : is token at the beginning of the sentence?\n",
    "#     (c) is_last            : is token at the end of the sentence?\n",
    "#     (d) is_capitalized     : does token start with a capital letter? \n",
    "#     (e) is_all_capitalized : is all letters of the token capitalized?\n",
    "#     (f) is_capitals_inside : is there any capitalized letter inside the token?\n",
    "#     (g) is_numeric         : is token numeric?\n",
    "#     (h) prefix-1           : first letter of the token\n",
    "#     (i) suffix-1           : last letter of the token\n",
    "#\n",
    "# Written by cetinsamet -*- cetin.samet@metu.edu.tr\n",
    "# May, 2019\n",
    "# --------------------------------------------------"
   ]
  },
  {
   "cell_type": "code",
   "execution_count": 3,
   "metadata": {},
   "outputs": [],
   "source": [
    "from sklearn.model_selection import RandomizedSearchCV\n",
    "from seqeval.metrics import classification_report\n",
    "from sklearn.metrics import make_scorer\n",
    "from sklearn_crfsuite import metrics\n",
    "from sklearn_crfsuite import CRF\n",
    "import jpype as jp\n",
    "import pickle\n",
    "import scipy"
   ]
  },
  {
   "cell_type": "code",
   "execution_count": 4,
   "metadata": {},
   "outputs": [],
   "source": [
    "ZEMBEREK_PATH = 'bin/zemberek-full.jar'\n",
    "\n",
    "# Start the JVM\n",
    "jp.startJVM(jp.getDefaultJVMPath(), '-ea', '-Djava.class.path=%s' % (ZEMBEREK_PATH))"
   ]
  },
  {
   "cell_type": "code",
   "execution_count": 5,
   "metadata": {},
   "outputs": [],
   "source": [
    "TurkishMorphology = jp.JClass('zemberek.morphology.TurkishMorphology')\n",
    "morphology        = TurkishMorphology.createWithDefaults()"
   ]
  },
  {
   "cell_type": "code",
   "execution_count": 6,
   "metadata": {},
   "outputs": [],
   "source": [
    "def readFile(filepath):\n",
    "\n",
    "    text     = []\n",
    "    sentence = []\n",
    "\n",
    "    with open(filepath, 'r') as infile:\n",
    "        for line in infile:\n",
    "            word, _, _, _ = line.strip().split('\\t')\n",
    "\n",
    "            if word == '<S>':\n",
    "                text.append(sentence)\n",
    "                sentence = []\n",
    "                continue\n",
    "\n",
    "            sentence.append(line.strip())\n",
    "\n",
    "    return text"
   ]
  },
  {
   "cell_type": "code",
   "execution_count": 7,
   "metadata": {},
   "outputs": [],
   "source": [
    "trainText = readFile('data/train.txt')\n",
    "validText = readFile('data/valid.txt')\n",
    "testText  = readFile('data/test.txt')"
   ]
  },
  {
   "cell_type": "code",
   "execution_count": 8,
   "metadata": {},
   "outputs": [],
   "source": [
    "def getFeature(token, token_index, sentence):\n",
    "\n",
    "    feature = {'token'             : token,\n",
    "               'is_first'          : token_index == 0,\n",
    "               'is_last'           : token_index == len(sentence) - 1,\n",
    "               \n",
    "               'is_capitalized'    : token[0].upper() == token[0],\n",
    "               'is_all_capitalized': token.upper() == token,\n",
    "               'is_capitals_inside': token[1:].lower() != token[1:],\n",
    "               'is_numeric'        : token.isdigit(),\n",
    "               \n",
    "               'prefix-1'          : token[0],\n",
    "               'suffix-1'          : token[-1],\n",
    "              }\n",
    "    \n",
    "    return feature"
   ]
  },
  {
   "cell_type": "code",
   "execution_count": 9,
   "metadata": {},
   "outputs": [],
   "source": [
    "trainFeatures = []\n",
    "trainLabels   = []\n",
    "\n",
    "for sentence in trainText:\n",
    "    SENT     = []\n",
    "    features = []\n",
    "    labels   = []\n",
    "    for token in sentence:\n",
    "        word, _, _, label = token.split('\\t')\n",
    "        \n",
    "        if word[0] == word[0].upper():\n",
    "            root = word\n",
    "        else:\n",
    "            results = morphology.analyze(word).analysisResults\n",
    "            root    = results[0].getLemmas()[0] if results else word\n",
    "        SENT.append(root)\n",
    "        labels.append(label)\n",
    "        \n",
    "    for i, word in enumerate(SENT):\n",
    "        features.append(getFeature(word, i, SENT))\n",
    "    \n",
    "    trainFeatures.append(features)\n",
    "    trainLabels.append(labels)"
   ]
  },
  {
   "cell_type": "code",
   "execution_count": 10,
   "metadata": {},
   "outputs": [],
   "source": [
    "validFeatures = []\n",
    "validLabels   = []\n",
    "\n",
    "for sentence in validText:\n",
    "    SENT     = []\n",
    "    features = []\n",
    "    labels   = []\n",
    "    for token in sentence:\n",
    "        word, _, _, label = token.split('\\t')\n",
    "        \n",
    "        if word[0] == word[0].upper():\n",
    "            root = word\n",
    "        else:\n",
    "            results = morphology.analyze(word).analysisResults\n",
    "            root    = results[0].getLemmas()[0] if results else word\n",
    "        SENT.append(root)\n",
    "        labels.append(label)\n",
    "        \n",
    "    for i, word in enumerate(SENT):\n",
    "        features.append(getFeature(word, i, SENT))\n",
    "    \n",
    "    validFeatures.append(features)\n",
    "    validLabels.append(labels)"
   ]
  },
  {
   "cell_type": "code",
   "execution_count": 11,
   "metadata": {},
   "outputs": [],
   "source": [
    "testFeatures = []\n",
    "testLabels   = []\n",
    "\n",
    "for sentence in testText:\n",
    "    SENT     = []\n",
    "    features = []\n",
    "    labels   = []\n",
    "    for token in sentence:\n",
    "        word, _, _, label = token.split('\\t')\n",
    "        \n",
    "        if word[0] == word[0].upper():\n",
    "            root = word\n",
    "        else:\n",
    "            results = morphology.analyze(word).analysisResults\n",
    "            root    = results[0].getLemmas()[0] if results else word\n",
    "        SENT.append(root)\n",
    "        labels.append(label)\n",
    "        \n",
    "    for i, word in enumerate(SENT):\n",
    "        features.append(getFeature(word, i, SENT))\n",
    "    \n",
    "    testFeatures.append(features)\n",
    "    testLabels.append(labels)"
   ]
  },
  {
   "cell_type": "code",
   "execution_count": 12,
   "metadata": {},
   "outputs": [],
   "source": [
    "trainvalFeatures = trainFeatures + validFeatures\n",
    "trainvalLabels   = trainLabels   + validLabels"
   ]
  },
  {
   "cell_type": "code",
   "execution_count": 13,
   "metadata": {},
   "outputs": [
    {
     "name": "stdout",
     "output_type": "stream",
     "text": [
      "Fitting 3 folds for each of 50 candidates, totalling 150 fits\n"
     ]
    },
    {
     "name": "stderr",
     "output_type": "stream",
     "text": [
      "[Parallel(n_jobs=-1)]: Using backend LokyBackend with 4 concurrent workers.\n",
      "[Parallel(n_jobs=-1)]: Done  42 tasks      | elapsed: 24.7min\n",
      "/Users/cetinsamet/anaconda3/lib/python3.7/site-packages/sklearn/externals/joblib/externals/loky/process_executor.py:706: UserWarning: A worker stopped while some jobs were given to the executor. This can be caused by a too short worker timeout or by a memory leak.\n",
      "  \"timeout or by a memory leak.\", UserWarning\n",
      "[Parallel(n_jobs=-1)]: Done 150 out of 150 | elapsed: 97.7min finished\n",
      "loading training data to CRFsuite: 100%|██████████| 32171/32171 [00:02<00:00, 12430.92it/s]\n"
     ]
    },
    {
     "name": "stdout",
     "output_type": "stream",
     "text": [
      "\n",
      "Feature generation\n",
      "type: CRF1d\n",
      "feature.minfreq: 0.000000\n",
      "feature.possible_states: 0\n",
      "feature.possible_transitions: 1\n",
      "0....1....2....3....4....5....6....7....8....9....10\n",
      "Number of features: 35892\n",
      "Seconds required: 0.625\n",
      "\n",
      "L-BFGS optimization\n",
      "c1: 0.008130\n",
      "c2: 0.045123\n",
      "num_memories: 6\n",
      "max_iterations: 100\n",
      "epsilon: 0.000010\n",
      "stop: 10\n",
      "delta: 0.000010\n",
      "linesearch: MoreThuente\n",
      "linesearch.max_iterations: 20\n",
      "\n",
      "Iter 1   time=0.81  loss=805247.25 active=35866 feature_norm=1.00\n",
      "Iter 2   time=1.69  loss=575972.93 active=35802 feature_norm=7.04\n",
      "Iter 3   time=0.43  loss=465144.14 active=34549 feature_norm=6.00\n",
      "Iter 4   time=2.46  loss=252570.06 active=35410 feature_norm=3.95\n",
      "Iter 5   time=0.42  loss=228251.68 active=35725 feature_norm=4.62\n",
      "Iter 6   time=0.82  loss=211969.05 active=35768 feature_norm=7.64\n",
      "Iter 7   time=0.41  loss=171606.60 active=35797 feature_norm=8.26\n",
      "Iter 8   time=0.41  loss=162452.41 active=35843 feature_norm=9.06\n",
      "Iter 9   time=0.41  loss=153709.36 active=35776 feature_norm=11.26\n",
      "Iter 10  time=0.56  loss=145815.03 active=35833 feature_norm=11.46\n",
      "Iter 11  time=0.59  loss=140944.79 active=35810 feature_norm=11.98\n",
      "Iter 12  time=0.52  loss=134184.50 active=35743 feature_norm=13.04\n",
      "Iter 13  time=0.49  loss=121838.80 active=35655 feature_norm=15.39\n",
      "Iter 14  time=0.49  loss=115574.76 active=35719 feature_norm=19.02\n",
      "Iter 15  time=0.43  loss=110168.54 active=35832 feature_norm=19.52\n",
      "Iter 16  time=0.43  loss=104715.85 active=35819 feature_norm=21.66\n",
      "Iter 17  time=0.48  loss=97468.75 active=35794 feature_norm=24.34\n",
      "Iter 18  time=0.46  loss=90509.44 active=35775 feature_norm=28.51\n",
      "Iter 19  time=1.08  loss=87171.03 active=35802 feature_norm=31.42\n",
      "Iter 20  time=0.45  loss=84410.37 active=35822 feature_norm=33.39\n",
      "Iter 21  time=0.48  loss=81512.00 active=35800 feature_norm=36.83\n",
      "Iter 22  time=0.46  loss=77566.42 active=35758 feature_norm=41.18\n",
      "Iter 23  time=0.46  loss=73518.69 active=35590 feature_norm=48.02\n",
      "Iter 24  time=0.43  loss=69912.73 active=35406 feature_norm=53.15\n",
      "Iter 25  time=0.47  loss=66449.95 active=34969 feature_norm=58.60\n",
      "Iter 26  time=0.59  loss=62101.46 active=34476 feature_norm=67.62\n",
      "Iter 27  time=0.55  loss=57859.45 active=34239 feature_norm=76.96\n",
      "Iter 28  time=0.50  loss=52521.02 active=33642 feature_norm=93.51\n",
      "Iter 29  time=0.59  loss=47947.56 active=33143 feature_norm=110.17\n",
      "Iter 30  time=0.73  loss=44295.47 active=33093 feature_norm=123.18\n",
      "Iter 31  time=0.60  loss=39349.73 active=32966 feature_norm=148.54\n",
      "Iter 32  time=0.69  loss=35731.96 active=32928 feature_norm=166.03\n",
      "Iter 33  time=0.68  loss=32211.61 active=32660 feature_norm=188.69\n",
      "Iter 34  time=0.52  loss=28629.84 active=32514 feature_norm=217.69\n",
      "Iter 35  time=0.50  loss=26168.62 active=32076 feature_norm=243.18\n",
      "Iter 36  time=0.61  loss=23980.91 active=32041 feature_norm=263.09\n",
      "Iter 37  time=0.48  loss=22387.54 active=31399 feature_norm=281.82\n",
      "Iter 38  time=0.61  loss=21312.11 active=31148 feature_norm=310.26\n",
      "Iter 39  time=0.46  loss=20018.36 active=31127 feature_norm=319.25\n",
      "Iter 40  time=0.46  loss=19530.18 active=31152 feature_norm=326.17\n",
      "Iter 41  time=0.43  loss=18749.41 active=31101 feature_norm=341.09\n",
      "Iter 42  time=0.88  loss=18429.18 active=31017 feature_norm=349.65\n",
      "Iter 43  time=0.44  loss=17996.03 active=30970 feature_norm=350.77\n",
      "Iter 44  time=0.43  loss=17789.43 active=30785 feature_norm=355.55\n",
      "Iter 45  time=0.42  loss=17615.68 active=30593 feature_norm=357.64\n",
      "Iter 46  time=0.45  loss=17491.05 active=30551 feature_norm=359.32\n",
      "Iter 47  time=0.44  loss=17394.83 active=30504 feature_norm=359.57\n",
      "Iter 48  time=0.43  loss=17311.69 active=30411 feature_norm=359.20\n",
      "Iter 49  time=0.43  loss=17235.63 active=30321 feature_norm=359.29\n",
      "Iter 50  time=0.44  loss=17165.31 active=30241 feature_norm=359.74\n",
      "Iter 51  time=0.42  loss=17106.05 active=30171 feature_norm=360.20\n",
      "Iter 52  time=0.43  loss=17049.02 active=30104 feature_norm=360.70\n",
      "Iter 53  time=0.51  loss=16969.46 active=29872 feature_norm=361.23\n",
      "Iter 54  time=0.44  loss=16911.02 active=29801 feature_norm=361.68\n",
      "Iter 55  time=0.51  loss=16856.08 active=29646 feature_norm=362.02\n",
      "Iter 56  time=0.47  loss=16801.22 active=29603 feature_norm=362.60\n",
      "Iter 57  time=0.51  loss=16759.19 active=29541 feature_norm=362.96\n",
      "Iter 58  time=0.51  loss=16719.13 active=29199 feature_norm=363.50\n",
      "Iter 59  time=0.52  loss=16683.27 active=29133 feature_norm=363.98\n",
      "Iter 60  time=0.46  loss=16653.42 active=29047 feature_norm=364.43\n",
      "Iter 61  time=0.47  loss=16622.40 active=29040 feature_norm=364.85\n",
      "Iter 62  time=0.50  loss=16594.61 active=28961 feature_norm=365.28\n",
      "Iter 63  time=0.47  loss=16571.69 active=28909 feature_norm=365.59\n",
      "Iter 64  time=0.47  loss=16553.22 active=28809 feature_norm=365.89\n",
      "Iter 65  time=0.47  loss=16535.97 active=28712 feature_norm=366.12\n",
      "Iter 66  time=0.44  loss=16520.05 active=28664 feature_norm=366.39\n",
      "Iter 67  time=0.47  loss=16505.04 active=28614 feature_norm=366.59\n",
      "Iter 68  time=0.53  loss=16491.31 active=28589 feature_norm=366.81\n",
      "Iter 69  time=0.58  loss=16479.87 active=28546 feature_norm=366.95\n",
      "Iter 70  time=0.50  loss=16468.49 active=28490 feature_norm=367.13\n",
      "Iter 71  time=0.44  loss=16457.27 active=28472 feature_norm=367.23\n",
      "Iter 72  time=0.62  loss=16447.11 active=28396 feature_norm=367.38\n",
      "Iter 73  time=0.52  loss=16437.64 active=28350 feature_norm=367.45\n",
      "Iter 74  time=0.54  loss=16429.57 active=28301 feature_norm=367.57\n",
      "Iter 75  time=0.53  loss=16420.92 active=28301 feature_norm=367.62\n",
      "Iter 76  time=0.55  loss=16413.92 active=28254 feature_norm=367.68\n",
      "Iter 77  time=0.51  loss=16406.80 active=28235 feature_norm=367.71\n",
      "Iter 78  time=0.53  loss=16400.86 active=28195 feature_norm=367.77\n",
      "Iter 79  time=0.46  loss=16395.30 active=28180 feature_norm=367.77\n",
      "Iter 80  time=0.45  loss=16390.06 active=28151 feature_norm=367.82\n",
      "Iter 81  time=0.44  loss=16385.29 active=28149 feature_norm=367.81\n",
      "Iter 82  time=0.48  loss=16380.81 active=28118 feature_norm=367.84\n",
      "Iter 83  time=0.53  loss=16376.25 active=28103 feature_norm=367.83\n",
      "Iter 84  time=0.46  loss=16372.47 active=28088 feature_norm=367.87\n",
      "Iter 85  time=0.56  loss=16368.36 active=28081 feature_norm=367.85\n",
      "Iter 86  time=0.46  loss=16364.43 active=28060 feature_norm=367.87\n",
      "Iter 87  time=0.49  loss=16362.26 active=28045 feature_norm=367.85\n",
      "Iter 88  time=0.58  loss=16358.00 active=28024 feature_norm=367.90\n",
      "Iter 89  time=0.60  loss=16355.04 active=28020 feature_norm=367.87\n",
      "Iter 90  time=0.50  loss=16351.71 active=28002 feature_norm=367.88\n",
      "Iter 91  time=0.57  loss=16348.52 active=27983 feature_norm=367.85\n",
      "Iter 92  time=0.56  loss=16346.99 active=27969 feature_norm=367.86\n",
      "Iter 93  time=0.49  loss=16342.45 active=27967 feature_norm=367.84\n",
      "Iter 94  time=0.55  loss=16340.07 active=27958 feature_norm=367.84\n",
      "Iter 95  time=0.52  loss=16337.24 active=27950 feature_norm=367.83\n",
      "Iter 96  time=0.48  loss=16335.06 active=27942 feature_norm=367.83\n",
      "Iter 97  time=0.47  loss=16332.58 active=27936 feature_norm=367.82\n",
      "Iter 98  time=0.44  loss=16330.56 active=27916 feature_norm=367.83\n",
      "Iter 99  time=0.44  loss=16327.27 active=27900 feature_norm=367.83\n",
      "Iter 100 time=0.51  loss=16325.41 active=27881 feature_norm=367.84\n",
      "L-BFGS terminated with the maximum number of iterations\n",
      "Total seconds required for training: 54.408\n",
      "\n",
      "Storing the model\n",
      "Number of active features: 27881 (35892)\n",
      "Number of active attributes: 23038 (30991)\n",
      "Number of active labels: 15 (15)\n",
      "Writing labels\n",
      "Writing attributes\n",
      "Writing feature references for transitions\n",
      "Writing feature references for attributes\n",
      "Seconds required: 0.155\n",
      "\n"
     ]
    },
    {
     "data": {
      "text/plain": [
       "RandomizedSearchCV(cv=3, error_score='raise-deprecating',\n",
       "          estimator=CRF(algorithm='lbfgs', all_possible_states=None,\n",
       "  all_possible_transitions=True, averaging=None, c=None, c1=None, c2=None,\n",
       "  calibration_candidates=None, calibration_eta=None,\n",
       "  calibration_max_trials=None, calibration_rate=None,\n",
       "  calibration_samples=None, delta=None, epsilon=None, error...ne,\n",
       "  num_memories=None, pa_type=None, period=None, trainer_cls=None,\n",
       "  variance=None, verbose=True),\n",
       "          fit_params=None, iid='warn', n_iter=50, n_jobs=-1,\n",
       "          param_distributions={'c1': <scipy.stats._distn_infrastructure.rv_frozen object at 0x1afd552518>, 'c2': <scipy.stats._distn_infrastructure.rv_frozen object at 0x1afd552710>},\n",
       "          pre_dispatch='2*n_jobs', random_state=123, refit=True,\n",
       "          return_train_score='warn',\n",
       "          scoring=make_scorer(flat_f1_score, average=weighted), verbose=1)"
      ]
     },
     "execution_count": 13,
     "metadata": {},
     "output_type": "execute_result"
    }
   ],
   "source": [
    "# define fixed parameters and parameters to search\n",
    "crf = CRF(  algorithm='lbfgs',\n",
    "            max_iterations=100,\n",
    "            all_possible_transitions=True,\n",
    "            verbose=True)\n",
    "\n",
    "params_space = {'c1': scipy.stats.expon(scale=0.5),\n",
    "                'c2': scipy.stats.expon(scale=0.05)}\n",
    "\n",
    "# use the same metric for evaluation\n",
    "f1_scorer = make_scorer(metrics.flat_f1_score,\n",
    "                        average='weighted')\n",
    "\n",
    "# search\n",
    "rs = RandomizedSearchCV(crf, params_space,\n",
    "                        cv=3,\n",
    "                        verbose=1,\n",
    "                        n_jobs=-1,\n",
    "                        n_iter=50,\n",
    "                        random_state=123,\n",
    "                        scoring=f1_scorer)\n",
    "\n",
    "rs.fit(trainvalFeatures, trainvalLabels)"
   ]
  },
  {
   "cell_type": "code",
   "execution_count": 15,
   "metadata": {},
   "outputs": [
    {
     "name": "stdout",
     "output_type": "stream",
     "text": [
      "best params: {'c1': 0.008130349084185253, 'c2': 0.04512332140157257}\n",
      "best CV score: 0.960762393855961\n",
      "model size: 1.85M\n"
     ]
    }
   ],
   "source": [
    "# crf = rs.best_estimator_\n",
    "print('best params:', rs.best_params_)\n",
    "print('best CV score:', rs.best_score_)\n",
    "print('model size: {:0.2f}M'.format(rs.best_estimator_.size_ / 1000000))"
   ]
  },
  {
   "cell_type": "code",
   "execution_count": 17,
   "metadata": {},
   "outputs": [
    {
     "data": {
      "text/plain": [
       "CRF(algorithm='lbfgs', all_possible_states=None,\n",
       "  all_possible_transitions=True, averaging=None, c=None,\n",
       "  c1=0.008130349084185253, c2=0.04512332140157257,\n",
       "  calibration_candidates=None, calibration_eta=None,\n",
       "  calibration_max_trials=None, calibration_rate=None,\n",
       "  calibration_samples=None, delta=None, epsilon=None, error_sensitive=None,\n",
       "  gamma=None, keep_tempfiles=None, linesearch=None, max_iterations=100,\n",
       "  max_linesearch=None, min_freq=None, model_filename=None,\n",
       "  num_memories=None, pa_type=None, period=None, trainer_cls=None,\n",
       "  variance=None, verbose=True)"
      ]
     },
     "execution_count": 17,
     "metadata": {},
     "output_type": "execute_result"
    }
   ],
   "source": [
    "crf = rs.best_estimator_\n",
    "crf"
   ]
  },
  {
   "cell_type": "code",
   "execution_count": 18,
   "metadata": {},
   "outputs": [
    {
     "name": "stderr",
     "output_type": "stream",
     "text": [
      "loading training data to CRFsuite: 100%|██████████| 32171/32171 [00:02<00:00, 11429.53it/s]\n"
     ]
    },
    {
     "name": "stdout",
     "output_type": "stream",
     "text": [
      "\n",
      "Feature generation\n",
      "type: CRF1d\n",
      "feature.minfreq: 0.000000\n",
      "feature.possible_states: 0\n",
      "feature.possible_transitions: 1\n",
      "0....1....2....3....4....5....6....7....8....9....10\n",
      "Number of features: 35892\n",
      "Seconds required: 0.718\n",
      "\n",
      "L-BFGS optimization\n",
      "c1: 0.008130\n",
      "c2: 0.045123\n",
      "num_memories: 6\n",
      "max_iterations: 100\n",
      "epsilon: 0.000010\n",
      "stop: 10\n",
      "delta: 0.000010\n",
      "linesearch: MoreThuente\n",
      "linesearch.max_iterations: 20\n",
      "\n",
      "Iter 1   time=0.95  loss=805247.25 active=35866 feature_norm=1.00\n",
      "Iter 2   time=2.12  loss=575972.93 active=35802 feature_norm=7.04\n",
      "Iter 3   time=0.59  loss=465144.14 active=34549 feature_norm=6.00\n",
      "Iter 4   time=3.32  loss=252570.06 active=35410 feature_norm=3.95\n",
      "Iter 5   time=0.52  loss=228251.68 active=35725 feature_norm=4.62\n",
      "Iter 6   time=0.85  loss=211969.05 active=35768 feature_norm=7.64\n",
      "Iter 7   time=0.44  loss=171606.60 active=35797 feature_norm=8.26\n",
      "Iter 8   time=0.45  loss=162452.41 active=35843 feature_norm=9.06\n",
      "Iter 9   time=0.43  loss=153709.36 active=35776 feature_norm=11.26\n",
      "Iter 10  time=0.43  loss=145815.03 active=35833 feature_norm=11.46\n",
      "Iter 11  time=0.43  loss=140944.79 active=35810 feature_norm=11.98\n",
      "Iter 12  time=0.44  loss=134184.50 active=35743 feature_norm=13.04\n",
      "Iter 13  time=0.44  loss=121838.80 active=35655 feature_norm=15.39\n",
      "Iter 14  time=0.45  loss=115574.76 active=35719 feature_norm=19.02\n",
      "Iter 15  time=0.43  loss=110168.54 active=35832 feature_norm=19.52\n",
      "Iter 16  time=0.43  loss=104715.85 active=35819 feature_norm=21.66\n",
      "Iter 17  time=0.48  loss=97468.75 active=35794 feature_norm=24.34\n",
      "Iter 18  time=0.44  loss=90509.44 active=35775 feature_norm=28.51\n",
      "Iter 19  time=0.86  loss=87171.03 active=35802 feature_norm=31.42\n",
      "Iter 20  time=0.47  loss=84410.37 active=35822 feature_norm=33.39\n",
      "Iter 21  time=0.47  loss=81512.00 active=35800 feature_norm=36.83\n",
      "Iter 22  time=0.46  loss=77566.42 active=35758 feature_norm=41.18\n",
      "Iter 23  time=0.50  loss=73518.69 active=35590 feature_norm=48.02\n",
      "Iter 24  time=0.47  loss=69912.73 active=35406 feature_norm=53.15\n",
      "Iter 25  time=0.52  loss=66449.95 active=34969 feature_norm=58.60\n",
      "Iter 26  time=0.52  loss=62101.46 active=34476 feature_norm=67.62\n",
      "Iter 27  time=0.52  loss=57859.45 active=34239 feature_norm=76.96\n",
      "Iter 28  time=0.51  loss=52521.02 active=33642 feature_norm=93.51\n",
      "Iter 29  time=0.50  loss=47947.56 active=33143 feature_norm=110.17\n",
      "Iter 30  time=0.53  loss=44295.47 active=33093 feature_norm=123.18\n",
      "Iter 31  time=0.54  loss=39349.73 active=32966 feature_norm=148.54\n",
      "Iter 32  time=0.46  loss=35731.96 active=32928 feature_norm=166.03\n",
      "Iter 33  time=0.53  loss=32211.61 active=32660 feature_norm=188.69\n",
      "Iter 34  time=0.51  loss=28629.84 active=32514 feature_norm=217.69\n",
      "Iter 35  time=0.45  loss=26168.62 active=32076 feature_norm=243.18\n",
      "Iter 36  time=0.46  loss=23980.91 active=32041 feature_norm=263.09\n",
      "Iter 37  time=0.56  loss=22387.54 active=31399 feature_norm=281.82\n",
      "Iter 38  time=0.57  loss=21312.11 active=31148 feature_norm=310.26\n",
      "Iter 39  time=0.57  loss=20018.36 active=31127 feature_norm=319.25\n",
      "Iter 40  time=0.75  loss=19530.18 active=31152 feature_norm=326.17\n",
      "Iter 41  time=0.74  loss=18749.41 active=31101 feature_norm=341.09\n",
      "Iter 42  time=1.15  loss=18429.18 active=31017 feature_norm=349.65\n",
      "Iter 43  time=0.53  loss=17996.03 active=30970 feature_norm=350.77\n",
      "Iter 44  time=0.47  loss=17789.43 active=30785 feature_norm=355.55\n",
      "Iter 45  time=0.46  loss=17615.68 active=30593 feature_norm=357.64\n",
      "Iter 46  time=0.43  loss=17491.05 active=30551 feature_norm=359.32\n",
      "Iter 47  time=0.44  loss=17394.83 active=30504 feature_norm=359.57\n",
      "Iter 48  time=0.45  loss=17311.69 active=30411 feature_norm=359.20\n",
      "Iter 49  time=0.44  loss=17235.63 active=30321 feature_norm=359.29\n",
      "Iter 50  time=0.44  loss=17165.31 active=30241 feature_norm=359.74\n",
      "Iter 51  time=0.44  loss=17106.05 active=30171 feature_norm=360.20\n",
      "Iter 52  time=0.43  loss=17049.02 active=30104 feature_norm=360.70\n",
      "Iter 53  time=0.44  loss=16969.46 active=29872 feature_norm=361.23\n",
      "Iter 54  time=0.49  loss=16911.02 active=29801 feature_norm=361.68\n",
      "Iter 55  time=0.43  loss=16856.08 active=29646 feature_norm=362.02\n",
      "Iter 56  time=0.44  loss=16801.22 active=29603 feature_norm=362.60\n",
      "Iter 57  time=0.45  loss=16759.19 active=29541 feature_norm=362.96\n",
      "Iter 58  time=0.47  loss=16719.13 active=29199 feature_norm=363.50\n",
      "Iter 59  time=0.47  loss=16683.27 active=29133 feature_norm=363.98\n",
      "Iter 60  time=0.51  loss=16653.42 active=29047 feature_norm=364.43\n",
      "Iter 61  time=0.56  loss=16622.40 active=29040 feature_norm=364.85\n",
      "Iter 62  time=0.56  loss=16594.61 active=28961 feature_norm=365.28\n",
      "Iter 63  time=0.46  loss=16571.69 active=28909 feature_norm=365.59\n",
      "Iter 64  time=0.49  loss=16553.22 active=28809 feature_norm=365.89\n",
      "Iter 65  time=0.51  loss=16535.97 active=28712 feature_norm=366.12\n",
      "Iter 66  time=0.60  loss=16520.05 active=28664 feature_norm=366.39\n",
      "Iter 67  time=0.51  loss=16505.04 active=28614 feature_norm=366.59\n",
      "Iter 68  time=0.62  loss=16491.31 active=28589 feature_norm=366.81\n",
      "Iter 69  time=0.45  loss=16479.87 active=28546 feature_norm=366.95\n",
      "Iter 70  time=0.45  loss=16468.49 active=28490 feature_norm=367.13\n",
      "Iter 71  time=0.43  loss=16457.27 active=28472 feature_norm=367.23\n",
      "Iter 72  time=0.56  loss=16447.11 active=28396 feature_norm=367.38\n",
      "Iter 73  time=0.48  loss=16437.64 active=28350 feature_norm=367.45\n",
      "Iter 74  time=0.44  loss=16429.57 active=28301 feature_norm=367.57\n",
      "Iter 75  time=0.47  loss=16420.92 active=28301 feature_norm=367.62\n",
      "Iter 76  time=0.50  loss=16413.92 active=28254 feature_norm=367.68\n",
      "Iter 77  time=0.61  loss=16406.80 active=28235 feature_norm=367.71\n",
      "Iter 78  time=0.52  loss=16400.86 active=28195 feature_norm=367.77\n",
      "Iter 79  time=0.54  loss=16395.30 active=28180 feature_norm=367.77\n",
      "Iter 80  time=0.57  loss=16390.06 active=28151 feature_norm=367.82\n",
      "Iter 81  time=0.55  loss=16385.29 active=28149 feature_norm=367.81\n",
      "Iter 82  time=0.54  loss=16380.81 active=28118 feature_norm=367.84\n",
      "Iter 83  time=0.48  loss=16376.25 active=28103 feature_norm=367.83\n",
      "Iter 84  time=0.45  loss=16372.47 active=28088 feature_norm=367.87\n",
      "Iter 85  time=0.49  loss=16368.36 active=28081 feature_norm=367.85\n",
      "Iter 86  time=0.45  loss=16364.43 active=28060 feature_norm=367.87\n",
      "Iter 87  time=0.55  loss=16362.26 active=28045 feature_norm=367.85\n",
      "Iter 88  time=0.51  loss=16358.00 active=28024 feature_norm=367.90\n",
      "Iter 89  time=0.45  loss=16355.04 active=28020 feature_norm=367.87\n",
      "Iter 90  time=0.47  loss=16351.71 active=28002 feature_norm=367.88\n",
      "Iter 91  time=0.49  loss=16348.52 active=27983 feature_norm=367.85\n",
      "Iter 92  time=0.55  loss=16346.99 active=27969 feature_norm=367.86\n",
      "Iter 93  time=0.66  loss=16342.45 active=27967 feature_norm=367.84\n",
      "Iter 94  time=0.57  loss=16340.07 active=27958 feature_norm=367.84\n",
      "Iter 95  time=0.53  loss=16337.24 active=27950 feature_norm=367.83\n",
      "Iter 96  time=0.47  loss=16335.06 active=27942 feature_norm=367.83\n",
      "Iter 97  time=0.43  loss=16332.58 active=27936 feature_norm=367.82\n",
      "Iter 98  time=0.48  loss=16330.56 active=27916 feature_norm=367.83\n",
      "Iter 99  time=0.45  loss=16327.27 active=27900 feature_norm=367.83\n",
      "Iter 100 time=0.42  loss=16325.41 active=27881 feature_norm=367.84\n",
      "L-BFGS terminated with the maximum number of iterations\n",
      "Total seconds required for training: 55.808\n",
      "\n",
      "Storing the model\n",
      "Number of active features: 27881 (35892)\n",
      "Number of active attributes: 23038 (30991)\n",
      "Number of active labels: 15 (15)\n",
      "Writing labels\n",
      "Writing attributes\n",
      "Writing feature references for transitions\n",
      "Writing feature references for attributes\n",
      "Seconds required: 0.143\n",
      "\n"
     ]
    },
    {
     "data": {
      "text/plain": [
       "CRF(algorithm='lbfgs', all_possible_states=None,\n",
       "  all_possible_transitions=True, averaging=None, c=None,\n",
       "  c1=0.008130349084185253, c2=0.04512332140157257,\n",
       "  calibration_candidates=None, calibration_eta=None,\n",
       "  calibration_max_trials=None, calibration_rate=None,\n",
       "  calibration_samples=None, delta=None, epsilon=None, error_sensitive=None,\n",
       "  gamma=None, keep_tempfiles=None, linesearch=None, max_iterations=100,\n",
       "  max_linesearch=None, min_freq=None, model_filename=None,\n",
       "  num_memories=None, pa_type=None, period=None, trainer_cls=None,\n",
       "  variance=None, verbose=True)"
      ]
     },
     "execution_count": 18,
     "metadata": {},
     "output_type": "execute_result"
    }
   ],
   "source": [
    "crf.fit(trainvalFeatures, trainvalLabels)"
   ]
  },
  {
   "cell_type": "code",
   "execution_count": 19,
   "metadata": {},
   "outputs": [
    {
     "name": "stdout",
     "output_type": "stream",
     "text": [
      "model is saved.\n"
     ]
    }
   ],
   "source": [
    "# SAVE CONDITIONAL RANDOM FIELDS MODEL\n",
    "with open('model/crf3.pickle', 'wb') as outfile:\n",
    "    pickle.dump(crf, outfile, pickle.HIGHEST_PROTOCOL)\n",
    "    print(\"model is saved.\")"
   ]
  },
  {
   "cell_type": "code",
   "execution_count": 20,
   "metadata": {},
   "outputs": [],
   "source": [
    "# LOAD CONDITIONAL RANDOM FIELDS MODEL\n",
    "with open('model/crf3.pickle', 'rb') as infile:\n",
    "    crf = pickle.load(infile)"
   ]
  },
  {
   "cell_type": "code",
   "execution_count": 21,
   "metadata": {},
   "outputs": [
    {
     "name": "stdout",
     "output_type": "stream",
     "text": [
      "### TRAINVAL CLASSIFICATION REPORT ###\n",
      "\n",
      "              precision    recall  f1-score   support\n",
      "\n",
      "       MONEY       0.97      0.92      0.95       594\n",
      "ORGANIZATION       0.97      0.96      0.96      9034\n",
      "      PERSON       0.98      0.98      0.98     14476\n",
      "        DATE       0.77      0.77      0.77      3103\n",
      "    LOCATION       0.98      0.98      0.98      9409\n",
      "        TIME       0.99      0.99      0.99       175\n",
      "     PERCENT       1.00      1.00      1.00       617\n",
      "\n",
      "   micro avg       0.96      0.96      0.96     37408\n",
      "   macro avg       0.96      0.96      0.96     37408\n",
      "\n"
     ]
    }
   ],
   "source": [
    "trainvalPredLabels = crf.predict(trainvalFeatures)\n",
    "\n",
    "print(\"### TRAINVAL CLASSIFICATION REPORT ###\\n\")\n",
    "print(classification_report(trainvalLabels, trainvalPredLabels))"
   ]
  },
  {
   "cell_type": "code",
   "execution_count": 22,
   "metadata": {},
   "outputs": [
    {
     "name": "stdout",
     "output_type": "stream",
     "text": [
      "### TEST CLASSIFICATION REPORT ###\n",
      "\n",
      "              precision    recall  f1-score   support\n",
      "\n",
      "    LOCATION       0.90      0.76      0.83      1091\n",
      "ORGANIZATION       0.80      0.77      0.78       862\n",
      "      PERSON       0.90      0.78      0.83      1594\n",
      "       MONEY       0.85      0.73      0.78       113\n",
      "        DATE       0.69      0.68      0.68       364\n",
      "        TIME       0.94      0.65      0.77        23\n",
      "     PERCENT       0.98      0.93      0.96       107\n",
      "\n",
      "   micro avg       0.86      0.76      0.81      4154\n",
      "   macro avg       0.86      0.76      0.81      4154\n",
      "\n"
     ]
    }
   ],
   "source": [
    "testPredLabels  = crf.predict(testFeatures)\n",
    "\n",
    "print(\"### TEST CLASSIFICATION REPORT ###\\n\")\n",
    "print(classification_report(testLabels, testPredLabels))"
   ]
  },
  {
   "cell_type": "code",
   "execution_count": 23,
   "metadata": {},
   "outputs": [],
   "source": [
    "# Shutting down the JVM\n",
    "jp.shutdownJVM()"
   ]
  }
 ],
 "metadata": {
  "kernelspec": {
   "display_name": "Python 3",
   "language": "python",
   "name": "python3"
  },
  "language_info": {
   "codemirror_mode": {
    "name": "ipython",
    "version": 3
   },
   "file_extension": ".py",
   "mimetype": "text/x-python",
   "name": "python",
   "nbconvert_exporter": "python",
   "pygments_lexer": "ipython3",
   "version": "3.7.3"
  }
 },
 "nbformat": 4,
 "nbformat_minor": 2
}
