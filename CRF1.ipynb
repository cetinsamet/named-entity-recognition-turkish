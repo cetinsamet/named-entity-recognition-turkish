{
 "cells": [
  {
   "cell_type": "code",
   "execution_count": 40,
   "metadata": {},
   "outputs": [],
   "source": [
    "# -*- coding: utf-8 -*-\n",
    "# --------------------------------------------------\n",
    "#\n",
    "# CRF1.ipynb\n",
    "#\n",
    "# (1) Token lemmatization using Zemberek TurkishMorphology  (DO NOT lemmatize tokens starting with uppercase letter)\n",
    "# (2) Token features:\n",
    "#     (a) token\n",
    "#     (b) is_first           : is token at the beginning of the sentence?\n",
    "#     (c) is_last            : is token at the end of the sentence?\n",
    "#     (d) is_capitalized     : does token start with a capital letter? \n",
    "#     (e) is_all_capitalized : is all letters of the token capitalized?\n",
    "#     (f) is_capitals_inside : is there any capitalized letter inside the token?\n",
    "#     (g) is_numeric         : is token numeric?\n",
    "#     (h) prefix-1           : prefix of the token with length 1\n",
    "#     (i) prefix-2           : prefix of the token with length 2\n",
    "#     (j) suffix-1           : suffix of the token with length 1\n",
    "#     (k) suffix-2           : suffix of the token with length 2\n",
    "#     (l) prev-token         : token coming before the token\n",
    "#     (m) 2-prev-token       : token coming 2 before the token \n",
    "#     (n) next-token         : token coming after the token\n",
    "#     (o) 2-next-token       : token coming 2 after the token\n",
    "#\n",
    "# Written by cetinsamet -*- cetin.samet@metu.edu.tr\n",
    "# May, 2019\n",
    "# --------------------------------------------------"
   ]
  },
  {
   "cell_type": "code",
   "execution_count": 38,
   "metadata": {},
   "outputs": [],
   "source": [
    "from seqeval.metrics import classification_report\n",
    "from sklearn_crfsuite import CRF\n",
    "import jpype as jp"
   ]
  },
  {
   "cell_type": "code",
   "execution_count": 2,
   "metadata": {},
   "outputs": [],
   "source": [
    "ZEMBEREK_PATH = 'bin/zemberek-full.jar'\n",
    "\n",
    "# Start the JVM\n",
    "jp.startJVM(jp.getDefaultJVMPath(), '-ea', '-Djava.class.path=%s' % (ZEMBEREK_PATH))"
   ]
  },
  {
   "cell_type": "code",
   "execution_count": 30,
   "metadata": {},
   "outputs": [],
   "source": [
    "TurkishMorphology   = jp.JClass('zemberek.morphology.TurkishMorphology')\n",
    "morphology = TurkishMorphology.createWithDefaults()"
   ]
  },
  {
   "cell_type": "code",
   "execution_count": 31,
   "metadata": {},
   "outputs": [],
   "source": [
    "def readFile(filepath):\n",
    "\n",
    "    text     = []\n",
    "    sentence = []\n",
    "\n",
    "    with open(filepath, 'r') as infile:\n",
    "        for line in infile:\n",
    "            word, _, _, _ = line.strip().split('\\t')\n",
    "\n",
    "            if word == '<S>':\n",
    "                text.append(sentence)\n",
    "                sentence = []\n",
    "                continue\n",
    "\n",
    "            sentence.append(line.strip())\n",
    "\n",
    "    return text"
   ]
  },
  {
   "cell_type": "code",
   "execution_count": 32,
   "metadata": {},
   "outputs": [],
   "source": [
    "trainText = readFile('train.txt')\n",
    "validText = readFile('valid.txt')\n",
    "testText  = readFile('test.txt')"
   ]
  },
  {
   "cell_type": "code",
   "execution_count": 33,
   "metadata": {},
   "outputs": [],
   "source": [
    "def getFeature(word, word_index, sentence):\n",
    "\n",
    "    feature = {'word'              : word,\n",
    "               'is_first'          : word_index == 0,\n",
    "               'is_last'           : word_index == len(sentence) - 1,\n",
    "               \n",
    "               'is_capitalized'    : word[0].upper() == word[0],\n",
    "               'is_all_capitalized': word.upper() == word,\n",
    "               'is_capitals_inside': word[1:].lower() != word[1:],\n",
    "               'is_numeric'        : word.isdigit(),\n",
    "\n",
    "               'prefix-1'          : word[0],\n",
    "               'prefix-2'          : '' if len(word) < 2  else word[:2],\n",
    "\n",
    "               'suffix-1'          : word[-1],\n",
    "               'suffix-2'          : '' if len(word) < 2  else word[-2:],\n",
    "\n",
    "               'prev-token'        : '' if word_index == 0     else sentence[word_index - 1][0],\n",
    "               '2-prev-token'      : '' if word_index <= 1     else sentence[word_index - 2][0],\n",
    "\n",
    "               'next-token'        : '' if word_index == len(sentence) - 1     else sentence[word_index + 1][0],\n",
    "               '2-next-token'      : '' if word_index >= len(sentence) - 2     else sentence[word_index + 2][0]\n",
    "              }\n",
    "    \n",
    "    return feature"
   ]
  },
  {
   "cell_type": "code",
   "execution_count": 34,
   "metadata": {},
   "outputs": [],
   "source": [
    "trainFeatures = []\n",
    "trainLabels   = []\n",
    "\n",
    "for sentence in trainText:\n",
    "    SENT     = []\n",
    "    features = []\n",
    "    labels   = []\n",
    "    for token in sentence:\n",
    "        word, _, _, label = token.split('\\t')\n",
    "        \n",
    "        if word[0] == word[0].upper():\n",
    "            root = word\n",
    "        else:\n",
    "            results = morphology.analyze(word).analysisResults\n",
    "            root    = results[0].getLemmas()[0] if results else word\n",
    "        SENT.append(root)\n",
    "        labels.append(label)\n",
    "        \n",
    "    for i, word in enumerate(SENT):\n",
    "        features.append(getFeature(word, i, SENT))\n",
    "    \n",
    "    trainFeatures.append(features)\n",
    "    trainLabels.append(labels)"
   ]
  },
  {
   "cell_type": "code",
   "execution_count": 35,
   "metadata": {},
   "outputs": [],
   "source": [
    "validFeatures = []\n",
    "validLabels   = []\n",
    "\n",
    "for sentence in validText:\n",
    "    SENT     = []\n",
    "    features = []\n",
    "    labels   = []\n",
    "    for token in sentence:\n",
    "        word, _, _, label = token.split('\\t')\n",
    "        \n",
    "        if word[0] == word[0].upper():\n",
    "            root = word\n",
    "        else:\n",
    "            results = morphology.analyze(word).analysisResults\n",
    "            root    = results[0].getLemmas()[0] if results else word\n",
    "        SENT.append(root)\n",
    "        labels.append(label)\n",
    "        \n",
    "    for i, word in enumerate(SENT):\n",
    "        features.append(getFeature(word, i, SENT))\n",
    "    \n",
    "    validFeatures.append(features)\n",
    "    validLabels.append(labels)"
   ]
  },
  {
   "cell_type": "code",
   "execution_count": 36,
   "metadata": {},
   "outputs": [],
   "source": [
    "testFeatures = []\n",
    "testLabels   = []\n",
    "\n",
    "for sentence in testText:\n",
    "    SENT     = []\n",
    "    features = []\n",
    "    labels   = []\n",
    "    for token in sentence:\n",
    "        word, _, _, label = token.split('\\t')\n",
    "        \n",
    "        if word[0] == word[0].upper():\n",
    "            root = word\n",
    "        else:\n",
    "            results = morphology.analyze(word).analysisResults\n",
    "            root    = results[0].getLemmas()[0] if results else word\n",
    "        SENT.append(root)\n",
    "        labels.append(label)\n",
    "        \n",
    "    for i, word in enumerate(SENT):\n",
    "        features.append(getFeature(word, i, SENT))\n",
    "    \n",
    "    testFeatures.append(features)\n",
    "    testLabels.append(labels)"
   ]
  },
  {
   "cell_type": "code",
   "execution_count": 24,
   "metadata": {},
   "outputs": [],
   "source": [
    "trainvalFeatures = trainFeatures + validFeatures\n",
    "trainvalLabels   = trainLabels + validLabels"
   ]
  },
  {
   "cell_type": "code",
   "execution_count": 25,
   "metadata": {},
   "outputs": [],
   "source": [
    "crf = CRF(\n",
    "    algorithm='lbfgs',\n",
    "    c1=0.1,\n",
    "    c2=0.1,\n",
    "    max_iterations=100,\n",
    "    all_possible_transitions=True,\n",
    "    verbose=True)"
   ]
  },
  {
   "cell_type": "code",
   "execution_count": 26,
   "metadata": {},
   "outputs": [
    {
     "name": "stderr",
     "output_type": "stream",
     "text": [
      "loading training data to CRFsuite: 100%|██████████| 32171/32171 [00:03<00:00, 8150.50it/s]\n"
     ]
    },
    {
     "name": "stdout",
     "output_type": "stream",
     "text": [
      "\n",
      "Feature generation\n",
      "type: CRF1d\n",
      "feature.minfreq: 0,000000\n",
      "feature.possible_states: 0\n",
      "feature.possible_transitions: 1\n",
      "0....1....2....3....4....5....6....7....8....9....10"
     ]
    },
    {
     "data": {
      "text/plain": [
       "CRF(algorithm='lbfgs', all_possible_states=None,\n",
       "  all_possible_transitions=True, averaging=None, c=None, c1=0.1, c2=0.1,\n",
       "  calibration_candidates=None, calibration_eta=None,\n",
       "  calibration_max_trials=None, calibration_rate=None,\n",
       "  calibration_samples=None, delta=None, epsilon=None, error_sensitive=None,\n",
       "  gamma=None, keep_tempfiles=None, linesearch=None, max_iterations=100,\n",
       "  max_linesearch=None, min_freq=None, model_filename=None,\n",
       "  num_memories=None, pa_type=None, period=None, trainer_cls=None,\n",
       "  variance=None, verbose=True)"
      ]
     },
     "execution_count": 26,
     "metadata": {},
     "output_type": "execute_result"
    }
   ],
   "source": [
    "crf.fit(trainvalFeatures, trainvalLabels)"
   ]
  },
  {
   "cell_type": "code",
   "execution_count": 27,
   "metadata": {},
   "outputs": [
    {
     "name": "stdout",
     "output_type": "stream",
     "text": [
      "### TRAIN CLASSIFICATION REPORT ###\n",
      "\n",
      "              precision    recall  f1-score   support\n",
      "\n",
      "    LOCATION       0.89      0.85      0.87      7762\n",
      "        DATE       0.86      0.87      0.86      2553\n",
      "       MONEY       0.94      0.91      0.92       484\n",
      "      PERSON       0.89      0.88      0.89     11079\n",
      "ORGANIZATION       0.90      0.84      0.87      7073\n",
      "        TIME       0.89      0.87      0.88       156\n",
      "     PERCENT       0.97      0.98      0.98       521\n",
      "\n",
      "   micro avg       0.89      0.86      0.88     29628\n",
      "   macro avg       0.89      0.86      0.88     29628\n",
      "\n"
     ]
    }
   ],
   "source": [
    "trainPredLabels = crf.predict(trainFeatures)\n",
    "\n",
    "print(\"### TRAIN CLASSIFICATION REPORT ###\\n\")\n",
    "print(classification_report(trainLabels, trainPredLabels))"
   ]
  },
  {
   "cell_type": "code",
   "execution_count": 28,
   "metadata": {},
   "outputs": [
    {
     "name": "stdout",
     "output_type": "stream",
     "text": [
      "### VAL CLASSIFICATION REPORT ###\n",
      "\n",
      "              precision    recall  f1-score   support\n",
      "\n",
      "    LOCATION       0.87      0.85      0.86      1647\n",
      "        DATE       0.85      0.88      0.86       550\n",
      "        TIME       0.74      0.89      0.81        19\n",
      "      PERSON       0.91      0.89      0.90      3397\n",
      "ORGANIZATION       0.89      0.81      0.85      1961\n",
      "       MONEY       0.90      0.95      0.92       110\n",
      "     PERCENT       1.00      1.00      1.00        96\n",
      "\n",
      "   micro avg       0.89      0.86      0.88      7780\n",
      "   macro avg       0.89      0.86      0.88      7780\n",
      "\n"
     ]
    }
   ],
   "source": [
    "validPredLabels = crf.predict(validFeatures)\n",
    "\n",
    "print(\"### VAL CLASSIFICATION REPORT ###\\n\")\n",
    "print(classification_report(validLabels, validPredLabels))"
   ]
  },
  {
   "cell_type": "code",
   "execution_count": 29,
   "metadata": {},
   "outputs": [
    {
     "name": "stdout",
     "output_type": "stream",
     "text": [
      "### TEST CLASSIFICATION REPORT ###\n",
      "\n",
      "              precision    recall  f1-score   support\n",
      "\n",
      "      PERSON       0.83      0.78      0.80      1594\n",
      "        DATE       0.75      0.74      0.75       364\n",
      "        TIME       0.71      0.74      0.72        23\n",
      "    LOCATION       0.81      0.76      0.78      1091\n",
      "ORGANIZATION       0.78      0.70      0.74       862\n",
      "       MONEY       0.91      0.75      0.83       113\n",
      "     PERCENT       0.98      0.95      0.97       107\n",
      "\n",
      "   micro avg       0.81      0.76      0.78      4154\n",
      "   macro avg       0.81      0.76      0.78      4154\n",
      "\n"
     ]
    }
   ],
   "source": [
    "testPredLabels  = crf.predict(testFeatures)\n",
    "\n",
    "print(\"### TEST CLASSIFICATION REPORT ###\\n\")\n",
    "print(classification_report(testLabels, testPredLabels))"
   ]
  },
  {
   "cell_type": "code",
   "execution_count": null,
   "metadata": {},
   "outputs": [],
   "source": []
  },
  {
   "cell_type": "code",
   "execution_count": null,
   "metadata": {},
   "outputs": [],
   "source": []
  },
  {
   "cell_type": "code",
   "execution_count": null,
   "metadata": {},
   "outputs": [],
   "source": []
  },
  {
   "cell_type": "code",
   "execution_count": null,
   "metadata": {},
   "outputs": [],
   "source": []
  },
  {
   "cell_type": "code",
   "execution_count": null,
   "metadata": {},
   "outputs": [],
   "source": []
  },
  {
   "cell_type": "code",
   "execution_count": 10,
   "metadata": {},
   "outputs": [],
   "source": [
    "# Shutting down the JVM\n",
    "jp.shutdownJVM()"
   ]
  },
  {
   "cell_type": "code",
   "execution_count": null,
   "metadata": {},
   "outputs": [],
   "source": []
  }
 ],
 "metadata": {
  "kernelspec": {
   "display_name": "Python 2",
   "language": "python",
   "name": "python2"
  },
  "language_info": {
   "codemirror_mode": {
    "name": "ipython",
    "version": 3
   },
   "file_extension": ".py",
   "mimetype": "text/x-python",
   "name": "python",
   "nbconvert_exporter": "python",
   "pygments_lexer": "ipython3",
   "version": "3.5.2"
  }
 },
 "nbformat": 4,
 "nbformat_minor": 2
}
