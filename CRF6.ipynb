{
 "cells": [
  {
   "cell_type": "code",
   "execution_count": 1,
   "metadata": {},
   "outputs": [],
   "source": [
    "# -*- coding: utf-8 -*-\n",
    "# --------------------------------------------------\n",
    "#\n",
    "# CRF6.ipynb\n",
    "#\n",
    "# Token features:\n",
    "#     (a) token (surface form)\n",
    "#     (b) is_first           : is token at the beginning of the sentence?\n",
    "#     (c) is_last            : is token at the end of the sentence?\n",
    "#     (d) is_capitalized     : does token start with a capital letter? \n",
    "#     (e) is_all_capitalized : is all letters of the token capitalized?\n",
    "#     (f) is_capitals_inside : is there any capitalized letter inside the token?\n",
    "#     (g) is_numeric         : is token numeric?\n",
    "#     (h) is_numeric_inside  : is numeric characters inside the token?\n",
    "#     (i) is_alphanumeric    : is token alphanumeric?\n",
    "#     (j) prefix-1           : first letter of the token\n",
    "#     (k) suffix-1           : last letter of the token\n",
    "#     (l) prefix-2           : first two letters of the token\n",
    "#     (m) suffix-2           : last two letters of the token\n",
    "#     (n) next-token         : following token\n",
    "#     (o) prev-token         : preceding token\n",
    "#     (p) 2-next-token       : second following token\n",
    "#     (q) 2-prev-token       : second preceding token\n",
    "#\n",
    "# Written by cetinsamet -*- cetin.samet@metu.edu.tr\n",
    "# May, 2019\n",
    "# --------------------------------------------------"
   ]
  },
  {
   "cell_type": "code",
   "execution_count": 7,
   "metadata": {},
   "outputs": [],
   "source": [
    "from sklearn.model_selection import RandomizedSearchCV\n",
    "from seqeval.metrics import classification_report\n",
    "from sklearn.metrics import make_scorer\n",
    "from sklearn_crfsuite import metrics\n",
    "from sklearn_crfsuite import CRF\n",
    "from tqdm import tqdm\n",
    "import pickle\n",
    "import scipy"
   ]
  },
  {
   "cell_type": "code",
   "execution_count": 3,
   "metadata": {},
   "outputs": [],
   "source": [
    "def readFile(filepath):\n",
    "\n",
    "    text     = []\n",
    "    sentence = []\n",
    "\n",
    "    with open(filepath, 'r') as infile:\n",
    "        for line in infile:\n",
    "            word, _, _, _ = line.strip().split('\\t')\n",
    "\n",
    "            if word == '<S>':\n",
    "                text.append(sentence)\n",
    "                sentence = []\n",
    "                continue\n",
    "\n",
    "            sentence.append(line.strip())\n",
    "\n",
    "    return text"
   ]
  },
  {
   "cell_type": "code",
   "execution_count": 4,
   "metadata": {},
   "outputs": [],
   "source": [
    "trainText = readFile('data/train.txt')\n",
    "validText = readFile('data/valid.txt')\n",
    "testText  = readFile('data/test.txt')"
   ]
  },
  {
   "cell_type": "code",
   "execution_count": 5,
   "metadata": {},
   "outputs": [],
   "source": [
    "def getFeature(token, token_index, sentence):\n",
    "\n",
    "\n",
    "    feature = {'token'             : token,\n",
    "               'is_first'          : token_index == 0,\n",
    "               'is_last'           : token_index == len(sentence) - 1,\n",
    "               \n",
    "               'is_capitalized'    : token[0].upper() == token[0],\n",
    "               'is_all_capitalized': token.upper() == token,\n",
    "               'is_capitals_inside': token[1:].lower() != token[1:],\n",
    "               'is_numeric'        : token.isdigit(),\n",
    "               'is_numeric_inside' : any([c.isdigit() for c in token]),\n",
    "               'is_alphanumeric'   : token.isalnum(),\n",
    "               \n",
    "               'prefix-1'          : token[0],\n",
    "               'suffix-1'          : token[-1],\n",
    "               \n",
    "               'prefix-2'          : '' if len(token) < 2  else token[:2],\n",
    "               'suffix-2'          : '' if len(token) < 2  else token[-2:],\n",
    "               \n",
    "               'prev-token'        : '' if token_index == 0 else sentence[token_index - 1],\n",
    "               'next-token'        : '' if token_index == len(sentence) - 1 else sentence[token_index + 1],\n",
    "               \n",
    "               '2-prev-token'      : '' if token_index <= 1 else sentence[token_index - 2],\n",
    "               '2-next-token'      : '' if token_index >= len(sentence) - 2 else sentence[token_index + 2],\n",
    "              }\n",
    "    \n",
    "    return feature"
   ]
  },
  {
   "cell_type": "code",
   "execution_count": 8,
   "metadata": {},
   "outputs": [
    {
     "name": "stderr",
     "output_type": "stream",
     "text": [
      "100%|██████████| 25736/25736 [00:07<00:00, 3290.14it/s]\n"
     ]
    }
   ],
   "source": [
    "trainFeatures = []\n",
    "trainLabels   = []\n",
    "\n",
    "for sentence_ in tqdm(trainText):\n",
    "\n",
    "    sentence = [token.split('\\t')[0] for token in sentence_]\n",
    "    labels   = [token.split('\\t')[-1] for token in sentence_]\n",
    "    features = []\n",
    "    for i, word in enumerate(sentence):\n",
    "        features.append(getFeature(word, i, sentence))\n",
    "    \n",
    "    trainFeatures.append(features)\n",
    "    trainLabels.append(labels)"
   ]
  },
  {
   "cell_type": "code",
   "execution_count": 9,
   "metadata": {},
   "outputs": [
    {
     "name": "stderr",
     "output_type": "stream",
     "text": [
      "100%|██████████| 6435/6435 [00:01<00:00, 3240.31it/s]\n"
     ]
    }
   ],
   "source": [
    "validFeatures = []\n",
    "validLabels   = []\n",
    "\n",
    "for sentence_ in tqdm(validText):\n",
    "    \n",
    "    sentence = [token.split('\\t')[0] for token in sentence_]\n",
    "    labels   = [token.split('\\t')[-1] for token in sentence_]\n",
    "    features = []\n",
    "    for i, word in enumerate(sentence):\n",
    "        features.append(getFeature(word, i, sentence))\n",
    "    \n",
    "    validFeatures.append(features)\n",
    "    validLabels.append(labels)"
   ]
  },
  {
   "cell_type": "code",
   "execution_count": 10,
   "metadata": {},
   "outputs": [
    {
     "name": "stderr",
     "output_type": "stream",
     "text": [
      "100%|██████████| 3328/3328 [00:00<00:00, 3542.30it/s]\n"
     ]
    }
   ],
   "source": [
    "testFeatures = []\n",
    "testLabels   = []\n",
    "\n",
    "for sentence_ in tqdm(testText):\n",
    "    \n",
    "    sentence = [token.split('\\t')[0] for token in sentence_]\n",
    "    labels   = [token.split('\\t')[-1] for token in sentence_]\n",
    "    features = []\n",
    "    for i, word in enumerate(sentence):\n",
    "        features.append(getFeature(word, i, sentence))\n",
    "    \n",
    "    testFeatures.append(features)\n",
    "    testLabels.append(labels)"
   ]
  },
  {
   "cell_type": "code",
   "execution_count": 11,
   "metadata": {},
   "outputs": [],
   "source": [
    "trainvalFeatures = trainFeatures + validFeatures\n",
    "trainvalLabels   = trainLabels   + validLabels"
   ]
  },
  {
   "cell_type": "code",
   "execution_count": 13,
   "metadata": {},
   "outputs": [
    {
     "name": "stdout",
     "output_type": "stream",
     "text": [
      "Fitting 3 folds for each of 30 candidates, totalling 90 fits\n"
     ]
    },
    {
     "name": "stderr",
     "output_type": "stream",
     "text": [
      "[Parallel(n_jobs=-1)]: Using backend LokyBackend with 4 concurrent workers.\n",
      "/Users/cetinsamet/anaconda3/lib/python3.7/site-packages/sklearn/externals/joblib/externals/loky/process_executor.py:706: UserWarning: A worker stopped while some jobs were given to the executor. This can be caused by a too short worker timeout or by a memory leak.\n",
      "  \"timeout or by a memory leak.\", UserWarning\n",
      "[Parallel(n_jobs=-1)]: Done  42 tasks      | elapsed: 200.3min\n",
      "[Parallel(n_jobs=-1)]: Done  90 out of  90 | elapsed: 311.3min finished\n",
      "loading training data to CRFsuite: 100%|██████████| 32171/32171 [00:38<00:00, 830.87it/s] \n"
     ]
    },
    {
     "name": "stdout",
     "output_type": "stream",
     "text": [
      "\n",
      "Feature generation\n",
      "type: CRF1d\n",
      "feature.minfreq: 0.000000\n",
      "feature.possible_states: 0\n",
      "feature.possible_transitions: 1\n",
      "0....1....2....3....4....5....6....7....8....9....10\n",
      "Number of features: 395460\n",
      "Seconds required: 7.342\n",
      "\n",
      "L-BFGS optimization\n",
      "c1: 0.100747\n",
      "c2: 0.009646\n",
      "num_memories: 6\n",
      "max_iterations: 100\n",
      "epsilon: 0.000010\n",
      "stop: 10\n",
      "delta: 0.000010\n",
      "linesearch: MoreThuente\n",
      "linesearch.max_iterations: 20\n",
      "\n",
      "Iter 1   time=3.28  loss=688702.40 active=393437 feature_norm=1.00\n",
      "Iter 2   time=3.27  loss=634140.59 active=392596 feature_norm=6.77\n",
      "Iter 3   time=1.66  loss=508473.57 active=375987 feature_norm=5.81\n",
      "Iter 4   time=12.99 loss=230193.23 active=380108 feature_norm=3.57\n",
      "Iter 5   time=4.93  loss=216618.55 active=393643 feature_norm=3.69\n",
      "Iter 6   time=1.71  loss=210572.10 active=393982 feature_norm=4.21\n",
      "Iter 7   time=1.76  loss=185489.96 active=387254 feature_norm=4.88\n",
      "Iter 8   time=1.67  loss=178140.73 active=366585 feature_norm=5.94\n",
      "Iter 9   time=3.40  loss=160983.07 active=326053 feature_norm=6.68\n",
      "Iter 10  time=1.73  loss=148656.20 active=278182 feature_norm=7.59\n",
      "Iter 11  time=1.75  loss=140826.06 active=264363 feature_norm=8.85\n",
      "Iter 12  time=1.72  loss=132843.09 active=261239 feature_norm=9.92\n",
      "Iter 13  time=1.77  loss=123057.77 active=253965 feature_norm=11.43\n",
      "Iter 14  time=1.75  loss=104436.32 active=239943 feature_norm=16.72\n",
      "Iter 15  time=1.69  loss=94802.74 active=216951 feature_norm=18.70\n",
      "Iter 16  time=1.75  loss=84171.36 active=204183 feature_norm=20.89\n",
      "Iter 17  time=1.77  loss=76652.69 active=190802 feature_norm=24.94\n",
      "Iter 18  time=1.71  loss=71318.54 active=190222 feature_norm=26.68\n",
      "Iter 19  time=1.72  loss=67254.53 active=187221 feature_norm=28.73\n",
      "Iter 20  time=3.50  loss=63729.59 active=182848 feature_norm=32.03\n",
      "Iter 21  time=1.70  loss=58520.77 active=182077 feature_norm=35.62\n",
      "Iter 22  time=1.73  loss=55752.94 active=180332 feature_norm=39.13\n",
      "Iter 23  time=1.81  loss=53099.75 active=178776 feature_norm=42.02\n",
      "Iter 24  time=1.78  loss=49421.66 active=172870 feature_norm=47.67\n",
      "Iter 25  time=1.72  loss=45640.67 active=167747 feature_norm=54.41\n",
      "Iter 26  time=1.73  loss=43022.06 active=163924 feature_norm=63.09\n",
      "Iter 27  time=1.77  loss=39174.66 active=162952 feature_norm=67.47\n",
      "Iter 28  time=1.70  loss=36486.93 active=159563 feature_norm=73.67\n",
      "Iter 29  time=1.70  loss=32780.17 active=154594 feature_norm=85.08\n",
      "Iter 30  time=1.74  loss=28599.91 active=148802 feature_norm=100.76\n",
      "Iter 31  time=1.75  loss=25253.20 active=143635 feature_norm=117.07\n",
      "Iter 32  time=1.71  loss=23542.05 active=141385 feature_norm=133.85\n",
      "Iter 33  time=1.72  loss=20605.34 active=141684 feature_norm=143.35\n",
      "Iter 34  time=1.76  loss=18767.54 active=140616 feature_norm=154.16\n",
      "Iter 35  time=1.73  loss=16474.71 active=138229 feature_norm=171.50\n",
      "Iter 36  time=1.70  loss=14453.94 active=131479 feature_norm=188.98\n",
      "Iter 37  time=1.70  loss=13006.77 active=128581 feature_norm=204.23\n",
      "Iter 38  time=1.68  loss=11785.78 active=123627 feature_norm=219.02\n",
      "Iter 39  time=1.66  loss=10789.40 active=117727 feature_norm=233.68\n",
      "Iter 40  time=1.71  loss=10148.07 active=112547 feature_norm=239.27\n",
      "Iter 41  time=1.70  loss=9640.76  active=106829 feature_norm=245.26\n",
      "Iter 42  time=1.65  loss=9119.19  active=103409 feature_norm=250.14\n",
      "Iter 43  time=1.68  loss=8890.89  active=97255 feature_norm=256.55\n",
      "Iter 44  time=1.70  loss=8613.68  active=95647 feature_norm=258.49\n",
      "Iter 45  time=1.68  loss=8430.22  active=93200 feature_norm=261.85\n",
      "Iter 46  time=1.69  loss=8232.75  active=87781 feature_norm=266.94\n",
      "Iter 47  time=1.67  loss=8083.88  active=87279 feature_norm=269.47\n",
      "Iter 48  time=1.71  loss=7994.39  active=84095 feature_norm=270.95\n",
      "Iter 49  time=1.70  loss=7863.20  active=75806 feature_norm=273.98\n",
      "Iter 50  time=1.69  loss=7793.10  active=75803 feature_norm=273.94\n",
      "Iter 51  time=1.74  loss=7772.72  active=75656 feature_norm=274.24\n",
      "Iter 52  time=1.65  loss=7712.86  active=72834 feature_norm=275.02\n",
      "Iter 53  time=1.64  loss=7661.96  active=71838 feature_norm=276.11\n",
      "Iter 54  time=1.68  loss=7594.40  active=69505 feature_norm=280.26\n",
      "Iter 55  time=1.72  loss=7525.08  active=67969 feature_norm=281.36\n",
      "Iter 56  time=1.69  loss=7493.12  active=67233 feature_norm=282.23\n",
      "Iter 57  time=1.65  loss=7421.21  active=64580 feature_norm=284.74\n",
      "Iter 58  time=3.40  loss=7415.25  active=62971 feature_norm=285.44\n",
      "Iter 59  time=1.68  loss=7356.14  active=62855 feature_norm=286.18\n",
      "Iter 60  time=1.68  loss=7329.77  active=61895 feature_norm=286.82\n",
      "Iter 61  time=1.71  loss=7300.32  active=58671 feature_norm=287.60\n",
      "Iter 62  time=1.75  loss=7271.04  active=58063 feature_norm=288.01\n",
      "Iter 63  time=1.68  loss=7250.46  active=57384 feature_norm=288.13\n",
      "Iter 64  time=1.67  loss=7226.33  active=56028 feature_norm=288.65\n",
      "Iter 65  time=1.72  loss=7204.00  active=55192 feature_norm=288.95\n",
      "Iter 66  time=1.70  loss=7184.85  active=54653 feature_norm=289.21\n",
      "Iter 67  time=1.70  loss=7162.10  active=53594 feature_norm=289.59\n",
      "Iter 68  time=1.69  loss=7144.17  active=52934 feature_norm=289.96\n",
      "Iter 69  time=1.78  loss=7127.74  active=52196 feature_norm=290.21\n",
      "Iter 70  time=1.72  loss=7110.05  active=51318 feature_norm=290.69\n",
      "Iter 71  time=1.66  loss=7093.75  active=50587 feature_norm=291.04\n",
      "Iter 72  time=1.73  loss=7079.21  active=50091 feature_norm=291.53\n",
      "Iter 73  time=1.73  loss=7064.61  active=49342 feature_norm=291.99\n",
      "Iter 74  time=1.71  loss=7052.27  active=48875 feature_norm=292.56\n",
      "Iter 75  time=1.70  loss=7040.49  active=48510 feature_norm=292.95\n",
      "Iter 76  time=1.68  loss=7029.65  active=48162 feature_norm=293.45\n",
      "Iter 77  time=1.76  loss=7018.89  active=47666 feature_norm=293.81\n",
      "Iter 78  time=1.69  loss=7009.78  active=47352 feature_norm=294.29\n",
      "Iter 79  time=1.75  loss=7000.56  active=47033 feature_norm=294.52\n",
      "Iter 80  time=1.76  loss=6991.61  active=46714 feature_norm=294.84\n",
      "Iter 81  time=1.67  loss=6982.46  active=46335 feature_norm=295.04\n",
      "Iter 82  time=1.64  loss=6974.99  active=46076 feature_norm=295.32\n",
      "Iter 83  time=1.63  loss=6967.30  active=45854 feature_norm=295.45\n",
      "Iter 84  time=1.68  loss=6959.46  active=45588 feature_norm=295.68\n",
      "Iter 85  time=1.63  loss=6952.32  active=45216 feature_norm=295.78\n",
      "Iter 86  time=1.68  loss=6946.09  active=45038 feature_norm=296.00\n",
      "Iter 87  time=1.69  loss=6939.81  active=44786 feature_norm=296.09\n",
      "Iter 88  time=1.67  loss=6933.74  active=44600 feature_norm=296.31\n",
      "Iter 89  time=1.67  loss=6928.24  active=44359 feature_norm=296.40\n",
      "Iter 90  time=1.59  loss=6923.02  active=44204 feature_norm=296.60\n",
      "Iter 91  time=1.63  loss=6917.73  active=43920 feature_norm=296.67\n",
      "Iter 92  time=1.63  loss=6913.02  active=43749 feature_norm=296.88\n",
      "Iter 93  time=1.66  loss=6908.55  active=43547 feature_norm=296.97\n",
      "Iter 94  time=1.67  loss=6904.37  active=43411 feature_norm=297.15\n",
      "Iter 95  time=1.60  loss=6900.18  active=43237 feature_norm=297.25\n",
      "Iter 96  time=1.61  loss=6896.19  active=43103 feature_norm=297.45\n",
      "Iter 97  time=1.60  loss=6892.43  active=42932 feature_norm=297.53\n",
      "Iter 98  time=1.66  loss=6888.44  active=42785 feature_norm=297.70\n",
      "Iter 99  time=1.64  loss=6884.92  active=42562 feature_norm=297.75\n",
      "Iter 100 time=1.59  loss=6881.74  active=42483 feature_norm=297.90\n",
      "L-BFGS terminated with the maximum number of iterations\n",
      "Total seconds required for training: 192.532\n",
      "\n",
      "Storing the model\n",
      "Number of active features: 42483 (395460)\n",
      "Number of active attributes: 30453 (333017)\n",
      "Number of active labels: 15 (15)\n",
      "Writing labels\n",
      "Writing attributes\n",
      "Writing feature references for transitions\n",
      "Writing feature references for attributes\n",
      "Seconds required: 0.449\n",
      "\n"
     ]
    },
    {
     "data": {
      "text/plain": [
       "RandomizedSearchCV(cv=3, error_score='raise-deprecating',\n",
       "          estimator=CRF(algorithm='lbfgs', all_possible_states=None,\n",
       "  all_possible_transitions=True, averaging=None, c=None, c1=None, c2=None,\n",
       "  calibration_candidates=None, calibration_eta=None,\n",
       "  calibration_max_trials=None, calibration_rate=None,\n",
       "  calibration_samples=None, delta=None, epsilon=None, error...ne,\n",
       "  num_memories=None, pa_type=None, period=None, trainer_cls=None,\n",
       "  variance=None, verbose=True),\n",
       "          fit_params=None, iid='warn', n_iter=30, n_jobs=-1,\n",
       "          param_distributions={'c1': <scipy.stats._distn_infrastructure.rv_frozen object at 0x1a2d97dbe0>, 'c2': <scipy.stats._distn_infrastructure.rv_frozen object at 0x1a2d97def0>},\n",
       "          pre_dispatch='2*n_jobs', random_state=123, refit=True,\n",
       "          return_train_score='warn',\n",
       "          scoring=make_scorer(flat_f1_score, average=weighted), verbose=1)"
      ]
     },
     "execution_count": 13,
     "metadata": {},
     "output_type": "execute_result"
    }
   ],
   "source": [
    "# define fixed parameters and parameters to search\n",
    "crf = CRF(  algorithm='lbfgs',\n",
    "            max_iterations=100,\n",
    "            all_possible_transitions=True,\n",
    "            verbose=True)\n",
    "\n",
    "params_space = {'c1': scipy.stats.expon(scale=0.5),\n",
    "                'c2': scipy.stats.expon(scale=0.05)}\n",
    "\n",
    "# use the same metric for evaluation\n",
    "f1_scorer = make_scorer(metrics.flat_f1_score,\n",
    "                        average='weighted')\n",
    "\n",
    "# search\n",
    "rs = RandomizedSearchCV(crf, params_space,\n",
    "                        cv=3,\n",
    "                        verbose=1,\n",
    "                        n_jobs=-1,\n",
    "                        n_iter=30,\n",
    "                        random_state=123,\n",
    "                        scoring=f1_scorer)\n",
    "\n",
    "rs.fit(trainvalFeatures, trainvalLabels)"
   ]
  },
  {
   "cell_type": "code",
   "execution_count": 14,
   "metadata": {},
   "outputs": [
    {
     "name": "stdout",
     "output_type": "stream",
     "text": [
      "best params: {'c1': 0.10074713030434022, 'c2': 0.009645981291748817}\n",
      "best CV score: 0.9675037322196738\n",
      "model size: 2.69M\n"
     ]
    }
   ],
   "source": [
    "print('best params:', rs.best_params_)\n",
    "print('best CV score:', rs.best_score_)\n",
    "print('model size: {:0.2f}M'.format(rs.best_estimator_.size_ / 1000000))"
   ]
  },
  {
   "cell_type": "code",
   "execution_count": 15,
   "metadata": {},
   "outputs": [
    {
     "data": {
      "text/plain": [
       "CRF(algorithm='lbfgs', all_possible_states=None,\n",
       "  all_possible_transitions=True, averaging=None, c=None,\n",
       "  c1=0.10074713030434022, c2=0.009645981291748817,\n",
       "  calibration_candidates=None, calibration_eta=None,\n",
       "  calibration_max_trials=None, calibration_rate=None,\n",
       "  calibration_samples=None, delta=None, epsilon=None, error_sensitive=None,\n",
       "  gamma=None, keep_tempfiles=None, linesearch=None, max_iterations=100,\n",
       "  max_linesearch=None, min_freq=None, model_filename=None,\n",
       "  num_memories=None, pa_type=None, period=None, trainer_cls=None,\n",
       "  variance=None, verbose=True)"
      ]
     },
     "execution_count": 15,
     "metadata": {},
     "output_type": "execute_result"
    }
   ],
   "source": [
    "crf = rs.best_estimator_\n",
    "crf"
   ]
  },
  {
   "cell_type": "code",
   "execution_count": 17,
   "metadata": {},
   "outputs": [],
   "source": [
    "#crf.fit(trainvalFeatures, trainvalLabels)"
   ]
  },
  {
   "cell_type": "code",
   "execution_count": 18,
   "metadata": {},
   "outputs": [
    {
     "name": "stdout",
     "output_type": "stream",
     "text": [
      "model is saved.\n"
     ]
    }
   ],
   "source": [
    "# SAVE CONDITIONAL RANDOM FIELDS MODEL\n",
    "with open('model/crf06.pickle', 'wb') as outfile:\n",
    "    pickle.dump(crf, outfile, pickle.HIGHEST_PROTOCOL)\n",
    "    print(\"model is saved.\")"
   ]
  },
  {
   "cell_type": "code",
   "execution_count": 19,
   "metadata": {},
   "outputs": [],
   "source": [
    "# LOAD CONDITIONAL RANDOM FIELDS MODEL\n",
    "with open('model/crf06.pickle', 'rb') as infile:\n",
    "    crf = pickle.load(infile)"
   ]
  },
  {
   "cell_type": "code",
   "execution_count": 20,
   "metadata": {},
   "outputs": [
    {
     "name": "stdout",
     "output_type": "stream",
     "text": [
      "### TRAINVAL CLASSIFICATION REPORT ###\n",
      "\n",
      "              precision    recall  f1-score   support\n",
      "\n",
      "ORGANIZATION       1.00      1.00      1.00      9034\n",
      "      PERSON       1.00      1.00      1.00     14476\n",
      "    LOCATION       1.00      1.00      1.00      9409\n",
      "        DATE       1.00      1.00      1.00      3103\n",
      "       MONEY       1.00      1.00      1.00       594\n",
      "     PERCENT       1.00      1.00      1.00       617\n",
      "        TIME       1.00      1.00      1.00       175\n",
      "\n",
      "   micro avg       1.00      1.00      1.00     37408\n",
      "   macro avg       1.00      1.00      1.00     37408\n",
      "\n"
     ]
    }
   ],
   "source": [
    "trainvalPredLabels = crf.predict(trainvalFeatures)\n",
    "\n",
    "print(\"### TRAINVAL CLASSIFICATION REPORT ###\\n\")\n",
    "print(classification_report(trainvalLabels, trainvalPredLabels))"
   ]
  },
  {
   "cell_type": "code",
   "execution_count": 21,
   "metadata": {},
   "outputs": [
    {
     "name": "stdout",
     "output_type": "stream",
     "text": [
      "### TEST CLASSIFICATION REPORT ###\n",
      "\n",
      "              precision    recall  f1-score   support\n",
      "\n",
      "ORGANIZATION       0.81      0.77      0.79       862\n",
      "      PERSON       0.88      0.84      0.86      1594\n",
      "        DATE       0.89      0.87      0.88       364\n",
      "    LOCATION       0.87      0.83      0.85      1091\n",
      "       MONEY       0.93      0.72      0.81       113\n",
      "     PERCENT       0.99      0.93      0.96       107\n",
      "        TIME       0.95      0.83      0.88        23\n",
      "\n",
      "   micro avg       0.87      0.82      0.85      4154\n",
      "   macro avg       0.87      0.82      0.85      4154\n",
      "\n"
     ]
    }
   ],
   "source": [
    "testPredLabels  = crf.predict(testFeatures)\n",
    "\n",
    "print(\"### TEST CLASSIFICATION REPORT ###\\n\")\n",
    "print(classification_report(testLabels, testPredLabels))"
   ]
  },
  {
   "cell_type": "code",
   "execution_count": null,
   "metadata": {},
   "outputs": [],
   "source": []
  }
 ],
 "metadata": {
  "kernelspec": {
   "display_name": "Python 3",
   "language": "python",
   "name": "python3"
  },
  "language_info": {
   "codemirror_mode": {
    "name": "ipython",
    "version": 3
   },
   "file_extension": ".py",
   "mimetype": "text/x-python",
   "name": "python",
   "nbconvert_exporter": "python",
   "pygments_lexer": "ipython3",
   "version": "3.7.3"
  }
 },
 "nbformat": 4,
 "nbformat_minor": 2
}
