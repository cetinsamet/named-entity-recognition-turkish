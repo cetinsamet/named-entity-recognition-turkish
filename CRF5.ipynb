{
 "cells": [
  {
   "cell_type": "code",
   "execution_count": 12,
   "metadata": {},
   "outputs": [],
   "source": [
    "# -*- coding: utf-8 -*-\n",
    "# --------------------------------------------------\n",
    "#\n",
    "# CRF5.ipynb\n",
    "#\n",
    "# Token features:\n",
    "#     (a) token (surface form)\n",
    "#     (b) is_first           : is token at the beginning of the sentence?\n",
    "#     (c) is_last            : is token at the end of the sentence?\n",
    "#     (d) is_capitalized     : does token start with a capital letter? \n",
    "#     (e) is_all_capitalized : is all letters of the token capitalized?\n",
    "#     (f) is_capitals_inside : is there any capitalized letter inside the token?\n",
    "#     (g) is_numeric         : is token numeric?\n",
    "#     (h) is_numeric_inside  : is numeric characters inside the token?\n",
    "#     (i) is_alphanumeric    : is token alphanumeric?\n",
    "#     (j) prefix-1           : first letter of the token\n",
    "#     (k) suffix-1           : last letter of the token\n",
    "#     (l) prefix-2           : first two letters of the token\n",
    "#     (m) suffix-2           : last two letters of the token\n",
    "#     (n) next-token         : following token\n",
    "#     (o) prev-token         : preceding token\n",
    "#\n",
    "# Written by cetinsamet -*- cetin.samet@metu.edu.tr\n",
    "# May, 2019\n",
    "# --------------------------------------------------"
   ]
  },
  {
   "cell_type": "code",
   "execution_count": 13,
   "metadata": {},
   "outputs": [],
   "source": [
    "from sklearn.model_selection import RandomizedSearchCV\n",
    "from seqeval.metrics import classification_report\n",
    "from sklearn.metrics import make_scorer\n",
    "from sklearn_crfsuite import metrics\n",
    "from sklearn_crfsuite import CRF\n",
    "from tqdm import tqdm\n",
    "import pickle\n",
    "import scipy"
   ]
  },
  {
   "cell_type": "code",
   "execution_count": 14,
   "metadata": {},
   "outputs": [],
   "source": [
    "def readFile(filepath):\n",
    "\n",
    "    text     = []\n",
    "    sentence = []\n",
    "\n",
    "    with open(filepath, 'r') as infile:\n",
    "        for line in infile:\n",
    "            word, _, _, _ = line.strip().split('\\t')\n",
    "\n",
    "            if word == '<S>':\n",
    "                text.append(sentence)\n",
    "                sentence = []\n",
    "                continue\n",
    "\n",
    "            sentence.append(line.strip())\n",
    "\n",
    "    return text"
   ]
  },
  {
   "cell_type": "code",
   "execution_count": 15,
   "metadata": {},
   "outputs": [],
   "source": [
    "trainText = readFile('data/train.txt')\n",
    "validText = readFile('data/valid.txt')\n",
    "testText  = readFile('data/test.txt')"
   ]
  },
  {
   "cell_type": "code",
   "execution_count": 16,
   "metadata": {},
   "outputs": [],
   "source": [
    "def getFeature(token, token_index, sentence):\n",
    "\n",
    "\n",
    "    feature = {'token'             : token,\n",
    "               'is_first'          : token_index == 0,\n",
    "               'is_last'           : token_index == len(sentence) - 1,\n",
    "               \n",
    "               'is_capitalized'    : token[0].upper() == token[0],\n",
    "               'is_all_capitalized': token.upper() == token,\n",
    "               'is_capitals_inside': token[1:].lower() != token[1:],\n",
    "               'is_numeric'        : token.isdigit(),\n",
    "               'is_numeric_inside' : any([c.isdigit() for c in token]),\n",
    "               'is_alphanumeric'   : token.isalnum(),\n",
    "               \n",
    "               'prefix-1'          : token[0],\n",
    "               'suffix-1'          : token[-1],\n",
    "               \n",
    "               'prefix-2'          : '' if len(token) < 2  else token[:2],\n",
    "               'suffix-2'          : '' if len(token) < 2  else token[-2:],\n",
    "               \n",
    "               'prev-token'        : '' if token_index == 0 else sentence[token_index - 1],\n",
    "               'next-token'        : '' if token_index == len(sentence) - 1 else sentence[token_index + 1],\n",
    "              }\n",
    "    \n",
    "    return feature"
   ]
  },
  {
   "cell_type": "code",
   "execution_count": 29,
   "metadata": {},
   "outputs": [
    {
     "name": "stderr",
     "output_type": "stream",
     "text": [
      "100%|██████████| 25736/25736 [00:01<00:00, 15675.58it/s]\n"
     ]
    }
   ],
   "source": [
    "trainFeatures = []\n",
    "trainLabels   = []\n",
    "\n",
    "for sentence_ in tqdm(trainText):\n",
    "\n",
    "    sentence = [token.split('\\t')[0] for token in sentence_]\n",
    "    labels   = [token.split('\\t')[-1] for token in sentence_]\n",
    "    features = []\n",
    "    for i, word in enumerate(sentence):\n",
    "        features.append(getFeature(word, i, sentence))\n",
    "    \n",
    "    trainFeatures.append(features)\n",
    "    trainLabels.append(labels)"
   ]
  },
  {
   "cell_type": "code",
   "execution_count": 32,
   "metadata": {},
   "outputs": [
    {
     "name": "stderr",
     "output_type": "stream",
     "text": [
      "100%|██████████| 6435/6435 [00:00<00:00, 11772.84it/s]\n"
     ]
    }
   ],
   "source": [
    "validFeatures = []\n",
    "validLabels   = []\n",
    "\n",
    "for sentence_ in tqdm(validText):\n",
    "    \n",
    "    sentence = [token.split('\\t')[0] for token in sentence_]\n",
    "    labels   = [token.split('\\t')[-1] for token in sentence_]\n",
    "    features = []\n",
    "    for i, word in enumerate(sentence):\n",
    "        features.append(getFeature(word, i, sentence))\n",
    "    \n",
    "    validFeatures.append(features)\n",
    "    validLabels.append(labels)"
   ]
  },
  {
   "cell_type": "code",
   "execution_count": 33,
   "metadata": {},
   "outputs": [
    {
     "name": "stderr",
     "output_type": "stream",
     "text": [
      "100%|██████████| 3328/3328 [00:00<00:00, 15746.25it/s]\n"
     ]
    }
   ],
   "source": [
    "testFeatures = []\n",
    "testLabels   = []\n",
    "\n",
    "for sentence_ in tqdm(testText):\n",
    "    \n",
    "    sentence = [token.split('\\t')[0] for token in sentence_]\n",
    "    labels   = [token.split('\\t')[-1] for token in sentence_]\n",
    "    features = []\n",
    "    for i, word in enumerate(sentence):\n",
    "        features.append(getFeature(word, i, sentence))\n",
    "    \n",
    "    testFeatures.append(features)\n",
    "    testLabels.append(labels)"
   ]
  },
  {
   "cell_type": "code",
   "execution_count": 35,
   "metadata": {},
   "outputs": [],
   "source": [
    "trainvalFeatures = trainFeatures + validFeatures\n",
    "trainvalLabels   = trainLabels   + validLabels"
   ]
  },
  {
   "cell_type": "code",
   "execution_count": 36,
   "metadata": {},
   "outputs": [
    {
     "name": "stdout",
     "output_type": "stream",
     "text": [
      "Fitting 3 folds for each of 30 candidates, totalling 90 fits\n"
     ]
    },
    {
     "name": "stderr",
     "output_type": "stream",
     "text": [
      "[Parallel(n_jobs=-1)]: Using backend LokyBackend with 4 concurrent workers.\n",
      "/Users/cetinsamet/anaconda3/lib/python3.7/site-packages/sklearn/externals/joblib/externals/loky/process_executor.py:706: UserWarning: A worker stopped while some jobs were given to the executor. This can be caused by a too short worker timeout or by a memory leak.\n",
      "  \"timeout or by a memory leak.\", UserWarning\n",
      "[Parallel(n_jobs=-1)]: Done  42 tasks      | elapsed: 165.3min\n",
      "[Parallel(n_jobs=-1)]: Done  90 out of  90 | elapsed: 282.0min finished\n",
      "loading training data to CRFsuite: 100%|██████████| 32171/32171 [00:15<00:00, 2047.61it/s]\n"
     ]
    },
    {
     "name": "stdout",
     "output_type": "stream",
     "text": [
      "\n",
      "Feature generation\n",
      "type: CRF1d\n",
      "feature.minfreq: 0.000000\n",
      "feature.possible_states: 0\n",
      "feature.possible_transitions: 1\n",
      "0....1....2....3....4....5....6....7....8....9....10\n",
      "Number of features: 237977\n",
      "Seconds required: 4.020\n",
      "\n",
      "L-BFGS optimization\n",
      "c1: 0.048313\n",
      "c2: 0.028432\n",
      "num_memories: 6\n",
      "max_iterations: 100\n",
      "epsilon: 0.000010\n",
      "stop: 10\n",
      "delta: 0.000010\n",
      "linesearch: MoreThuente\n",
      "linesearch.max_iterations: 20\n",
      "\n",
      "Iter 1   time=2.40  loss=694456.75 active=237701 feature_norm=1.00\n",
      "Iter 2   time=2.45  loss=662949.65 active=236776 feature_norm=7.12\n",
      "Iter 3   time=1.24  loss=530738.94 active=228760 feature_norm=6.09\n",
      "Iter 4   time=10.08 loss=234480.97 active=230998 feature_norm=3.48\n",
      "Iter 5   time=2.46  loss=221807.04 active=234870 feature_norm=5.28\n",
      "Iter 6   time=1.27  loss=213065.39 active=235879 feature_norm=5.98\n",
      "Iter 7   time=1.23  loss=168484.02 active=236658 feature_norm=6.87\n",
      "Iter 8   time=1.40  loss=158983.02 active=237344 feature_norm=7.32\n",
      "Iter 9   time=1.39  loss=153452.75 active=237440 feature_norm=7.83\n",
      "Iter 10  time=1.43  loss=141493.62 active=236933 feature_norm=9.25\n",
      "Iter 11  time=1.49  loss=128362.95 active=236262 feature_norm=11.64\n",
      "Iter 12  time=1.50  loss=119245.20 active=225387 feature_norm=12.46\n",
      "Iter 13  time=1.49  loss=107863.74 active=182390 feature_norm=14.62\n",
      "Iter 14  time=1.44  loss=96507.30 active=162312 feature_norm=17.39\n",
      "Iter 15  time=1.44  loss=81933.00 active=149906 feature_norm=21.09\n",
      "Iter 16  time=1.48  loss=73090.58 active=139030 feature_norm=26.31\n",
      "Iter 17  time=1.43  loss=69575.72 active=138021 feature_norm=27.33\n",
      "Iter 18  time=1.39  loss=65159.14 active=134679 feature_norm=30.49\n",
      "Iter 19  time=1.39  loss=60304.40 active=130449 feature_norm=34.74\n",
      "Iter 20  time=1.37  loss=57097.35 active=126615 feature_norm=38.64\n",
      "Iter 21  time=1.40  loss=53505.81 active=123054 feature_norm=43.39\n",
      "Iter 22  time=1.41  loss=49979.67 active=119944 feature_norm=47.66\n",
      "Iter 23  time=1.38  loss=46084.03 active=115657 feature_norm=53.90\n",
      "Iter 24  time=1.40  loss=42364.18 active=112228 feature_norm=60.45\n",
      "Iter 25  time=1.37  loss=38623.18 active=109249 feature_norm=69.27\n",
      "Iter 26  time=1.45  loss=34966.47 active=105999 feature_norm=79.52\n",
      "Iter 27  time=1.54  loss=31416.95 active=99725 feature_norm=92.59\n",
      "Iter 28  time=1.44  loss=28035.79 active=94405 feature_norm=106.26\n",
      "Iter 29  time=1.30  loss=25513.20 active=90818 feature_norm=116.16\n",
      "Iter 30  time=1.29  loss=22651.62 active=90403 feature_norm=131.64\n",
      "Iter 31  time=1.32  loss=19750.24 active=88881 feature_norm=148.72\n",
      "Iter 32  time=1.45  loss=17430.31 active=85181 feature_norm=167.02\n",
      "Iter 33  time=1.62  loss=15426.41 active=84324 feature_norm=185.53\n",
      "Iter 34  time=1.44  loss=13754.02 active=83806 feature_norm=203.82\n",
      "Iter 35  time=1.37  loss=12363.23 active=81675 feature_norm=219.37\n",
      "Iter 36  time=1.30  loss=11216.00 active=77491 feature_norm=234.31\n",
      "Iter 37  time=1.43  loss=10609.20 active=75393 feature_norm=252.29\n",
      "Iter 38  time=1.37  loss=9955.96  active=74483 feature_norm=255.91\n",
      "Iter 39  time=1.27  loss=9665.34  active=74381 feature_norm=259.58\n",
      "Iter 40  time=1.21  loss=9131.30  active=73423 feature_norm=269.14\n",
      "Iter 41  time=1.18  loss=8849.69  active=73177 feature_norm=270.75\n",
      "Iter 42  time=1.24  loss=8620.82  active=72539 feature_norm=273.17\n",
      "Iter 43  time=1.21  loss=8424.06  active=71555 feature_norm=274.82\n",
      "Iter 44  time=1.31  loss=8274.55  active=69367 feature_norm=276.31\n",
      "Iter 45  time=1.25  loss=8162.15  active=67484 feature_norm=277.74\n",
      "Iter 46  time=1.24  loss=8052.13  active=63416 feature_norm=279.69\n",
      "Iter 47  time=1.22  loss=7976.12  active=62820 feature_norm=281.04\n",
      "Iter 48  time=1.22  loss=7904.90  active=62401 feature_norm=281.76\n",
      "Iter 49  time=1.21  loss=7842.78  active=61221 feature_norm=282.65\n",
      "Iter 50  time=1.20  loss=7782.56  active=59420 feature_norm=283.30\n",
      "Iter 51  time=1.26  loss=7733.90  active=58361 feature_norm=283.88\n",
      "Iter 52  time=1.25  loss=7685.54  active=57376 feature_norm=284.31\n",
      "Iter 53  time=1.25  loss=7639.94  active=56785 feature_norm=285.00\n",
      "Iter 54  time=1.26  loss=7603.55  active=56228 feature_norm=285.37\n",
      "Iter 55  time=1.21  loss=7572.05  active=55407 feature_norm=286.08\n",
      "Iter 56  time=1.21  loss=7544.71  active=53974 feature_norm=286.59\n",
      "Iter 57  time=1.34  loss=7523.27  active=53620 feature_norm=287.22\n",
      "Iter 58  time=1.35  loss=7502.10  active=53287 feature_norm=287.62\n",
      "Iter 59  time=1.28  loss=7481.94  active=52786 feature_norm=288.16\n",
      "Iter 60  time=1.28  loss=7464.59  active=52193 feature_norm=288.44\n",
      "Iter 61  time=1.49  loss=7450.24  active=51737 feature_norm=288.81\n",
      "Iter 62  time=1.36  loss=7436.73  active=51330 feature_norm=288.98\n",
      "Iter 63  time=1.28  loss=7424.68  active=51100 feature_norm=289.18\n",
      "Iter 64  time=1.31  loss=7412.73  active=50798 feature_norm=289.22\n",
      "Iter 65  time=1.32  loss=7401.94  active=50579 feature_norm=289.32\n",
      "Iter 66  time=1.29  loss=7391.55  active=50361 feature_norm=289.25\n",
      "Iter 67  time=1.29  loss=7380.91  active=50194 feature_norm=289.24\n",
      "Iter 68  time=1.29  loss=7370.10  active=49973 feature_norm=289.10\n",
      "Iter 69  time=1.34  loss=7362.31  active=49803 feature_norm=289.06\n",
      "Iter 70  time=1.25  loss=7354.89  active=49592 feature_norm=288.90\n",
      "Iter 71  time=1.30  loss=7346.95  active=49369 feature_norm=288.76\n",
      "Iter 72  time=1.24  loss=7338.61  active=49132 feature_norm=288.50\n",
      "Iter 73  time=1.19  loss=7331.61  active=48891 feature_norm=288.40\n",
      "Iter 74  time=1.24  loss=7324.32  active=48622 feature_norm=288.18\n",
      "Iter 75  time=1.27  loss=7317.50  active=48430 feature_norm=288.06\n",
      "Iter 76  time=1.25  loss=7311.20  active=48223 feature_norm=287.85\n",
      "Iter 77  time=1.25  loss=7305.58  active=48130 feature_norm=287.81\n",
      "Iter 78  time=1.29  loss=7299.86  active=48018 feature_norm=287.65\n",
      "Iter 79  time=1.36  loss=7294.24  active=47852 feature_norm=287.60\n",
      "Iter 80  time=1.59  loss=7289.25  active=47734 feature_norm=287.46\n",
      "Iter 81  time=1.48  loss=7284.71  active=47679 feature_norm=287.44\n",
      "Iter 82  time=1.50  loss=7279.83  active=47557 feature_norm=287.33\n",
      "Iter 83  time=1.28  loss=7275.11  active=47442 feature_norm=287.31\n",
      "Iter 84  time=1.33  loss=7271.23  active=47385 feature_norm=287.20\n",
      "Iter 85  time=1.33  loss=7267.80  active=47366 feature_norm=287.19\n",
      "Iter 86  time=1.26  loss=7264.52  active=47278 feature_norm=287.10\n",
      "Iter 87  time=1.22  loss=7261.55  active=47201 feature_norm=287.10\n",
      "Iter 88  time=1.21  loss=7258.79  active=47115 feature_norm=287.02\n",
      "Iter 89  time=1.27  loss=7256.18  active=47052 feature_norm=287.01\n",
      "Iter 90  time=1.32  loss=7253.67  active=46968 feature_norm=286.94\n",
      "Iter 91  time=1.30  loss=7251.33  active=46903 feature_norm=286.96\n",
      "Iter 92  time=1.31  loss=7249.18  active=46835 feature_norm=286.89\n",
      "Iter 93  time=1.35  loss=7247.05  active=46769 feature_norm=286.89\n",
      "Iter 94  time=1.35  loss=7245.03  active=46684 feature_norm=286.83\n",
      "Iter 95  time=1.31  loss=7243.09  active=46619 feature_norm=286.83\n",
      "Iter 96  time=1.29  loss=7241.29  active=46552 feature_norm=286.77\n",
      "Iter 97  time=1.30  loss=7239.53  active=46496 feature_norm=286.78\n",
      "Iter 98  time=1.30  loss=7237.89  active=46443 feature_norm=286.72\n",
      "Iter 99  time=1.40  loss=7236.40  active=46424 feature_norm=286.74\n",
      "Iter 100 time=1.35  loss=7234.90  active=46352 feature_norm=286.69\n",
      "L-BFGS terminated with the maximum number of iterations\n",
      "Total seconds required for training: 145.213\n",
      "\n",
      "Storing the model\n",
      "Number of active features: 46352 (237977)\n",
      "Number of active attributes: 31923 (207668)\n",
      "Number of active labels: 15 (15)\n",
      "Writing labels\n",
      "Writing attributes\n",
      "Writing feature references for transitions\n",
      "Writing feature references for attributes\n",
      "Seconds required: 0.431\n",
      "\n"
     ]
    },
    {
     "data": {
      "text/plain": [
       "RandomizedSearchCV(cv=3, error_score='raise-deprecating',\n",
       "          estimator=CRF(algorithm='lbfgs', all_possible_states=None,\n",
       "  all_possible_transitions=True, averaging=None, c=None, c1=None, c2=None,\n",
       "  calibration_candidates=None, calibration_eta=None,\n",
       "  calibration_max_trials=None, calibration_rate=None,\n",
       "  calibration_samples=None, delta=None, epsilon=None, error...ne,\n",
       "  num_memories=None, pa_type=None, period=None, trainer_cls=None,\n",
       "  variance=None, verbose=True),\n",
       "          fit_params=None, iid='warn', n_iter=30, n_jobs=-1,\n",
       "          param_distributions={'c1': <scipy.stats._distn_infrastructure.rv_frozen object at 0x1af53e2198>, 'c2': <scipy.stats._distn_infrastructure.rv_frozen object at 0x1af53e2400>},\n",
       "          pre_dispatch='2*n_jobs', random_state=123, refit=True,\n",
       "          return_train_score='warn',\n",
       "          scoring=make_scorer(flat_f1_score, average=weighted), verbose=1)"
      ]
     },
     "execution_count": 36,
     "metadata": {},
     "output_type": "execute_result"
    }
   ],
   "source": [
    "# define fixed parameters and parameters to search\n",
    "crf = CRF(  algorithm='lbfgs',\n",
    "            max_iterations=100,\n",
    "            all_possible_transitions=True,\n",
    "            verbose=True)\n",
    "\n",
    "params_space = {'c1': scipy.stats.expon(scale=0.5),\n",
    "                'c2': scipy.stats.expon(scale=0.05)}\n",
    "\n",
    "# use the same metric for evaluation\n",
    "f1_scorer = make_scorer(metrics.flat_f1_score,\n",
    "                        average='weighted')\n",
    "\n",
    "# search\n",
    "rs = RandomizedSearchCV(crf, params_space,\n",
    "                        cv=3,\n",
    "                        verbose=1,\n",
    "                        n_jobs=-1,\n",
    "                        n_iter=30,\n",
    "                        random_state=123,\n",
    "                        scoring=f1_scorer)\n",
    "\n",
    "rs.fit(trainvalFeatures, trainvalLabels)"
   ]
  },
  {
   "cell_type": "code",
   "execution_count": 37,
   "metadata": {},
   "outputs": [
    {
     "name": "stdout",
     "output_type": "stream",
     "text": [
      "best params: {'c1': 0.04831323984330459, 'c2': 0.028431668831944812}\n",
      "best CV score: 0.9686005027337169\n",
      "model size: 2.83M\n"
     ]
    }
   ],
   "source": [
    "print('best params:', rs.best_params_)\n",
    "print('best CV score:', rs.best_score_)\n",
    "print('model size: {:0.2f}M'.format(rs.best_estimator_.size_ / 1000000))"
   ]
  },
  {
   "cell_type": "code",
   "execution_count": 38,
   "metadata": {},
   "outputs": [
    {
     "data": {
      "text/plain": [
       "CRF(algorithm='lbfgs', all_possible_states=None,\n",
       "  all_possible_transitions=True, averaging=None, c=None,\n",
       "  c1=0.04831323984330459, c2=0.028431668831944812,\n",
       "  calibration_candidates=None, calibration_eta=None,\n",
       "  calibration_max_trials=None, calibration_rate=None,\n",
       "  calibration_samples=None, delta=None, epsilon=None, error_sensitive=None,\n",
       "  gamma=None, keep_tempfiles=None, linesearch=None, max_iterations=100,\n",
       "  max_linesearch=None, min_freq=None, model_filename=None,\n",
       "  num_memories=None, pa_type=None, period=None, trainer_cls=None,\n",
       "  variance=None, verbose=True)"
      ]
     },
     "execution_count": 38,
     "metadata": {},
     "output_type": "execute_result"
    }
   ],
   "source": [
    "crf = rs.best_estimator_\n",
    "crf"
   ]
  },
  {
   "cell_type": "code",
   "execution_count": 39,
   "metadata": {},
   "outputs": [],
   "source": [
    "#crf.fit(trainvalFeatures, trainvalLabels)"
   ]
  },
  {
   "cell_type": "code",
   "execution_count": 40,
   "metadata": {},
   "outputs": [
    {
     "name": "stdout",
     "output_type": "stream",
     "text": [
      "model is saved.\n"
     ]
    }
   ],
   "source": [
    "# SAVE CONDITIONAL RANDOM FIELDS MODEL\n",
    "with open('model/crf05.pickle', 'wb') as outfile:\n",
    "    pickle.dump(crf, outfile, pickle.HIGHEST_PROTOCOL)\n",
    "    print(\"model is saved.\")"
   ]
  },
  {
   "cell_type": "code",
   "execution_count": 41,
   "metadata": {},
   "outputs": [],
   "source": [
    "# LOAD CONDITIONAL RANDOM FIELDS MODEL\n",
    "with open('model/crf05.pickle', 'rb') as infile:\n",
    "    crf = pickle.load(infile)"
   ]
  },
  {
   "cell_type": "code",
   "execution_count": 42,
   "metadata": {},
   "outputs": [
    {
     "name": "stdout",
     "output_type": "stream",
     "text": [
      "### TRAINVAL CLASSIFICATION REPORT ###\n",
      "\n",
      "              precision    recall  f1-score   support\n",
      "\n",
      "    LOCATION       0.99      1.00      1.00      9409\n",
      "        DATE       1.00      1.00      1.00      3103\n",
      "      PERSON       0.99      0.99      0.99     14476\n",
      "ORGANIZATION       0.99      0.99      0.99      9034\n",
      "        TIME       1.00      1.00      1.00       175\n",
      "     PERCENT       1.00      1.00      1.00       617\n",
      "       MONEY       1.00      1.00      1.00       594\n",
      "\n",
      "   micro avg       0.99      0.99      0.99     37408\n",
      "   macro avg       0.99      0.99      0.99     37408\n",
      "\n"
     ]
    }
   ],
   "source": [
    "trainvalPredLabels = crf.predict(trainvalFeatures)\n",
    "\n",
    "print(\"### TRAINVAL CLASSIFICATION REPORT ###\\n\")\n",
    "print(classification_report(trainvalLabels, trainvalPredLabels))"
   ]
  },
  {
   "cell_type": "code",
   "execution_count": 43,
   "metadata": {},
   "outputs": [
    {
     "name": "stdout",
     "output_type": "stream",
     "text": [
      "### TEST CLASSIFICATION REPORT ###\n",
      "\n",
      "              precision    recall  f1-score   support\n",
      "\n",
      "    LOCATION       0.87      0.84      0.86      1091\n",
      "     PERCENT       0.99      0.93      0.96       107\n",
      "ORGANIZATION       0.82      0.78      0.80       862\n",
      "      PERSON       0.88      0.84      0.86      1594\n",
      "       MONEY       0.93      0.76      0.84       113\n",
      "        TIME       0.94      0.74      0.83        23\n",
      "        DATE       0.90      0.88      0.89       364\n",
      "\n",
      "   micro avg       0.87      0.83      0.85      4154\n",
      "   macro avg       0.87      0.83      0.85      4154\n",
      "\n"
     ]
    }
   ],
   "source": [
    "testPredLabels  = crf.predict(testFeatures)\n",
    "\n",
    "print(\"### TEST CLASSIFICATION REPORT ###\\n\")\n",
    "print(classification_report(testLabels, testPredLabels))"
   ]
  },
  {
   "cell_type": "code",
   "execution_count": null,
   "metadata": {},
   "outputs": [],
   "source": []
  }
 ],
 "metadata": {
  "kernelspec": {
   "display_name": "Python 3",
   "language": "python",
   "name": "python3"
  },
  "language_info": {
   "codemirror_mode": {
    "name": "ipython",
    "version": 3
   },
   "file_extension": ".py",
   "mimetype": "text/x-python",
   "name": "python",
   "nbconvert_exporter": "python",
   "pygments_lexer": "ipython3",
   "version": "3.7.3"
  }
 },
 "nbformat": 4,
 "nbformat_minor": 2
}
