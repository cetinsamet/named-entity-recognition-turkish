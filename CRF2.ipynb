{
 "cells": [
  {
   "cell_type": "code",
   "execution_count": 3,
   "metadata": {},
   "outputs": [],
   "source": [
    "# -*- coding: utf-8 -*-\n",
    "# --------------------------------------------------\n",
    "#\n",
    "# CRF2.ipynb\n",
    "#\n",
    "# (1) Token lemmatization using Zemberek TurkishMorphology  (DO NOT lemmatize tokens starting with uppercase letter)\n",
    "# (2) Token features:\n",
    "#     (a) token\n",
    "#     (b) is_first           : is token at the beginning of the sentence?\n",
    "#     (c) is_last            : is token at the end of the sentence?\n",
    "#     (d) is_capitalized     : does token start with a capital letter? \n",
    "#     (e) is_all_capitalized : is all letters of the token capitalized?\n",
    "#     (f) is_capitals_inside : is there any capitalized letter inside the token?\n",
    "#     (g) is_numeric         : is token numeric?\n",
    "#\n",
    "# Written by cetinsamet -*- cetin.samet@metu.edu.tr\n",
    "# May, 2019\n",
    "# --------------------------------------------------"
   ]
  },
  {
   "cell_type": "code",
   "execution_count": 21,
   "metadata": {},
   "outputs": [],
   "source": [
    "from sklearn.model_selection import RandomizedSearchCV\n",
    "from seqeval.metrics import classification_report\n",
    "from sklearn.metrics import make_scorer\n",
    "from sklearn_crfsuite import metrics\n",
    "from sklearn_crfsuite import CRF\n",
    "import pickle\n",
    "import jpype as jp\n",
    "import scipy"
   ]
  },
  {
   "cell_type": "code",
   "execution_count": 5,
   "metadata": {},
   "outputs": [],
   "source": [
    "ZEMBEREK_PATH = 'bin/zemberek-full.jar'\n",
    "\n",
    "# Start the JVM\n",
    "jp.startJVM(jp.getDefaultJVMPath(), '-ea', '-Djava.class.path=%s' % (ZEMBEREK_PATH))"
   ]
  },
  {
   "cell_type": "code",
   "execution_count": 6,
   "metadata": {},
   "outputs": [],
   "source": [
    "TurkishMorphology = jp.JClass('zemberek.morphology.TurkishMorphology')\n",
    "morphology        = TurkishMorphology.createWithDefaults()"
   ]
  },
  {
   "cell_type": "code",
   "execution_count": 7,
   "metadata": {},
   "outputs": [],
   "source": [
    "def readFile(filepath):\n",
    "\n",
    "    text     = []\n",
    "    sentence = []\n",
    "\n",
    "    with open(filepath, 'r') as infile:\n",
    "        for line in infile:\n",
    "            word, _, _, _ = line.strip().split('\\t')\n",
    "\n",
    "            if word == '<S>':\n",
    "                text.append(sentence)\n",
    "                sentence = []\n",
    "                continue\n",
    "\n",
    "            sentence.append(line.strip())\n",
    "\n",
    "    return text"
   ]
  },
  {
   "cell_type": "code",
   "execution_count": 8,
   "metadata": {},
   "outputs": [],
   "source": [
    "trainText = readFile('data/train.txt')\n",
    "validText = readFile('data/valid.txt')\n",
    "testText  = readFile('data/test.txt')"
   ]
  },
  {
   "cell_type": "code",
   "execution_count": 9,
   "metadata": {},
   "outputs": [],
   "source": [
    "def getFeature(word, word_index, sentence):\n",
    "\n",
    "    feature = {'word'              : word,\n",
    "               'is_first'          : word_index == 0,\n",
    "               'is_last'           : word_index == len(sentence) - 1,\n",
    "               \n",
    "               'is_capitalized'    : word[0].upper() == word[0],\n",
    "               'is_all_capitalized': word.upper() == word,\n",
    "               'is_capitals_inside': word[1:].lower() != word[1:],\n",
    "               'is_numeric'        : word.isdigit()\n",
    "              }\n",
    "    \n",
    "    return feature"
   ]
  },
  {
   "cell_type": "code",
   "execution_count": 10,
   "metadata": {},
   "outputs": [],
   "source": [
    "trainFeatures = []\n",
    "trainLabels   = []\n",
    "\n",
    "for sentence in trainText:\n",
    "    SENT     = []\n",
    "    features = []\n",
    "    labels   = []\n",
    "    for token in sentence:\n",
    "        word, _, _, label = token.split('\\t')\n",
    "        \n",
    "        if word[0] == word[0].upper():\n",
    "            root = word\n",
    "        else:\n",
    "            results = morphology.analyze(word).analysisResults\n",
    "            root    = results[0].getLemmas()[0] if results else word\n",
    "        SENT.append(root)\n",
    "        labels.append(label)\n",
    "        \n",
    "    for i, word in enumerate(SENT):\n",
    "        features.append(getFeature(word, i, SENT))\n",
    "    \n",
    "    trainFeatures.append(features)\n",
    "    trainLabels.append(labels)"
   ]
  },
  {
   "cell_type": "code",
   "execution_count": 11,
   "metadata": {},
   "outputs": [],
   "source": [
    "validFeatures = []\n",
    "validLabels   = []\n",
    "\n",
    "for sentence in validText:\n",
    "    SENT     = []\n",
    "    features = []\n",
    "    labels   = []\n",
    "    for token in sentence:\n",
    "        word, _, _, label = token.split('\\t')\n",
    "        \n",
    "        if word[0] == word[0].upper():\n",
    "            root = word\n",
    "        else:\n",
    "            results = morphology.analyze(word).analysisResults\n",
    "            root    = results[0].getLemmas()[0] if results else word\n",
    "        SENT.append(root)\n",
    "        labels.append(label)\n",
    "        \n",
    "    for i, word in enumerate(SENT):\n",
    "        features.append(getFeature(word, i, SENT))\n",
    "    \n",
    "    validFeatures.append(features)\n",
    "    validLabels.append(labels)"
   ]
  },
  {
   "cell_type": "code",
   "execution_count": 12,
   "metadata": {},
   "outputs": [],
   "source": [
    "testFeatures = []\n",
    "testLabels   = []\n",
    "\n",
    "for sentence in testText:\n",
    "    SENT     = []\n",
    "    features = []\n",
    "    labels   = []\n",
    "    for token in sentence:\n",
    "        word, _, _, label = token.split('\\t')\n",
    "        \n",
    "        if word[0] == word[0].upper():\n",
    "            root = word\n",
    "        else:\n",
    "            results = morphology.analyze(word).analysisResults\n",
    "            root    = results[0].getLemmas()[0] if results else word\n",
    "        SENT.append(root)\n",
    "        labels.append(label)\n",
    "        \n",
    "    for i, word in enumerate(SENT):\n",
    "        features.append(getFeature(word, i, SENT))\n",
    "    \n",
    "    testFeatures.append(features)\n",
    "    testLabels.append(labels)"
   ]
  },
  {
   "cell_type": "code",
   "execution_count": 13,
   "metadata": {},
   "outputs": [],
   "source": [
    "trainvalFeatures = trainFeatures + validFeatures\n",
    "trainvalLabels   = trainLabels + validLabels"
   ]
  },
  {
   "cell_type": "code",
   "execution_count": 14,
   "metadata": {},
   "outputs": [
    {
     "name": "stdout",
     "output_type": "stream",
     "text": [
      "Fitting 3 folds for each of 50 candidates, totalling 150 fits\n"
     ]
    },
    {
     "name": "stderr",
     "output_type": "stream",
     "text": [
      "[Parallel(n_jobs=-1)]: Using backend LokyBackend with 4 concurrent workers.\n",
      "[Parallel(n_jobs=-1)]: Done  42 tasks      | elapsed: 25.1min\n",
      "/Users/cetinsamet/anaconda3/lib/python3.7/site-packages/sklearn/externals/joblib/externals/loky/process_executor.py:706: UserWarning: A worker stopped while some jobs were given to the executor. This can be caused by a too short worker timeout or by a memory leak.\n",
      "  \"timeout or by a memory leak.\", UserWarning\n",
      "[Parallel(n_jobs=-1)]: Done 150 out of 150 | elapsed: 109.4min finished\n",
      "loading training data to CRFsuite: 100%|██████████| 32171/32171 [00:02<00:00, 13515.39it/s]\n"
     ]
    },
    {
     "name": "stdout",
     "output_type": "stream",
     "text": [
      "\n",
      "Feature generation\n",
      "type: CRF1d\n",
      "feature.minfreq: 0.000000\n",
      "feature.possible_states: 0\n",
      "feature.possible_transitions: 1\n",
      "0....1....2....3....4....5....6....7....8....9....10\n",
      "Number of features: 34763\n",
      "Seconds required: 0.512\n",
      "\n",
      "L-BFGS optimization\n",
      "c1: 0.014335\n",
      "c2: 0.005420\n",
      "num_memories: 6\n",
      "max_iterations: 100\n",
      "epsilon: 0.000010\n",
      "stop: 10\n",
      "delta: 0.000010\n",
      "linesearch: MoreThuente\n",
      "linesearch.max_iterations: 20\n",
      "\n",
      "Iter 1   time=0.76  loss=822999.79 active=34738 feature_norm=1.00\n",
      "Iter 2   time=1.54  loss=691955.70 active=34689 feature_norm=8.47\n",
      "Iter 3   time=0.38  loss=556603.24 active=33593 feature_norm=7.12\n",
      "Iter 4   time=2.64  loss=461626.12 active=34365 feature_norm=3.39\n",
      "Iter 5   time=0.38  loss=410845.70 active=34653 feature_norm=6.39\n",
      "Iter 6   time=0.38  loss=328087.35 active=34737 feature_norm=5.92\n",
      "Iter 7   time=1.55  loss=234488.13 active=34665 feature_norm=5.44\n",
      "Iter 8   time=0.39  loss=222218.11 active=34665 feature_norm=5.82\n",
      "Iter 9   time=0.40  loss=202895.66 active=34701 feature_norm=6.49\n",
      "Iter 10  time=0.40  loss=185611.40 active=34688 feature_norm=8.43\n",
      "Iter 11  time=0.39  loss=176077.02 active=34725 feature_norm=9.09\n",
      "Iter 12  time=0.38  loss=166957.81 active=34726 feature_norm=10.51\n",
      "Iter 13  time=0.38  loss=158881.73 active=34711 feature_norm=11.83\n",
      "Iter 14  time=0.38  loss=150020.39 active=34683 feature_norm=14.45\n",
      "Iter 15  time=0.39  loss=142979.26 active=34686 feature_norm=17.02\n",
      "Iter 16  time=0.38  loss=134333.52 active=34724 feature_norm=19.28\n",
      "Iter 17  time=0.38  loss=126931.85 active=34674 feature_norm=23.56\n",
      "Iter 18  time=0.38  loss=122780.10 active=34693 feature_norm=26.24\n",
      "Iter 19  time=0.38  loss=117396.70 active=34709 feature_norm=28.77\n",
      "Iter 20  time=0.38  loss=111423.34 active=34644 feature_norm=40.56\n",
      "Iter 21  time=0.38  loss=99845.09 active=34727 feature_norm=43.99\n",
      "Iter 22  time=0.38  loss=96533.15 active=34742 feature_norm=46.90\n",
      "Iter 23  time=0.38  loss=94662.26 active=34754 feature_norm=47.39\n",
      "Iter 24  time=0.38  loss=92599.13 active=34757 feature_norm=47.00\n",
      "Iter 25  time=0.38  loss=90273.36 active=34726 feature_norm=51.62\n",
      "Iter 26  time=0.38  loss=85721.55 active=34749 feature_norm=51.87\n",
      "Iter 27  time=0.38  loss=82188.71 active=34748 feature_norm=54.88\n",
      "Iter 28  time=0.38  loss=77757.92 active=34732 feature_norm=62.21\n",
      "Iter 29  time=0.38  loss=73594.48 active=34737 feature_norm=68.45\n",
      "Iter 30  time=0.40  loss=68253.75 active=34342 feature_norm=78.78\n",
      "Iter 31  time=0.38  loss=62520.45 active=33991 feature_norm=96.00\n",
      "Iter 32  time=0.38  loss=57142.90 active=32361 feature_norm=112.57\n",
      "Iter 33  time=0.39  loss=52138.35 active=32266 feature_norm=133.21\n",
      "Iter 34  time=0.40  loss=46732.18 active=32239 feature_norm=157.99\n",
      "Iter 35  time=0.39  loss=40716.25 active=32111 feature_norm=191.51\n",
      "Iter 36  time=0.39  loss=35700.41 active=32090 feature_norm=227.53\n",
      "Iter 37  time=0.41  loss=31306.96 active=32079 feature_norm=263.74\n",
      "Iter 38  time=0.40  loss=26534.76 active=31999 feature_norm=313.44\n",
      "Iter 39  time=0.39  loss=23051.53 active=31392 feature_norm=354.22\n",
      "Iter 40  time=0.38  loss=19934.89 active=31257 feature_norm=401.16\n",
      "Iter 41  time=0.38  loss=18291.88 active=30569 feature_norm=452.17\n",
      "Iter 42  time=0.38  loss=16035.31 active=30435 feature_norm=474.93\n",
      "Iter 43  time=0.38  loss=14961.68 active=30395 feature_norm=493.90\n",
      "Iter 44  time=0.38  loss=13397.82 active=29553 feature_norm=529.75\n",
      "Iter 45  time=0.38  loss=12641.58 active=29404 feature_norm=561.76\n",
      "Iter 46  time=0.38  loss=11800.55 active=29414 feature_norm=567.14\n",
      "Iter 47  time=0.41  loss=11603.84 active=29420 feature_norm=575.55\n",
      "Iter 48  time=0.38  loss=11416.22 active=29413 feature_norm=583.83\n",
      "Iter 49  time=0.38  loss=11166.42 active=29371 feature_norm=590.08\n",
      "Iter 50  time=0.76  loss=11125.56 active=29386 feature_norm=589.32\n",
      "Iter 51  time=0.38  loss=11041.84 active=29386 feature_norm=589.52\n",
      "Iter 52  time=0.40  loss=10958.91 active=29368 feature_norm=588.10\n",
      "Iter 53  time=0.38  loss=10884.59 active=29320 feature_norm=586.53\n",
      "Iter 54  time=0.38  loss=10785.63 active=28966 feature_norm=583.95\n",
      "Iter 55  time=0.38  loss=10714.17 active=28989 feature_norm=582.79\n",
      "Iter 56  time=0.38  loss=10641.07 active=28972 feature_norm=582.10\n",
      "Iter 57  time=0.38  loss=10567.10 active=28968 feature_norm=582.31\n",
      "Iter 58  time=0.38  loss=10487.37 active=28696 feature_norm=583.72\n",
      "Iter 59  time=0.38  loss=10401.86 active=28678 feature_norm=585.17\n",
      "Iter 60  time=0.41  loss=10311.86 active=28536 feature_norm=587.21\n",
      "Iter 61  time=0.41  loss=10232.77 active=28548 feature_norm=588.20\n",
      "Iter 62  time=0.39  loss=10159.95 active=28525 feature_norm=589.60\n",
      "Iter 63  time=0.39  loss=10098.60 active=28526 feature_norm=590.28\n",
      "Iter 64  time=0.40  loss=10049.28 active=28517 feature_norm=591.20\n",
      "Iter 65  time=0.39  loss=9994.46  active=28400 feature_norm=591.98\n",
      "Iter 66  time=0.39  loss=9958.43  active=28372 feature_norm=592.83\n",
      "Iter 67  time=0.38  loss=9923.05  active=28355 feature_norm=593.09\n",
      "Iter 68  time=0.38  loss=9890.96  active=28322 feature_norm=593.63\n",
      "Iter 69  time=0.39  loss=9861.31  active=28283 feature_norm=593.79\n",
      "Iter 70  time=0.38  loss=9839.17  active=28116 feature_norm=594.00\n",
      "Iter 71  time=0.38  loss=9814.28  active=28044 feature_norm=594.11\n",
      "Iter 72  time=0.38  loss=9795.88  active=27864 feature_norm=594.45\n",
      "Iter 73  time=0.38  loss=9777.31  active=27643 feature_norm=594.56\n",
      "Iter 74  time=0.38  loss=9760.66  active=27511 feature_norm=594.69\n",
      "Iter 75  time=0.40  loss=9744.63  active=27436 feature_norm=594.73\n",
      "Iter 76  time=0.38  loss=9728.24  active=27069 feature_norm=594.90\n",
      "Iter 77  time=0.38  loss=9715.46  active=27060 feature_norm=594.83\n",
      "Iter 78  time=0.38  loss=9704.25  active=27030 feature_norm=594.79\n",
      "Iter 79  time=0.38  loss=9690.47  active=27003 feature_norm=594.81\n",
      "Iter 80  time=0.38  loss=9680.07  active=26988 feature_norm=594.94\n",
      "Iter 81  time=0.38  loss=9669.14  active=27032 feature_norm=595.07\n",
      "Iter 82  time=0.38  loss=9659.54  active=26980 feature_norm=595.45\n",
      "Iter 83  time=0.38  loss=9648.00  active=26942 feature_norm=595.70\n",
      "Iter 84  time=0.39  loss=9638.48  active=26754 feature_norm=596.06\n",
      "Iter 85  time=0.38  loss=9629.38  active=26716 feature_norm=596.41\n",
      "Iter 86  time=0.38  loss=9620.60  active=26680 feature_norm=596.88\n",
      "Iter 87  time=0.39  loss=9612.56  active=26669 feature_norm=597.16\n",
      "Iter 88  time=0.41  loss=9605.39  active=26627 feature_norm=597.53\n",
      "Iter 89  time=0.40  loss=9599.47  active=26606 feature_norm=597.75\n",
      "Iter 90  time=0.43  loss=9593.51  active=26571 feature_norm=598.11\n",
      "Iter 91  time=0.39  loss=9588.20  active=26480 feature_norm=598.28\n",
      "Iter 92  time=0.40  loss=9583.26  active=26448 feature_norm=598.53\n",
      "Iter 93  time=0.39  loss=9579.44  active=26439 feature_norm=598.70\n",
      "Iter 94  time=0.38  loss=9574.03  active=26413 feature_norm=598.94\n",
      "Iter 95  time=0.38  loss=9569.44  active=26400 feature_norm=599.09\n",
      "Iter 96  time=0.38  loss=9564.97  active=26368 feature_norm=599.35\n",
      "Iter 97  time=0.38  loss=9560.29  active=26356 feature_norm=599.49\n",
      "Iter 98  time=0.38  loss=9556.84  active=26328 feature_norm=599.71\n",
      "Iter 99  time=0.38  loss=9553.07  active=26301 feature_norm=599.83\n",
      "Iter 100 time=0.38  loss=9549.58  active=26277 feature_norm=600.05\n",
      "L-BFGS terminated with the maximum number of iterations\n",
      "Total seconds required for training: 43.878\n",
      "\n",
      "Storing the model\n",
      "Number of active features: 26277 (34763)\n",
      "Number of active attributes: 22460 (30805)\n",
      "Number of active labels: 15 (15)\n",
      "Writing labels\n",
      "Writing attributes\n",
      "Writing feature references for transitions\n",
      "Writing feature references for attributes\n",
      "Seconds required: 0.132\n",
      "\n"
     ]
    },
    {
     "data": {
      "text/plain": [
       "RandomizedSearchCV(cv=3, error_score='raise-deprecating',\n",
       "          estimator=CRF(algorithm='lbfgs', all_possible_states=None,\n",
       "  all_possible_transitions=True, averaging=None, c=None, c1=None, c2=None,\n",
       "  calibration_candidates=None, calibration_eta=None,\n",
       "  calibration_max_trials=None, calibration_rate=None,\n",
       "  calibration_samples=None, delta=None, epsilon=None, error...ne,\n",
       "  num_memories=None, pa_type=None, period=None, trainer_cls=None,\n",
       "  variance=None, verbose=True),\n",
       "          fit_params=None, iid='warn', n_iter=50, n_jobs=-1,\n",
       "          param_distributions={'c1': <scipy.stats._distn_infrastructure.rv_frozen object at 0x1af88af4a8>, 'c2': <scipy.stats._distn_infrastructure.rv_frozen object at 0x1af88af5c0>},\n",
       "          pre_dispatch='2*n_jobs', random_state=None, refit=True,\n",
       "          return_train_score='warn',\n",
       "          scoring=make_scorer(flat_f1_score, average=weighted), verbose=1)"
      ]
     },
     "execution_count": 14,
     "metadata": {},
     "output_type": "execute_result"
    }
   ],
   "source": [
    "# define fixed parameters and parameters to search\n",
    "crf = CRF(  algorithm='lbfgs',\n",
    "            max_iterations=100,\n",
    "            all_possible_transitions=True,\n",
    "            verbose=True)\n",
    "\n",
    "params_space = {'c1': scipy.stats.expon(scale=0.5),\n",
    "                'c2': scipy.stats.expon(scale=0.05)}\n",
    "\n",
    "# use the same metric for evaluation\n",
    "f1_scorer = make_scorer(metrics.flat_f1_score,\n",
    "                        average='weighted')\n",
    "\n",
    "# search\n",
    "rs = RandomizedSearchCV(crf, params_space,\n",
    "                        cv=3,\n",
    "                        verbose=1,\n",
    "                        n_jobs=-1,\n",
    "                        n_iter=50,\n",
    "                        scoring=f1_scorer)\n",
    "\n",
    "rs.fit(trainvalFeatures, trainvalLabels)"
   ]
  },
  {
   "cell_type": "code",
   "execution_count": 15,
   "metadata": {},
   "outputs": [
    {
     "name": "stdout",
     "output_type": "stream",
     "text": [
      "best params: {'c1': 0.01433488503417938, 'c2': 0.005420250818904982}\n",
      "best CV score: 0.9604030884996774\n",
      "model size: 1.76M\n"
     ]
    }
   ],
   "source": [
    "# crf = rs.best_estimator_\n",
    "print('best params:', rs.best_params_)\n",
    "print('best CV score:', rs.best_score_)\n",
    "print('model size: {:0.2f}M'.format(rs.best_estimator_.size_ / 1000000))"
   ]
  },
  {
   "cell_type": "code",
   "execution_count": 16,
   "metadata": {},
   "outputs": [],
   "source": [
    "crf = CRF(\n",
    "    algorithm='lbfgs',\n",
    "    c1=0.01433488503417938,  # <-- Found by applying grid search\n",
    "    c2=0.005420250818904982,  # <-- Found by applying grid search\n",
    "    max_iterations=100,\n",
    "    all_possible_transitions=True,\n",
    "    verbose=True)"
   ]
  },
  {
   "cell_type": "code",
   "execution_count": 17,
   "metadata": {},
   "outputs": [
    {
     "name": "stderr",
     "output_type": "stream",
     "text": [
      "loading training data to CRFsuite: 100%|██████████| 32171/32171 [00:02<00:00, 12407.35it/s]\n"
     ]
    },
    {
     "name": "stdout",
     "output_type": "stream",
     "text": [
      "\n",
      "Feature generation\n",
      "type: CRF1d\n",
      "feature.minfreq: 0.000000\n",
      "feature.possible_states: 0\n",
      "feature.possible_transitions: 1\n",
      "0....1....2....3....4....5....6....7....8....9....10\n",
      "Number of features: 34763\n",
      "Seconds required: 0.508\n",
      "\n",
      "L-BFGS optimization\n",
      "c1: 0.014335\n",
      "c2: 0.005420\n",
      "num_memories: 6\n",
      "max_iterations: 100\n",
      "epsilon: 0.000010\n",
      "stop: 10\n",
      "delta: 0.000010\n",
      "linesearch: MoreThuente\n",
      "linesearch.max_iterations: 20\n",
      "\n",
      "Iter 1   time=0.88  loss=822999.79 active=34738 feature_norm=1.00\n",
      "Iter 2   time=1.59  loss=691955.70 active=34689 feature_norm=8.47\n",
      "Iter 3   time=0.38  loss=556603.24 active=33593 feature_norm=7.12\n",
      "Iter 4   time=3.15  loss=461626.12 active=34365 feature_norm=3.39\n",
      "Iter 5   time=0.40  loss=410845.70 active=34653 feature_norm=6.39\n",
      "Iter 6   time=0.43  loss=328087.35 active=34737 feature_norm=5.92\n",
      "Iter 7   time=1.85  loss=234488.13 active=34665 feature_norm=5.44\n",
      "Iter 8   time=0.48  loss=222218.11 active=34665 feature_norm=5.82\n",
      "Iter 9   time=0.50  loss=202895.66 active=34701 feature_norm=6.49\n",
      "Iter 10  time=0.47  loss=185611.40 active=34688 feature_norm=8.43\n",
      "Iter 11  time=0.47  loss=176077.02 active=34725 feature_norm=9.09\n",
      "Iter 12  time=0.47  loss=166957.81 active=34726 feature_norm=10.51\n",
      "Iter 13  time=0.48  loss=158881.73 active=34711 feature_norm=11.83\n",
      "Iter 14  time=0.51  loss=150020.39 active=34683 feature_norm=14.45\n",
      "Iter 15  time=0.48  loss=142979.26 active=34686 feature_norm=17.02\n",
      "Iter 16  time=0.50  loss=134333.52 active=34724 feature_norm=19.28\n",
      "Iter 17  time=0.43  loss=126931.85 active=34674 feature_norm=23.56\n",
      "Iter 18  time=0.52  loss=122780.10 active=34693 feature_norm=26.24\n",
      "Iter 19  time=0.45  loss=117396.70 active=34709 feature_norm=28.77\n",
      "Iter 20  time=0.40  loss=111423.34 active=34644 feature_norm=40.56\n",
      "Iter 21  time=0.38  loss=99845.09 active=34727 feature_norm=43.99\n",
      "Iter 22  time=0.37  loss=96533.15 active=34742 feature_norm=46.90\n",
      "Iter 23  time=0.41  loss=94662.26 active=34754 feature_norm=47.39\n",
      "Iter 24  time=0.37  loss=92599.13 active=34757 feature_norm=47.00\n",
      "Iter 25  time=0.37  loss=90273.36 active=34726 feature_norm=51.62\n",
      "Iter 26  time=0.38  loss=85721.55 active=34749 feature_norm=51.87\n",
      "Iter 27  time=0.38  loss=82188.71 active=34748 feature_norm=54.88\n",
      "Iter 28  time=0.39  loss=77757.92 active=34732 feature_norm=62.21\n",
      "Iter 29  time=0.39  loss=73594.48 active=34737 feature_norm=68.45\n",
      "Iter 30  time=0.39  loss=68253.75 active=34342 feature_norm=78.78\n",
      "Iter 31  time=0.40  loss=62520.45 active=33991 feature_norm=96.00\n",
      "Iter 32  time=0.40  loss=57142.90 active=32361 feature_norm=112.57\n",
      "Iter 33  time=0.41  loss=52138.35 active=32266 feature_norm=133.21\n",
      "Iter 34  time=0.40  loss=46732.18 active=32239 feature_norm=157.99\n",
      "Iter 35  time=0.41  loss=40716.25 active=32111 feature_norm=191.51\n",
      "Iter 36  time=0.41  loss=35700.41 active=32090 feature_norm=227.53\n",
      "Iter 37  time=0.40  loss=31306.96 active=32079 feature_norm=263.74\n",
      "Iter 38  time=0.40  loss=26534.76 active=31999 feature_norm=313.44\n",
      "Iter 39  time=0.39  loss=23051.53 active=31392 feature_norm=354.22\n",
      "Iter 40  time=0.39  loss=19934.89 active=31257 feature_norm=401.16\n",
      "Iter 41  time=0.38  loss=18291.88 active=30569 feature_norm=452.17\n",
      "Iter 42  time=0.40  loss=16035.31 active=30435 feature_norm=474.93\n",
      "Iter 43  time=0.39  loss=14961.68 active=30395 feature_norm=493.90\n",
      "Iter 44  time=0.37  loss=13397.82 active=29553 feature_norm=529.75\n",
      "Iter 45  time=0.37  loss=12641.58 active=29404 feature_norm=561.76\n",
      "Iter 46  time=0.37  loss=11800.55 active=29414 feature_norm=567.14\n",
      "Iter 47  time=0.37  loss=11603.84 active=29420 feature_norm=575.55\n",
      "Iter 48  time=0.38  loss=11416.22 active=29413 feature_norm=583.83\n",
      "Iter 49  time=0.38  loss=11166.42 active=29371 feature_norm=590.08\n",
      "Iter 50  time=0.77  loss=11125.56 active=29386 feature_norm=589.32\n",
      "Iter 51  time=0.39  loss=11041.84 active=29386 feature_norm=589.52\n",
      "Iter 52  time=0.38  loss=10958.91 active=29368 feature_norm=588.10\n",
      "Iter 53  time=0.39  loss=10884.59 active=29320 feature_norm=586.53\n",
      "Iter 54  time=0.42  loss=10785.63 active=28966 feature_norm=583.95\n",
      "Iter 55  time=0.41  loss=10714.17 active=28989 feature_norm=582.79\n",
      "Iter 56  time=0.44  loss=10641.07 active=28972 feature_norm=582.10\n",
      "Iter 57  time=0.47  loss=10567.10 active=28968 feature_norm=582.31\n",
      "Iter 58  time=0.48  loss=10487.37 active=28696 feature_norm=583.72\n",
      "Iter 59  time=0.45  loss=10401.86 active=28678 feature_norm=585.17\n",
      "Iter 60  time=0.47  loss=10311.86 active=28536 feature_norm=587.21\n",
      "Iter 61  time=0.41  loss=10232.77 active=28548 feature_norm=588.20\n",
      "Iter 62  time=0.42  loss=10159.95 active=28525 feature_norm=589.60\n",
      "Iter 63  time=0.39  loss=10098.60 active=28526 feature_norm=590.28\n",
      "Iter 64  time=0.38  loss=10049.28 active=28517 feature_norm=591.20\n",
      "Iter 65  time=0.40  loss=9994.46  active=28400 feature_norm=591.98\n",
      "Iter 66  time=0.38  loss=9958.43  active=28372 feature_norm=592.83\n",
      "Iter 67  time=0.39  loss=9923.05  active=28355 feature_norm=593.09\n",
      "Iter 68  time=0.37  loss=9890.96  active=28322 feature_norm=593.63\n",
      "Iter 69  time=0.41  loss=9861.31  active=28283 feature_norm=593.79\n",
      "Iter 70  time=0.38  loss=9839.17  active=28116 feature_norm=594.00\n",
      "Iter 71  time=0.41  loss=9814.28  active=28044 feature_norm=594.11\n",
      "Iter 72  time=0.38  loss=9795.88  active=27864 feature_norm=594.45\n",
      "Iter 73  time=0.42  loss=9777.31  active=27643 feature_norm=594.56\n",
      "Iter 74  time=0.39  loss=9760.66  active=27511 feature_norm=594.69\n",
      "Iter 75  time=0.40  loss=9744.63  active=27436 feature_norm=594.73\n",
      "Iter 76  time=0.38  loss=9728.24  active=27069 feature_norm=594.90\n",
      "Iter 77  time=0.38  loss=9715.46  active=27060 feature_norm=594.83\n",
      "Iter 78  time=0.40  loss=9704.25  active=27030 feature_norm=594.79\n",
      "Iter 79  time=0.38  loss=9690.47  active=27003 feature_norm=594.81\n",
      "Iter 80  time=0.38  loss=9680.07  active=26988 feature_norm=594.94\n",
      "Iter 81  time=0.38  loss=9669.14  active=27032 feature_norm=595.07\n",
      "Iter 82  time=0.39  loss=9659.54  active=26980 feature_norm=595.45\n",
      "Iter 83  time=0.38  loss=9648.00  active=26942 feature_norm=595.70\n",
      "Iter 84  time=0.40  loss=9638.48  active=26754 feature_norm=596.06\n",
      "Iter 85  time=0.39  loss=9629.38  active=26716 feature_norm=596.41\n",
      "Iter 86  time=0.40  loss=9620.60  active=26680 feature_norm=596.88\n",
      "Iter 87  time=0.46  loss=9612.56  active=26669 feature_norm=597.16\n",
      "Iter 88  time=0.41  loss=9605.39  active=26627 feature_norm=597.53\n",
      "Iter 89  time=0.40  loss=9599.47  active=26606 feature_norm=597.75\n",
      "Iter 90  time=0.40  loss=9593.51  active=26571 feature_norm=598.11\n",
      "Iter 91  time=0.39  loss=9588.20  active=26480 feature_norm=598.28\n",
      "Iter 92  time=0.38  loss=9583.26  active=26448 feature_norm=598.53\n",
      "Iter 93  time=0.43  loss=9579.44  active=26439 feature_norm=598.70\n",
      "Iter 94  time=0.40  loss=9574.03  active=26413 feature_norm=598.94\n",
      "Iter 95  time=0.40  loss=9569.44  active=26400 feature_norm=599.09\n",
      "Iter 96  time=0.40  loss=9564.97  active=26368 feature_norm=599.35\n",
      "Iter 97  time=0.38  loss=9560.29  active=26356 feature_norm=599.49\n",
      "Iter 98  time=0.40  loss=9556.84  active=26328 feature_norm=599.71\n",
      "Iter 99  time=0.38  loss=9553.07  active=26301 feature_norm=599.83\n",
      "Iter 100 time=0.37  loss=9549.58  active=26277 feature_norm=600.05\n",
      "L-BFGS terminated with the maximum number of iterations\n",
      "Total seconds required for training: 46.921\n",
      "\n",
      "Storing the model\n",
      "Number of active features: 26277 (34763)\n",
      "Number of active attributes: 22460 (30805)\n",
      "Number of active labels: 15 (15)\n",
      "Writing labels\n",
      "Writing attributes\n",
      "Writing feature references for transitions\n",
      "Writing feature references for attributes\n",
      "Seconds required: 0.130\n",
      "\n"
     ]
    },
    {
     "data": {
      "text/plain": [
       "CRF(algorithm='lbfgs', all_possible_states=None,\n",
       "  all_possible_transitions=True, averaging=None, c=None,\n",
       "  c1=0.01433488503417938, c2=0.005420250818904982,\n",
       "  calibration_candidates=None, calibration_eta=None,\n",
       "  calibration_max_trials=None, calibration_rate=None,\n",
       "  calibration_samples=None, delta=None, epsilon=None, error_sensitive=None,\n",
       "  gamma=None, keep_tempfiles=None, linesearch=None, max_iterations=100,\n",
       "  max_linesearch=None, min_freq=None, model_filename=None,\n",
       "  num_memories=None, pa_type=None, period=None, trainer_cls=None,\n",
       "  variance=None, verbose=True)"
      ]
     },
     "execution_count": 17,
     "metadata": {},
     "output_type": "execute_result"
    }
   ],
   "source": [
    "crf.fit(trainvalFeatures, trainvalLabels)"
   ]
  },
  {
   "cell_type": "code",
   "execution_count": 22,
   "metadata": {},
   "outputs": [
    {
     "name": "stdout",
     "output_type": "stream",
     "text": [
      "model is saved.\n"
     ]
    }
   ],
   "source": [
    "# SAVE CONDITIONAL RANDOM FIELDS MODEL\n",
    "with open('model/crf2.pickle', 'wb') as outfile:\n",
    "    pickle.dump(crf, outfile, pickle.HIGHEST_PROTOCOL)\n",
    "    print(\"model is saved.\")"
   ]
  },
  {
   "cell_type": "code",
   "execution_count": 23,
   "metadata": {},
   "outputs": [],
   "source": [
    "# LOAD CONDITIONAL RANDOM FIELDS MODEL\n",
    "with open('model/crf2.pickle', 'rb') as infile:\n",
    "    crf = pickle.load(infile)"
   ]
  },
  {
   "cell_type": "code",
   "execution_count": 24,
   "metadata": {},
   "outputs": [
    {
     "name": "stdout",
     "output_type": "stream",
     "text": [
      "### TRAIN CLASSIFICATION REPORT ###\n",
      "\n",
      "              precision    recall  f1-score   support\n",
      "\n",
      "    LOCATION       0.98      0.99      0.98      7762\n",
      "ORGANIZATION       0.97      0.97      0.97      7073\n",
      "      PERSON       0.98      0.98      0.98     11079\n",
      "        DATE       0.78      0.77      0.78      2553\n",
      "     PERCENT       1.00      1.00      1.00       521\n",
      "       MONEY       0.97      0.94      0.95       484\n",
      "        TIME       0.99      1.00      1.00       156\n",
      "\n",
      "   micro avg       0.96      0.96      0.96     29628\n",
      "   macro avg       0.96      0.96      0.96     29628\n",
      "\n"
     ]
    }
   ],
   "source": [
    "trainPredLabels = crf.predict(trainFeatures)\n",
    "\n",
    "print(\"### TRAIN CLASSIFICATION REPORT ###\\n\")\n",
    "print(classification_report(trainLabels, trainPredLabels))"
   ]
  },
  {
   "cell_type": "code",
   "execution_count": 25,
   "metadata": {},
   "outputs": [
    {
     "name": "stdout",
     "output_type": "stream",
     "text": [
      "### VAL CLASSIFICATION REPORT ###\n",
      "\n",
      "              precision    recall  f1-score   support\n",
      "\n",
      "       MONEY       0.97      0.98      0.98       110\n",
      "ORGANIZATION       0.98      0.97      0.98      1961\n",
      "    LOCATION       0.98      0.98      0.98      1647\n",
      "      PERSON       0.99      0.98      0.98      3397\n",
      "     PERCENT       1.00      1.00      1.00        96\n",
      "        DATE       0.77      0.77      0.77       550\n",
      "        TIME       1.00      1.00      1.00        19\n",
      "\n",
      "   micro avg       0.97      0.97      0.97      7780\n",
      "   macro avg       0.97      0.97      0.97      7780\n",
      "\n"
     ]
    }
   ],
   "source": [
    "validPredLabels = crf.predict(validFeatures)\n",
    "\n",
    "print(\"### VAL CLASSIFICATION REPORT ###\\n\")\n",
    "print(classification_report(validLabels, validPredLabels))"
   ]
  },
  {
   "cell_type": "code",
   "execution_count": 26,
   "metadata": {},
   "outputs": [
    {
     "name": "stdout",
     "output_type": "stream",
     "text": [
      "### TEST CLASSIFICATION REPORT ###\n",
      "\n",
      "              precision    recall  f1-score   support\n",
      "\n",
      "ORGANIZATION       0.79      0.76      0.77       862\n",
      "    LOCATION       0.90      0.76      0.82      1091\n",
      "      PERSON       0.89      0.76      0.82      1594\n",
      "     PERCENT       0.98      0.93      0.96       107\n",
      "        DATE       0.68      0.67      0.67       364\n",
      "       MONEY       0.87      0.72      0.79       113\n",
      "        TIME       0.78      0.30      0.44        23\n",
      "\n",
      "   micro avg       0.85      0.75      0.80      4154\n",
      "   macro avg       0.86      0.75      0.80      4154\n",
      "\n"
     ]
    }
   ],
   "source": [
    "testPredLabels  = crf.predict(testFeatures)\n",
    "\n",
    "print(\"### TEST CLASSIFICATION REPORT ###\\n\")\n",
    "print(classification_report(testLabels, testPredLabels))"
   ]
  },
  {
   "cell_type": "code",
   "execution_count": null,
   "metadata": {},
   "outputs": [],
   "source": [
    "# Shutting down the JVM\n",
    "jp.shutdownJVM()"
   ]
  }
 ],
 "metadata": {
  "kernelspec": {
   "display_name": "Python 3",
   "language": "python",
   "name": "python3"
  },
  "language_info": {
   "codemirror_mode": {
    "name": "ipython",
    "version": 3
   },
   "file_extension": ".py",
   "mimetype": "text/x-python",
   "name": "python",
   "nbconvert_exporter": "python",
   "pygments_lexer": "ipython3",
   "version": "3.7.3"
  }
 },
 "nbformat": 4,
 "nbformat_minor": 2
}
