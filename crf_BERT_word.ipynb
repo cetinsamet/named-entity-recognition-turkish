{
 "cells": [
  {
   "cell_type": "code",
   "execution_count": 1,
   "metadata": {},
   "outputs": [],
   "source": [
    "# -*- coding: utf-8 -*-\n",
    "# --------------------------------------------------\n",
    "#\n",
    "# conditionalRandomFields1.ipynb\n",
    "#\n",
    "# using only BERT's token features\n",
    "#\n",
    "# Written by cetinsamet -*- cetin.samet@metu.edu.tr\n",
    "# April, 2019\n",
    "# --------------------------------------------------"
   ]
  },
  {
   "cell_type": "code",
   "execution_count": 2,
   "metadata": {},
   "outputs": [],
   "source": [
    "from seqeval.metrics import classification_report\n",
    "from sklearn_crfsuite import CRF\n",
    "import scipy.io as sio\n",
    "from tqdm import tqdm\n",
    "import numpy as np\n",
    "import pickle"
   ]
  },
  {
   "cell_type": "code",
   "execution_count": 3,
   "metadata": {},
   "outputs": [],
   "source": [
    "def readFile(filepath):\n",
    "    \n",
    "        text     = []\n",
    "        sentence = []\n",
    "\n",
    "        with open(filepath, 'r') as infile:\n",
    "            for line in infile:\n",
    "                word, _, _, _ = line.strip().split('\\t')\n",
    "\n",
    "                if word == '<S>':\n",
    "                    text.append(sentence)\n",
    "                    sentence = []\n",
    "                    continue\n",
    "\n",
    "                sentence.append(line.strip())\n",
    "\n",
    "        return text"
   ]
  },
  {
   "cell_type": "code",
   "execution_count": 4,
   "metadata": {},
   "outputs": [],
   "source": [
    "trainText = readFile('data/train.txt')\n",
    "validText = readFile('data/valid.txt')\n",
    "testText  = readFile('data/test.txt') "
   ]
  },
  {
   "cell_type": "code",
   "execution_count": 5,
   "metadata": {},
   "outputs": [],
   "source": [
    "features  = sio.loadmat('data/features.mat')"
   ]
  },
  {
   "cell_type": "code",
   "execution_count": null,
   "metadata": {
    "scrolled": true
   },
   "outputs": [],
   "source": [
    "trainFeatures = []\n",
    "trainLabels   = []\n",
    "\n",
    "feats         = []\n",
    "labels        = []\n",
    "idx = 0\n",
    "for sentence in tqdm(trainText):\n",
    "    for token in sentence:\n",
    "        _, _, _, label = token.split('\\t')\n",
    "        d = dict(enumerate(features['trainTokenFeatures'][idx, :]))\n",
    "        d = {str(k): v for k, v in d.items()}\n",
    "        feats.append(d)\n",
    "        idx += 1\n",
    "        labels.append(label)\n",
    "        \n",
    "    trainFeatures.append(feats)\n",
    "    trainLabels.append(labels)\n",
    "    feats, labels = [], []"
   ]
  },
  {
   "cell_type": "code",
   "execution_count": null,
   "metadata": {},
   "outputs": [],
   "source": [
    "validFeatures = []\n",
    "validLabels   = []\n",
    "\n",
    "feats         = []\n",
    "labels        = []\n",
    "idx = 0\n",
    "for sentence in tqdm(validText):\n",
    "    for token in sentence:\n",
    "        _, _, _, label = token.split('\\t')\n",
    "        d = dict(enumerate(features['validTokenFeatures'][idx, :]))\n",
    "        d = {str(k): v for k, v in d.items()}\n",
    "        feats.append(d)\n",
    "        idx += 1\n",
    "        labels.append(label)\n",
    "        \n",
    "    validFeatures.append(feats)\n",
    "    validLabels.append(labels)\n",
    "    feats, labels = [], []"
   ]
  },
  {
   "cell_type": "code",
   "execution_count": null,
   "metadata": {},
   "outputs": [],
   "source": [
    "testFeatures = []\n",
    "testLabels   = []\n",
    "\n",
    "feats         = []\n",
    "labels        = []\n",
    "idx = 0\n",
    "for sentence in tqdm(testText):\n",
    "    for token in sentence:\n",
    "        _, _, _, label = token.split('\\t')\n",
    "        d = dict(enumerate(features['testTokenFeatures'][idx, :]))\n",
    "        d = {str(k): v for k, v in d.items()}\n",
    "        feats.append(d)\n",
    "        idx += 1\n",
    "        labels.append(label)\n",
    "        \n",
    "    testFeatures.append(feats)\n",
    "    testLabels.append(labels)\n",
    "    feats, labels = [], []"
   ]
  },
  {
   "cell_type": "code",
   "execution_count": 16,
   "metadata": {},
   "outputs": [],
   "source": [
    "trainvalFeatures = trainFeatures + validFeatures\n",
    "trainvalLabels   = trainLabels   + validLabels"
   ]
  },
  {
   "cell_type": "code",
   "execution_count": 4,
   "metadata": {},
   "outputs": [],
   "source": [
    "crf = CRF(\n",
    "    algorithm='lbfgs',\n",
    "    c1=0.1,\n",
    "    c2=0.1,\n",
    "    max_iterations=100,\n",
    "    all_possible_transitions=True)"
   ]
  },
  {
   "cell_type": "code",
   "execution_count": null,
   "metadata": {},
   "outputs": [],
   "source": [
    "crf.fit(trainvalFeatures, trainvalLabels)"
   ]
  },
  {
   "cell_type": "code",
   "execution_count": null,
   "metadata": {},
   "outputs": [],
   "source": [
    "# SAVE CONDITIONAL RANDOM FIELDS MODEL\n",
    "with open('model/conditional_random_fields1.pickle', 'wb') as outfile:\n",
    "    pickle.dump(crf, outfile, pickle.HIGHEST_PROTOCOL)\n",
    "    print(\"Conditional Random Fields model is saved.\")"
   ]
  },
  {
   "cell_type": "code",
   "execution_count": 13,
   "metadata": {},
   "outputs": [],
   "source": [
    "# LOAD CONDITIONAL RANDOM FIELDS MODEL\n",
    "with open('model/conditional_random_fields1.pickle', 'rb') as infile:\n",
    "    crf = pickle.load(infile)"
   ]
  },
  {
   "cell_type": "code",
   "execution_count": null,
   "metadata": {},
   "outputs": [],
   "source": [
    "trainPredLabels = crf.predict(trainFeatures)\n",
    "\n",
    "print(\"### TRAIN CLASSIFICATION REPORT ###\\n\")\n",
    "print(classification_report(trainLabels, trainPredLabels))"
   ]
  },
  {
   "cell_type": "code",
   "execution_count": null,
   "metadata": {},
   "outputs": [],
   "source": [
    "validPredLabels = crf.predict(validFeatures)\n",
    "\n",
    "print(\"### VAL CLASSIFICATION REPORT ###\\n\")\n",
    "print(classification_report(validLabels, validPredLabels))"
   ]
  },
  {
   "cell_type": "code",
   "execution_count": 14,
   "metadata": {},
   "outputs": [
    {
     "name": "stdout",
     "output_type": "stream",
     "text": [
      "### TEST CLASSIFICATION REPORT ###\n",
      "\n",
      "              precision    recall  f1-score   support\n",
      "\n",
      "ORGANIZATION       0.58      0.29      0.39       862\n",
      "    LOCATION       0.74      0.54      0.62      1091\n",
      "        DATE       0.79      0.63      0.70       364\n",
      "      PERSON       0.61      0.34      0.43      1594\n",
      "     PERCENT       1.00      0.94      0.97       107\n",
      "        TIME       0.87      0.87      0.87        23\n",
      "       MONEY       0.86      0.66      0.75       113\n",
      "\n",
      "   micro avg       0.69      0.43      0.53      4154\n",
      "   macro avg       0.67      0.43      0.52      4154\n",
      "\n"
     ]
    }
   ],
   "source": [
    "testPredLabels  = crf.predict(testFeatures)\n",
    "\n",
    "print(\"### TEST CLASSIFICATION REPORT ###\\n\")\n",
    "print(classification_report(testLabels, testPredLabels))"
   ]
  }
 ],
 "metadata": {
  "kernelspec": {
   "display_name": "Python 3",
   "language": "python",
   "name": "python3"
  },
  "language_info": {
   "codemirror_mode": {
    "name": "ipython",
    "version": 3
   },
   "file_extension": ".py",
   "mimetype": "text/x-python",
   "name": "python",
   "nbconvert_exporter": "python",
   "pygments_lexer": "ipython3",
   "version": "3.6.5"
  }
 },
 "nbformat": 4,
 "nbformat_minor": 2
}
