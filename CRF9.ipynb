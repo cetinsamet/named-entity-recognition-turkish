{
 "cells": [
  {
   "cell_type": "code",
   "execution_count": 1,
   "metadata": {},
   "outputs": [],
   "source": [
    "# -*- coding: utf-8 -*-\n",
    "# --------------------------------------------------\n",
    "#\n",
    "# CRF9.ipynb\n",
    "#\n",
    "# Token features:\n",
    "#     (a) token (surface form)\n",
    "#     (b) is_first           : is token at the beginning of the sentence?\n",
    "#     (c) is_last            : is token at the end of the sentence?\n",
    "#     (d) is_capitalized     : does token start with a capital letter? \n",
    "#     (e) is_all_capitalized : is all letters of the token capitalized?\n",
    "#     (f) is_capitals_inside : is there any capitalized letter inside the token?\n",
    "#     (g) is_numeric         : is token numeric?\n",
    "#     (h) is_numeric_inside  : is numeric characters inside the token?\n",
    "#     (i) is_alphanumeric    : is token alphanumeric?\n",
    "#     (j) prefix-1           : first letter of the token\n",
    "#     (k) suffix-1           : last letter of the token\n",
    "#     (l) prefix-2           : first two letters of the token\n",
    "#     (m) suffix-2           : last two letters of the token\n",
    "#     (n) prefix-3           : first three letters of the token\n",
    "#     (o) suffix-3           : last three letters of the token\n",
    "#     (p) prefix-4           : first four letters of the token\n",
    "#     (q) suffix-4           : last four letters of the token\n",
    "#     (r) next-token         : following token\n",
    "#     (s) prev-token         : preceding token\n",
    "#     (t) 2-next-token       : second following token\n",
    "#     (u) 2-prev-token       : second preceding token\n",
    "#     (v) pos                : part-of-speech tag\n",
    "#\n",
    "# Written by cetinsamet -*- cetin.samet@metu.edu.tr\n",
    "# May, 2019\n",
    "# --------------------------------------------------"
   ]
  },
  {
   "cell_type": "code",
   "execution_count": 2,
   "metadata": {},
   "outputs": [],
   "source": [
    "from sklearn.model_selection import RandomizedSearchCV\n",
    "from seqeval.metrics import classification_report\n",
    "from sklearn.metrics import make_scorer\n",
    "from sklearn_crfsuite import metrics\n",
    "from sklearn_crfsuite import CRF\n",
    "from tqdm import tqdm\n",
    "import jpype as jp\n",
    "import pickle\n",
    "import scipy"
   ]
  },
  {
   "cell_type": "code",
   "execution_count": 3,
   "metadata": {},
   "outputs": [],
   "source": [
    "ZEMBEREK_PATH = 'bin/zemberek-full.jar'\n",
    "\n",
    "# Start the JVM\n",
    "jp.startJVM(jp.getDefaultJVMPath(), '-ea', '-Djava.class.path=%s' % (ZEMBEREK_PATH))"
   ]
  },
  {
   "cell_type": "code",
   "execution_count": 4,
   "metadata": {},
   "outputs": [],
   "source": [
    "TurkishMorphology = jp.JClass('zemberek.morphology.TurkishMorphology')\n",
    "morphology        = TurkishMorphology.createWithDefaults()"
   ]
  },
  {
   "cell_type": "code",
   "execution_count": 5,
   "metadata": {},
   "outputs": [],
   "source": [
    "def readFile(filepath):\n",
    "\n",
    "    text     = []\n",
    "    sentence = []\n",
    "\n",
    "    with open(filepath, 'r') as infile:\n",
    "        for line in infile:\n",
    "            word, _, _, _ = line.strip().split('\\t')\n",
    "\n",
    "            if word == '<S>':\n",
    "                text.append(sentence)\n",
    "                sentence = []\n",
    "                continue\n",
    "\n",
    "            sentence.append(line.strip())\n",
    "\n",
    "    return text"
   ]
  },
  {
   "cell_type": "code",
   "execution_count": 6,
   "metadata": {},
   "outputs": [],
   "source": [
    "trainText = readFile('data/train.txt')\n",
    "validText = readFile('data/valid.txt')\n",
    "testText  = readFile('data/test.txt')"
   ]
  },
  {
   "cell_type": "code",
   "execution_count": 7,
   "metadata": {},
   "outputs": [],
   "source": [
    "def getFeature(token, token_index, sentence, pos):\n",
    "\n",
    "    feature = {'token'             : token,\n",
    "               'is_first'          : token_index == 0,\n",
    "               'is_last'           : token_index == len(sentence) - 1,\n",
    "               \n",
    "               'is_capitalized'    : token[0].upper() == token[0],\n",
    "               'is_all_capitalized': token.upper() == token,\n",
    "               'is_capitals_inside': token[1:].lower() != token[1:],\n",
    "               'is_numeric'        : token.isdigit(),\n",
    "               'is_numeric_inside' : any([c.isdigit() for c in token]),\n",
    "               'is_alphanumeric'   : token.isalnum(),\n",
    "               \n",
    "               'prefix-1'          : token[0],\n",
    "               'suffix-1'          : token[-1],\n",
    "               \n",
    "               'prefix-2'          : '' if len(token) < 2  else token[:2],\n",
    "               'suffix-2'          : '' if len(token) < 2  else token[-2:],\n",
    "\n",
    "               'prefix-3'          : '' if len(token) < 3  else token[:3],\n",
    "               'suffix-3'          : '' if len(token) < 3  else token[-3:],\n",
    "                \n",
    "               'prefix-4'          : '' if len(token) < 4  else token[:4],\n",
    "               'suffix-4'          : '' if len(token) < 4  else token[-4:],\n",
    "               \n",
    "               'prev-token'        : '' if token_index == 0 else sentence[token_index - 1],\n",
    "               'next-token'        : '' if token_index == len(sentence) - 1 else sentence[token_index + 1],\n",
    "               \n",
    "               '2-prev-token'      : '' if token_index <= 1 else sentence[token_index - 2],\n",
    "               '2-next-token'      : '' if token_index >= len(sentence) - 2 else sentence[token_index + 2],\n",
    "               \n",
    "               'pos'               : pos, \n",
    "              }\n",
    "    \n",
    "    return feature"
   ]
  },
  {
   "cell_type": "code",
   "execution_count": 8,
   "metadata": {},
   "outputs": [
    {
     "name": "stderr",
     "output_type": "stream",
     "text": [
      "100%|██████████| 25736/25736 [10:37<00:00, 40.37it/s]  \n"
     ]
    }
   ],
   "source": [
    "trainFeatures = []\n",
    "trainLabels   = []\n",
    "\n",
    "for sentence_ in tqdm(trainText):\n",
    "\n",
    "    sentence = [token.split('\\t')[0] for token in sentence_]\n",
    "    labels   = [token.split('\\t')[-1] for token in sentence_]\n",
    "    features = []\n",
    "    \n",
    "    sentence_str = ' '.join(sentence)\n",
    "    analysis = morphology.analyzeAndDisambiguate(sentence_str).bestAnalysis()\n",
    "    \n",
    "    for i, word in enumerate(sentence):\n",
    "        features.append(getFeature(word, i, sentence, analysis[i].getPos().shortForm))\n",
    "    \n",
    "    trainFeatures.append(features)\n",
    "    trainLabels.append(labels)"
   ]
  },
  {
   "cell_type": "code",
   "execution_count": 9,
   "metadata": {},
   "outputs": [
    {
     "name": "stderr",
     "output_type": "stream",
     "text": [
      "100%|██████████| 6435/6435 [04:10<00:00, 25.67it/s]\n"
     ]
    }
   ],
   "source": [
    "validFeatures = []\n",
    "validLabels   = []\n",
    "\n",
    "for sentence_ in tqdm(validText):\n",
    "    \n",
    "    sentence = [token.split('\\t')[0] for token in sentence_]\n",
    "    labels   = [token.split('\\t')[-1] for token in sentence_]\n",
    "    features = []\n",
    "    \n",
    "    sentence_str = ' '.join(sentence)\n",
    "    analysis = morphology.analyzeAndDisambiguate(sentence_str).bestAnalysis()\n",
    "    \n",
    "    for i, word in enumerate(sentence):\n",
    "\n",
    "        features.append(getFeature(word, i, sentence, analysis[i].getPos().shortForm))\n",
    "    \n",
    "    validFeatures.append(features)\n",
    "    validLabels.append(labels)"
   ]
  },
  {
   "cell_type": "code",
   "execution_count": 10,
   "metadata": {},
   "outputs": [
    {
     "name": "stderr",
     "output_type": "stream",
     "text": [
      "100%|██████████| 3328/3328 [01:27<00:00, 37.99it/s] \n"
     ]
    }
   ],
   "source": [
    "testFeatures = []\n",
    "testLabels   = []\n",
    "\n",
    "for sentence_ in tqdm(testText):\n",
    "    \n",
    "    sentence = [token.split('\\t')[0] for token in sentence_]\n",
    "    labels   = [token.split('\\t')[-1] for token in sentence_]\n",
    "    features = []\n",
    "    \n",
    "    sentence_str = ' '.join(sentence)\n",
    "    analysis = morphology.analyzeAndDisambiguate(sentence_str).bestAnalysis()\n",
    "    \n",
    "    for i, word in enumerate(sentence):\n",
    "        features.append(getFeature(word, i, sentence, analysis[i].getPos().shortForm))\n",
    "    \n",
    "    testFeatures.append(features)\n",
    "    testLabels.append(labels)"
   ]
  },
  {
   "cell_type": "code",
   "execution_count": 11,
   "metadata": {},
   "outputs": [],
   "source": [
    "trainvalFeatures = trainFeatures + validFeatures\n",
    "trainvalLabels   = trainLabels   + validLabels"
   ]
  },
  {
   "cell_type": "code",
   "execution_count": 14,
   "metadata": {},
   "outputs": [
    {
     "name": "stdout",
     "output_type": "stream",
     "text": [
      "Fitting 3 folds for each of 30 candidates, totalling 90 fits\n"
     ]
    },
    {
     "name": "stderr",
     "output_type": "stream",
     "text": [
      "[Parallel(n_jobs=-1)]: Using backend LokyBackend with 4 concurrent workers.\n",
      "/Users/cetinsamet/anaconda3/lib/python3.7/site-packages/sklearn/externals/joblib/externals/loky/process_executor.py:706: UserWarning: A worker stopped while some jobs were given to the executor. This can be caused by a too short worker timeout or by a memory leak.\n",
      "  \"timeout or by a memory leak.\", UserWarning\n",
      "[Parallel(n_jobs=-1)]: Done  42 tasks      | elapsed: 158.8min\n",
      "[Parallel(n_jobs=-1)]: Done  90 out of  90 | elapsed: 361.9min finished\n",
      "loading training data to CRFsuite: 100%|██████████| 32171/32171 [00:37<00:00, 846.61it/s] \n"
     ]
    },
    {
     "name": "stdout",
     "output_type": "stream",
     "text": [
      "\n",
      "Feature generation\n",
      "type: CRF1d\n",
      "feature.minfreq: 0.000000\n",
      "feature.possible_states: 0\n",
      "feature.possible_transitions: 1\n",
      "0....1....2....3....4....5....6....7....8....9....10\n",
      "Number of features: 450815\n",
      "Seconds required: 7.291\n",
      "\n",
      "L-BFGS optimization\n",
      "c1: 0.048313\n",
      "c2: 0.028432\n",
      "num_memories: 6\n",
      "max_iterations: 100\n",
      "epsilon: 0.000010\n",
      "stop: 10\n",
      "delta: 0.000010\n",
      "linesearch: MoreThuente\n",
      "linesearch.max_iterations: 20\n",
      "\n",
      "Iter 1   time=3.12  loss=639643.01 active=449993 feature_norm=1.00\n",
      "Iter 2   time=3.11  loss=443201.51 active=446235 feature_norm=4.42\n",
      "Iter 3   time=1.56  loss=363049.67 active=429690 feature_norm=3.87\n",
      "Iter 4   time=5.93  loss=321010.83 active=429390 feature_norm=2.61\n",
      "Iter 5   time=1.45  loss=271637.21 active=440989 feature_norm=3.52\n",
      "Iter 6   time=1.46  loss=229306.66 active=447038 feature_norm=3.35\n",
      "Iter 7   time=1.48  loss=220139.69 active=443867 feature_norm=3.53\n",
      "Iter 8   time=1.48  loss=198955.43 active=448788 feature_norm=3.65\n",
      "Iter 9   time=1.49  loss=191322.64 active=447972 feature_norm=3.90\n",
      "Iter 10  time=1.34  loss=150159.18 active=436766 feature_norm=6.25\n",
      "Iter 11  time=1.30  loss=127327.00 active=412973 feature_norm=8.75\n",
      "Iter 12  time=1.48  loss=112540.31 active=389752 feature_norm=10.21\n",
      "Iter 13  time=1.47  loss=100818.16 active=357647 feature_norm=11.75\n",
      "Iter 14  time=1.50  loss=89361.80 active=335883 feature_norm=13.34\n",
      "Iter 15  time=1.49  loss=71784.83 active=307194 feature_norm=18.19\n",
      "Iter 16  time=2.82  loss=66680.83 active=298267 feature_norm=20.72\n",
      "Iter 17  time=1.50  loss=62059.70 active=297397 feature_norm=21.71\n",
      "Iter 18  time=1.59  loss=58198.64 active=292969 feature_norm=23.92\n",
      "Iter 19  time=1.50  loss=53510.66 active=286466 feature_norm=27.13\n",
      "Iter 20  time=1.52  loss=48421.44 active=275214 feature_norm=31.08\n",
      "Iter 21  time=1.54  loss=42606.35 active=261081 feature_norm=38.33\n",
      "Iter 22  time=1.58  loss=38185.73 active=254107 feature_norm=43.66\n",
      "Iter 23  time=1.64  loss=33931.84 active=247035 feature_norm=50.69\n",
      "Iter 24  time=1.50  loss=29436.64 active=235411 feature_norm=60.64\n",
      "Iter 25  time=1.49  loss=26382.14 active=223754 feature_norm=71.32\n",
      "Iter 26  time=1.53  loss=23378.16 active=217546 feature_norm=76.39\n",
      "Iter 27  time=1.48  loss=21068.59 active=211853 feature_norm=83.83\n",
      "Iter 28  time=1.52  loss=18523.81 active=206202 feature_norm=92.95\n",
      "Iter 29  time=1.52  loss=15842.75 active=197854 feature_norm=105.45\n",
      "Iter 30  time=4.39  loss=15557.69 active=194639 feature_norm=109.27\n",
      "Iter 31  time=1.45  loss=13508.49 active=188414 feature_norm=118.35\n",
      "Iter 32  time=1.58  loss=12209.60 active=187022 feature_norm=126.14\n",
      "Iter 33  time=3.38  loss=11457.35 active=180694 feature_norm=137.35\n",
      "Iter 34  time=1.65  loss=9709.71  active=179839 feature_norm=146.69\n",
      "Iter 35  time=1.68  loss=8913.75  active=171240 feature_norm=153.04\n",
      "Iter 36  time=1.61  loss=7825.59  active=159672 feature_norm=165.76\n",
      "Iter 37  time=1.61  loss=7423.62  active=156329 feature_norm=175.42\n",
      "Iter 38  time=1.70  loss=6897.29  active=156341 feature_norm=179.16\n",
      "Iter 39  time=1.78  loss=6583.18  active=150646 feature_norm=182.44\n",
      "Iter 40  time=1.90  loss=6134.34  active=142307 feature_norm=187.21\n",
      "Iter 41  time=3.26  loss=6048.50  active=137543 feature_norm=188.80\n",
      "Iter 42  time=1.53  loss=5737.73  active=136929 feature_norm=189.85\n",
      "Iter 43  time=1.64  loss=5595.43  active=135985 feature_norm=190.26\n",
      "Iter 44  time=1.63  loss=5393.01  active=132194 feature_norm=193.38\n",
      "Iter 45  time=1.67  loss=5297.02  active=129101 feature_norm=193.79\n",
      "Iter 46  time=1.66  loss=5208.38  active=129240 feature_norm=194.39\n",
      "Iter 47  time=1.74  loss=5137.09  active=125059 feature_norm=195.04\n",
      "Iter 48  time=1.69  loss=5040.85  active=122356 feature_norm=195.79\n",
      "Iter 49  time=1.59  loss=4957.08  active=115796 feature_norm=196.43\n",
      "Iter 50  time=1.55  loss=4892.58  active=110710 feature_norm=197.48\n",
      "Iter 51  time=1.53  loss=4835.18  active=108421 feature_norm=198.35\n",
      "Iter 52  time=1.62  loss=4782.24  active=106636 feature_norm=199.27\n",
      "Iter 53  time=1.64  loss=4739.45  active=104122 feature_norm=200.22\n",
      "Iter 54  time=1.65  loss=4701.39  active=101712 feature_norm=200.84\n",
      "Iter 55  time=1.71  loss=4665.35  active=99659 feature_norm=201.45\n",
      "Iter 56  time=1.68  loss=4635.81  active=97683 feature_norm=201.85\n",
      "Iter 57  time=1.65  loss=4609.89  active=96397 feature_norm=202.33\n",
      "Iter 58  time=1.63  loss=4584.95  active=94915 feature_norm=202.63\n",
      "Iter 59  time=1.62  loss=4563.20  active=93512 feature_norm=203.04\n",
      "Iter 60  time=1.65  loss=4544.16  active=92153 feature_norm=203.30\n",
      "Iter 61  time=1.57  loss=4526.83  active=90917 feature_norm=203.65\n",
      "Iter 62  time=1.54  loss=4511.00  active=89604 feature_norm=203.77\n",
      "Iter 63  time=1.55  loss=4496.67  active=88389 feature_norm=204.04\n",
      "Iter 64  time=1.52  loss=4483.89  active=87362 feature_norm=204.13\n",
      "Iter 65  time=1.39  loss=4472.11  active=86629 feature_norm=204.27\n",
      "Iter 66  time=1.43  loss=4460.16  active=85737 feature_norm=204.20\n",
      "Iter 67  time=1.53  loss=4448.21  active=84940 feature_norm=204.21\n",
      "Iter 68  time=1.53  loss=4437.10  active=84110 feature_norm=204.04\n",
      "Iter 69  time=1.67  loss=4426.87  active=83549 feature_norm=204.00\n",
      "Iter 70  time=1.72  loss=4416.82  active=82825 feature_norm=203.74\n",
      "Iter 71  time=1.66  loss=4407.16  active=82288 feature_norm=203.58\n",
      "Iter 72  time=1.63  loss=4398.46  active=81748 feature_norm=203.28\n",
      "Iter 73  time=1.78  loss=4390.60  active=81408 feature_norm=203.12\n",
      "Iter 74  time=1.90  loss=4382.89  active=80840 feature_norm=202.79\n",
      "Iter 75  time=1.85  loss=4375.11  active=80320 feature_norm=202.55\n",
      "Iter 76  time=1.91  loss=4368.17  active=79692 feature_norm=202.21\n",
      "Iter 77  time=1.81  loss=4361.77  active=79318 feature_norm=202.03\n",
      "Iter 78  time=1.90  loss=4355.82  active=78690 feature_norm=201.75\n",
      "Iter 79  time=1.91  loss=4350.04  active=78348 feature_norm=201.64\n",
      "Iter 80  time=1.83  loss=4345.17  active=77939 feature_norm=201.41\n",
      "Iter 81  time=1.90  loss=4340.28  active=77674 feature_norm=201.37\n",
      "Iter 82  time=1.76  loss=4335.57  active=77289 feature_norm=201.21\n",
      "Iter 83  time=1.85  loss=4330.92  active=77031 feature_norm=201.15\n",
      "Iter 84  time=1.79  loss=4326.55  active=76601 feature_norm=200.99\n",
      "Iter 85  time=1.89  loss=4322.70  active=76474 feature_norm=200.97\n",
      "Iter 86  time=1.92  loss=4319.07  active=76209 feature_norm=200.86\n",
      "Iter 87  time=1.97  loss=4315.66  active=76020 feature_norm=200.84\n",
      "Iter 88  time=1.97  loss=4312.42  active=75737 feature_norm=200.75\n",
      "Iter 89  time=1.90  loss=4309.40  active=75561 feature_norm=200.76\n",
      "Iter 90  time=1.85  loss=4306.58  active=75314 feature_norm=200.69\n",
      "Iter 91  time=1.95  loss=4303.86  active=75158 feature_norm=200.71\n",
      "Iter 92  time=1.86  loss=4301.29  active=74901 feature_norm=200.67\n",
      "Iter 93  time=1.82  loss=4298.94  active=74729 feature_norm=200.70\n",
      "Iter 94  time=1.75  loss=4296.76  active=74523 feature_norm=200.65\n",
      "Iter 95  time=1.68  loss=4294.62  active=74378 feature_norm=200.69\n",
      "Iter 96  time=1.63  loss=4292.65  active=74222 feature_norm=200.68\n",
      "Iter 97  time=1.61  loss=4290.72  active=74041 feature_norm=200.71\n",
      "Iter 98  time=1.56  loss=4288.99  active=73812 feature_norm=200.69\n",
      "Iter 99  time=1.64  loss=4287.24  active=73644 feature_norm=200.74\n",
      "Iter 100 time=1.60  loss=4285.51  active=73498 feature_norm=200.73\n",
      "L-BFGS terminated with the maximum number of iterations\n",
      "Total seconds required for training: 179.079\n",
      "\n",
      "Storing the model\n",
      "Number of active features: 73498 (450815)\n",
      "Number of active attributes: 48590 (370728)\n",
      "Number of active labels: 15 (15)\n",
      "Writing labels\n",
      "Writing attributes\n",
      "Writing feature references for transitions\n",
      "Writing feature references for attributes\n",
      "Seconds required: 0.585\n",
      "\n"
     ]
    },
    {
     "data": {
      "text/plain": [
       "RandomizedSearchCV(cv=3, error_score='raise-deprecating',\n",
       "          estimator=CRF(algorithm='lbfgs', all_possible_states=None,\n",
       "  all_possible_transitions=True, averaging=None, c=None, c1=None, c2=None,\n",
       "  calibration_candidates=None, calibration_eta=None,\n",
       "  calibration_max_trials=None, calibration_rate=None,\n",
       "  calibration_samples=None, delta=None, epsilon=None, error...ne,\n",
       "  num_memories=None, pa_type=None, period=None, trainer_cls=None,\n",
       "  variance=None, verbose=True),\n",
       "          fit_params=None, iid='warn', n_iter=30, n_jobs=-1,\n",
       "          param_distributions={'c1': <scipy.stats._distn_infrastructure.rv_frozen object at 0x1b09834518>, 'c2': <scipy.stats._distn_infrastructure.rv_frozen object at 0x1b098347f0>},\n",
       "          pre_dispatch='2*n_jobs', random_state=123, refit=True,\n",
       "          return_train_score='warn',\n",
       "          scoring=make_scorer(flat_f1_score, average=weighted), verbose=1)"
      ]
     },
     "execution_count": 14,
     "metadata": {},
     "output_type": "execute_result"
    }
   ],
   "source": [
    "# define fixed parameters and parameters to search\n",
    "crf = CRF(  algorithm='lbfgs',\n",
    "            max_iterations=100,\n",
    "            all_possible_transitions=True,\n",
    "            verbose=True)\n",
    "\n",
    "params_space = {'c1': scipy.stats.expon(scale=0.5),\n",
    "                'c2': scipy.stats.expon(scale=0.05)}\n",
    "\n",
    "# use the same metric for evaluation\n",
    "f1_scorer = make_scorer(metrics.flat_f1_score,\n",
    "                        average='weighted')\n",
    "\n",
    "# search\n",
    "rs = RandomizedSearchCV(crf, params_space,\n",
    "                        cv=3,\n",
    "                        verbose=1,\n",
    "                        n_jobs=-1,\n",
    "                        n_iter=30,\n",
    "                        random_state=123,\n",
    "                        scoring=f1_scorer)\n",
    "\n",
    "rs.fit(trainvalFeatures, trainvalLabels)"
   ]
  },
  {
   "cell_type": "code",
   "execution_count": 15,
   "metadata": {},
   "outputs": [
    {
     "name": "stdout",
     "output_type": "stream",
     "text": [
      "best params: {'c1': 0.04831323984330459, 'c2': 0.028431668831944812}\n",
      "best CV score: 0.9728854782825247\n",
      "model size: 4.36M\n"
     ]
    }
   ],
   "source": [
    "print('best params:', rs.best_params_)\n",
    "print('best CV score:', rs.best_score_)\n",
    "print('model size: {:0.2f}M'.format(rs.best_estimator_.size_ / 1000000))"
   ]
  },
  {
   "cell_type": "code",
   "execution_count": 16,
   "metadata": {},
   "outputs": [
    {
     "data": {
      "text/plain": [
       "CRF(algorithm='lbfgs', all_possible_states=None,\n",
       "  all_possible_transitions=True, averaging=None, c=None,\n",
       "  c1=0.04831323984330459, c2=0.028431668831944812,\n",
       "  calibration_candidates=None, calibration_eta=None,\n",
       "  calibration_max_trials=None, calibration_rate=None,\n",
       "  calibration_samples=None, delta=None, epsilon=None, error_sensitive=None,\n",
       "  gamma=None, keep_tempfiles=None, linesearch=None, max_iterations=100,\n",
       "  max_linesearch=None, min_freq=None, model_filename=None,\n",
       "  num_memories=None, pa_type=None, period=None, trainer_cls=None,\n",
       "  variance=None, verbose=True)"
      ]
     },
     "execution_count": 16,
     "metadata": {},
     "output_type": "execute_result"
    }
   ],
   "source": [
    "crf = rs.best_estimator_\n",
    "crf"
   ]
  },
  {
   "cell_type": "code",
   "execution_count": 17,
   "metadata": {},
   "outputs": [],
   "source": [
    "#crf.fit(trainvalFeatures, trainvalLabels)"
   ]
  },
  {
   "cell_type": "code",
   "execution_count": 18,
   "metadata": {},
   "outputs": [
    {
     "name": "stdout",
     "output_type": "stream",
     "text": [
      "model is saved.\n"
     ]
    }
   ],
   "source": [
    "# SAVE CONDITIONAL RANDOM FIELDS MODEL\n",
    "with open('model/crf09.pickle', 'wb') as outfile:\n",
    "    pickle.dump(crf, outfile, pickle.HIGHEST_PROTOCOL)\n",
    "    print(\"model is saved.\")"
   ]
  },
  {
   "cell_type": "code",
   "execution_count": 19,
   "metadata": {},
   "outputs": [],
   "source": [
    "# LOAD CONDITIONAL RANDOM FIELDS MODEL\n",
    "with open('model/crf09.pickle', 'rb') as infile:\n",
    "    crf = pickle.load(infile)"
   ]
  },
  {
   "cell_type": "code",
   "execution_count": 20,
   "metadata": {},
   "outputs": [
    {
     "name": "stdout",
     "output_type": "stream",
     "text": [
      "### TRAINVAL CLASSIFICATION REPORT ###\n",
      "\n",
      "              precision    recall  f1-score   support\n",
      "\n",
      "       MONEY       1.00      1.00      1.00       594\n",
      "ORGANIZATION       1.00      1.00      1.00      9034\n",
      "      PERSON       1.00      1.00      1.00     14476\n",
      "    LOCATION       1.00      1.00      1.00      9409\n",
      "        DATE       1.00      1.00      1.00      3103\n",
      "     PERCENT       1.00      1.00      1.00       617\n",
      "        TIME       1.00      1.00      1.00       175\n",
      "\n",
      "   micro avg       1.00      1.00      1.00     37408\n",
      "   macro avg       1.00      1.00      1.00     37408\n",
      "\n"
     ]
    }
   ],
   "source": [
    "trainvalPredLabels = crf.predict(trainvalFeatures)\n",
    "\n",
    "print(\"### TRAINVAL CLASSIFICATION REPORT ###\\n\")\n",
    "print(classification_report(trainvalLabels, trainvalPredLabels))"
   ]
  },
  {
   "cell_type": "code",
   "execution_count": 21,
   "metadata": {},
   "outputs": [
    {
     "name": "stdout",
     "output_type": "stream",
     "text": [
      "### TEST CLASSIFICATION REPORT ###\n",
      "\n",
      "              precision    recall  f1-score   support\n",
      "\n",
      "ORGANIZATION       0.86      0.79      0.83       862\n",
      "       MONEY       0.93      0.76      0.84       113\n",
      "      PERSON       0.91      0.87      0.89      1594\n",
      "    LOCATION       0.90      0.88      0.89      1091\n",
      "     PERCENT       0.99      0.93      0.96       107\n",
      "        DATE       0.91      0.89      0.90       364\n",
      "        TIME       0.90      0.83      0.86        23\n",
      "\n",
      "   micro avg       0.90      0.85      0.88      4154\n",
      "   macro avg       0.90      0.85      0.88      4154\n",
      "\n"
     ]
    }
   ],
   "source": [
    "testPredLabels  = crf.predict(testFeatures)\n",
    "\n",
    "print(\"### TEST CLASSIFICATION REPORT ###\\n\")\n",
    "print(classification_report(testLabels, testPredLabels))"
   ]
  },
  {
   "cell_type": "code",
   "execution_count": 22,
   "metadata": {},
   "outputs": [],
   "source": [
    "# Shutting down the JVM\n",
    "jp.shutdownJVM()"
   ]
  },
  {
   "cell_type": "code",
   "execution_count": null,
   "metadata": {},
   "outputs": [],
   "source": []
  }
 ],
 "metadata": {
  "kernelspec": {
   "display_name": "Python 3",
   "language": "python",
   "name": "python3"
  },
  "language_info": {
   "codemirror_mode": {
    "name": "ipython",
    "version": 3
   },
   "file_extension": ".py",
   "mimetype": "text/x-python",
   "name": "python",
   "nbconvert_exporter": "python",
   "pygments_lexer": "ipython3",
   "version": "3.7.3"
  }
 },
 "nbformat": 4,
 "nbformat_minor": 2
}
